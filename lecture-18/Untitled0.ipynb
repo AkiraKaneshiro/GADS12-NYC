{
 "metadata": {
  "name": "",
  "signature": "sha256:c17bbc464e88771062817232904c8c7cfb011539a6604195403fac437b252cd9"
 },
 "nbformat": 3,
 "nbformat_minor": 0,
 "worksheets": []
}