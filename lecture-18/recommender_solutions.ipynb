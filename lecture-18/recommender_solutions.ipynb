{
 "metadata": {
  "name": "",
  "signature": "sha256:e3faf029a549d40b4534d42987089ec6b0004b74c8d0396d0c5dbdc227ee7607"
 },
 "nbformat": 3,
 "nbformat_minor": 0,
 "worksheets": [
  {
   "cells": [
    {
     "cell_type": "markdown",
     "metadata": {},
     "source": [
      "# Joke Recommendation\n",
      "\n",
      "__Jester__ was a joke recommendation system built at UC Berkeley. The data set consists of >4 MM continuous ratings (-10 to 10) of 150 jokes from more than 70,000 users collected between 1999 and 2012.\n",
      "\n",
      "The dataset can be downloade from http://eigentaste.berkeley.edu/dataset/. I have prepared a subset of the dataset for use with the `mrec` library."
     ]
    },
    {
     "cell_type": "code",
     "collapsed": false,
     "input": [
      "from mrec import load_sparse_matrix\n",
      "# The data set consists of user_id, joke_id, rating triples.\n",
      "# TODO inspect joke-ratings.csv\n",
      "# I have split the data set into training and testing sets. The testing set only contains\n",
      "# jokes that the user liked (rated >4).\n",
      "# We will load the training and testing sets into sparse matrices using the load_sparse_matrix utility function.\n",
      "train = load_sparse_matrix('tsv', 'splits/joke-ratings.csv.10000.train.0')\n",
      "test = load_sparse_matrix('tsv', 'splits/joke-ratings.csv.10000.test.0')"
     ],
     "language": "python",
     "metadata": {},
     "outputs": [],
     "prompt_number": 1
    },
    {
     "cell_type": "code",
     "collapsed": false,
     "input": [
      "# TODO print the shapes of the training and test sets\n",
      "print test.shape"
     ],
     "language": "python",
     "metadata": {},
     "outputs": [
      {
       "output_type": "stream",
       "stream": "stdout",
       "text": [
        "(140, 150)\n"
       ]
      }
     ],
     "prompt_number": 2
    },
    {
     "cell_type": "code",
     "collapsed": false,
     "input": [
      "# The actual jokes are stored in a separate file.\n",
      "# TODO inspect jokes.txt\n",
      "# Let's load the jokes so that we can inspect the recommendations.\n",
      "ids_to_jokes = {}\n",
      "f = 'jokes.txt'\n",
      "with open(f, 'r') as fin:\n",
      "    for i, l in enumerate(fin.readlines()):\n",
      "        print i+1, l\n",
      "        ids_to_jokes[i+1] = l"
     ],
     "language": "python",
     "metadata": {},
     "outputs": [
      {
       "output_type": "stream",
       "stream": "stdout",
       "text": [
        "1 A man visits the doctor. The doctor says, &quot;I have bad news for you. You have cancer and Alzheimer&#039;s disease&quot;.The man replies, &quot;Well, thank God I don&#039;t have cancer!&quot;\r\n",
        "\n",
        "2 This couple had an excellent relationship going until one day he came home from work to find his girlfriend packing. He asked her why she was leaving him and she told him that she had heard awful things about him. &quot;What could they possibly have said to make you move out?&quot;&quot;They told me that you were a pedophile.&quot;He replied, &quot;That&#039;s an awfully big word for a ten year old.&quot;\r\n",
        "\n",
        "3 Q. What&#039;s 200 feet long and has 4 teeth?A. The front row at a Willie Nelson concert.\r\n",
        "\n",
        "4 Q. What&#039;s the difference between a man and a toilet?A. A toilet doesn&#039;t follow you around after you use it.\r\n",
        "\n",
        "5 Q. What&#039;s O. J. Simpson&#039;s web address?A. Slash, slash, backslash, slash, slash, escape.\r\n",
        "\n",
        "6 Bill and Hillary Clinton are on a trip back to Arkansas. They&#039;re almost out of gas, so Bill pulls into a service station on the outskirts of town. The attendant runs out of the station to serve them when Hillary realizes it&#039;s an old boyfriend from high school. She and the attendant chat as he gases up their car and cleans the windows. Then they all say goodbye.As Bill pulls the car onto the road, he turns to Hillary and says, &quot;Now aren&#039;t you glad you married me and not him? You could&#039;ve been the wife of a grease monkey!&quot;To which Hillary replied, &quot;No, Bill. If I would have married him, you&#039;d be pumping gas and he would be the President!&quot;\r\n",
        "\n",
        "7 How many feminists does it take to screw in a light bulb?That&#039;s not funny.\r\n",
        "\n",
        "8 Q. Did you hear about the dyslexic devil worshiper?A. He sold his soul to Santa.\r\n",
        "\n",
        "9 A country guy goes into a city bar that has a dress code, and the maitre d&#039; demands he wear a tie. Discouraged, the guy goes to his car to sulk when inspiration strikes: He&#039;s got jumper cables in the trunk! So he wraps them around his neck, sort of like a string tie (a bulky string tie to be sure) and returns to the bar. The maitre d&#039; is reluctant, but says to the guy, &quot;Okay, you&#039;re a pretty resourceful fellow, you can come in... but just don&#039;t start anything!&quot;\r\n",
        "\n",
        "10 Two cannibals are eating a clown. One turns to the other and says:&quot;Does this taste funny to you?&quot;\r\n",
        "\n",
        "11 Q. What do a hurricane, a tornado, and a redneck divorce all have in common?A. Someone&#039;s going to lose a trailer...\r\n",
        "\n",
        "12 A guy stood over his tee shot for what seemed an eternity, looking up, looking down, measuring the distance, figuring the wind direction and speed, and driving his partner nuts.Finally his exasperated partner says, &quot;What the hell is taking so long? Hit the goddamn ball!&quot; The guy answers, &quot;My wife is up there watching me from the clubhouse. I want to make this a perfect shot.&quot; &quot;Well, hell, man, you don&#039;t stand a snowball&#039;s chance in hell of hitting her from here!&quot;\r\n",
        "\n",
        "13 They asked the Japanese visitor if they have elections in his country.&quot;Every morning,&quot; he answers.\r\n",
        "\n",
        "14 The father was very anxious to marry off his only daughter so he wanted to impress her date. &quot;Do you like to screw?&quot; he asks. &quot;Huh?&quot; replied the surprised first date. &quot;My daughter, she loves to screw and she&#039;s good at it: you and her should go screw,&quot; the father carefully explained. Now very interested, the boy replied, &quot;Yes, sir.&quot; Minutes later the girl came down the stairs, kissed her father goodbye and the couple left. After only a few minutes she reappeared, furious, dress torn, hair a mess and screamed, &quot;Dammit, Daddy, it&#039;s the TWIST, get it straight!&quot;\r\n",
        "\n",
        "15 Q: What did the blind person say when given some matzah?A: Who the hell wrote this?\r\n",
        "\n",
        "16 Q. What is orange and sounds like a parrot?A. A carrot.\r\n",
        "\n",
        "17 How many men does it take to screw in a light bulb?One. Men will screw anything.\r\n",
        "\n",
        "18 A dog walks into Western Union and asks the clerk to send a telegram. He fills out a form on which he writes down the telegram he wishes to send: &quot;Bow wow wow, bow wow wow.&quot;The clerk says, &quot;You can add another &#039;Bow wow&#039; for the same price.&quot;The dog responded, &quot;Now wouldn&#039;t that sound a little silly?&quot;\r\n",
        "\n",
        "19 Q: If a person who speaks three languages is called &quot;trilingual,&quot; and a person who speaks two languages is called &quot;bilingual,&quot; what do you call a person who only speaks one language?A: American!\r\n",
        "\n",
        "20 What&#039;s the difference between a Macintosh and an Etch-a-Sketch?You don&#039;t have to shake the Mac to clear the screen.\r\n",
        "\n",
        "21 What&#039;s the difference between a used tire and 365 used condoms?One&#039;s a Goodyear, the other&#039;s a great year.\r\n",
        "\n",
        "22 A duck walks into a pharmacy and asks for a condom. The pharmacist asks, &quot;Would you like me to stick that on your bill?&quot; The duck says:&quot;What kind of duck do you think I am!&quot;\r\n",
        "\n",
        "23 Q: What is the Australian word for a boomerang that won&#039;t come back?A: A stick.\r\n",
        "\n",
        "24 What do you get when you run over a parakeet with a lawnmower?Shredded tweet.\r\n",
        "\n",
        "25 Two kindergarten girls were talking outside: one said, &quot;You won&#039;t believe what I saw on the patio yesterday....a condom!&quot;The second girl asked, &quot;What&#039;s a patio?&quot;\r\n",
        "\n",
        "26 A guy walks into a bar and sits down next to an extremely gorgeous woman. The first thing he notices about her though, are her pants. They were skin-tight, high-waisted and had no obvious mechanism (zipper, buttons or velcro) for opening them. After several minutes of puzzling over how she got the pants up over her hips, he finally worked up the nerve to ask her. &quot;Excuse me miss, but how do you get into your pants?&quot; &quot;Well,&quot; she replied, &quot;you can start by buying me a drink.&quot;\r\n",
        "\n",
        "27 Bill Clinton returns from a vacation in Arkansas and walks down the steps of Air Force One with two pigs under his arms. At the bottom of the steps, he says to the honor guardsman, &quot;These are genuine Arkansas Razor-Back Hogs. I got this one for Chelsea and this one for Hillary.&quot;The guardsman replies, &quot;Nice trade, Sir.&quot;\r\n",
        "\n",
        "28 A mechanical engineer, an electrical engineer, and a software engineer from Microsoft were driving through the desert when the car broke down.The mechanical engineer said: &quot;It seems to be a problem with the fuel injection system, why don&#039;t we pop the hood and I&#039;ll take a look at it?&quot; To which the electrical engineer replied, &quot;No, I think it&#039;s just a loose ground wire, I&#039;ll get out and take a look.&quot;Then the software engineer from Microsoft jumps in. &quot;No, no, no. If we just close up all the windows, get out, wait a few minutes, get back in, and then reopen the windows everything will work fine.&quot;\r\n",
        "\n",
        "29 An old Scotsman is sitting with a younger Scottish gentleman and says to the boy, &quot;Ah, lad, look out that window. You see that stone wall there? I built it with me own bare hands, placed every stone meself. But do they call me MacGregor the wall builder? No!&quot;He takes a few sips of his beer then says, &quot;Aye, and look out on that lake and eye that beautiful pier. I built it meself, laid every board and hammered each nail, but do they call me MacGregor the pier builder? No!&quot;He continues: &quot;And lad, you see that road? That too I build with me own bare hands. Laid every inch of pavement meself, but do they call MacGregor the road builder? No!&quot;Again he returns to his beer for a few sips, and then says, &quot;Agh, but you screw one sheep...&quot;\r\n",
        "\n",
        "30 Q: What&#039;s the difference between a lawyer and a plumber? A: A plumber works to unclog the system.\r\n",
        "\n",
        "31 President Clinton looks up from his desk in the Oval Office to see one of his aides nervously approach him.&quot;What is it?&quot; exclaims the President.&quot;It&#039;s this Abortion Bill, Mr. President. What do you want to do about it?&quot; the aide asks.&quot;Just go ahead and pay it,&quot; responds the President.\r\n",
        "\n",
        "32 A man arrives at the gates of heaven. St. Peter asks, &quot;Religion?&quot; The man says, &quot;Methodist.&quot; St. Peter looks down his list, and says, &quot;Go to room 24, but be very quiet as you pass room 8.&quot;Another man arrives at the gates of heaven. &quot;Religion?&quot; &quot;Baptist.&quot; &quot;Go to room 18, but be very quiet as you pass room 8.&quot;A third man arrives at the gates. &quot;Religion?&quot; &quot;Jewish.&quot; &quot;Go to room 11, but be very quiet as you pass room 8.&quot; The man says, &quot;I can understand there being different rooms for different religions, but why must I be quiet when I pass room 8?&quot; St. Peter tells him, &quot;Well, the Catholics are in room 8, and they think they&#039;re the only ones here.&quot;\r\n",
        "\n",
        "33 What do you call an American in the finals of the world cup?&quot;Hey beer man!&quot;\r\n",
        "\n",
        "34 Out in the backwoods of some midwestern state, little Johnny arrives at school an hour late.Teacher: &quot;Why are you so late, John?&quot;Johny: &quot;My big brother got shot in the ass.&quot;(The teacher corrects his speech.)Teacher: &quot;Rectum.&quot;Johnny: &quot;Wrecked him!? Hell, It damn near killed him!&quot;\r\n",
        "\n",
        "35 An explorer in the deepest Amazon suddenly finds himself surrounded by a bloodthirsty group of natives. Upon surveying the situation, he says quietly to himself, &quot;Oh God, I&#039;m screwed.&quot;The sky darkens and a voice booms out, &quot;No, you are NOT screwed. Pick up that stone at your feet and bash in the head of the chief standing in front of you.&quot;So with the stone he bashes the life out of the chief. He stands above the lifeless body, breathing heavily and looking at 100 angry natives...The voice booms out again, &quot;Okay....NOW you&#039;re screwed.&quot;\r\n",
        "\n",
        "36 A guy walks into a bar, orders a beer and says to the bartender, &quot;Hey, I got this great Polish Joke...&quot;The barkeep glares at him and says in a warning tone of voice: &quot;Before you go telling that joke you better know that I&#039;m Polish, both bouncers are Polish and so are most of my customers.&quot;&quot;Okay,&quot; says the customer. &quot;I&#039;ll tell it very slowly.&quot;\r\n",
        "\n",
        "37 A Jewish young man was seeing a psychiatrist for an eating and sleeping disorder.&quot;I am so obsessed with my mother...As soon as I go to sleep, I start dreaming, and everyone in my dream turns into my mother. I wake up in such a state, and all I can do is go downstairs and eat a piece of toast.&quot;The psychiatrist replies, &quot;What, just one piece of toast, for a big boy like you?&quot;\r\n",
        "\n",
        "38 &quot;May I take your order?&quot; the waiter asks.&quot;Yes, how do you prepare your chickens?&quot;&quot;Nothing special, sir,&quot; he replies. &quot;We just tell them straight out that they&#039;re going to die.&quot;\r\n",
        "\n",
        "39 What is the difference between men and women?A woman wants one man to satisfy her every need.A man wants every woman to satisfy his one need.\r\n",
        "\n",
        "40 How many Irishmen does it take to change a lightbulb?Two. One to hold the lightbulb and the other to drink until the room spins.\r\n",
        "\n",
        "41 What does an atheist say during an orgasm?&quot;Oh Darwin! Oh Darwin!&quot;\r\n",
        "\n",
        "42 Two men are discussing the age old question: who enjoys sex more, the man or the woman? A woman walks by and listens in for a while and then interrupts:&quot;Listen, you guys. You know when your ear itches and you put in your little finger and wiggle it around for a while? Afterward, which feels better, your finger or your ear?&quot;\r\n",
        "\n",
        "43 Arnold Schwarzenegger and Sylvester Stallone are making a movie about the lives of the great composers.Stallone says, &quot;I want to be Mozart.&quot;Swartzeneger says, &quot;In that case...I&#039;ll be Bach.&quot;\r\n",
        "\n",
        "44 A horse walks into a bar. The bartender asks:&quot;So, why the long face?&quot;\r\n",
        "\n",
        "45 A boy comes home from school and tells his mother that he got a part in the school play. &quot;What part?&quot; the mother asks. &quot;I play a Jewish husband,&quot; the boy replies.&quot;Go back to school and tell your teacher that you want a speaking role!&quot;\r\n",
        "\n",
        "46 A couple has been married for 75 years. For the husband&#039;s 95th birthday, his wife decides to surprise him by hiring a prostitute. That day, the doorbell rings. The husband uses his walker to get to the door and opens it.A 21-year-old in a latex outfit smiles and says, &quot;Hi, I here to give you super sex!&quot;The old man says, &quot;I&#039;ll take the soup.&quot;\r\n",
        "\n",
        "47 There was an engineer who had an exceptional gift for fixing all things mechanical. After serving his company loyally for over 30 years, he happily retired. Several years later the company contacted him regarding a seemingly impossible problem they were having with one of their multi-million dollar machines. They had tried everything and everyone else to get the machine fixed, but to no avail. In desperation, they called on the retired engineer who had solved so many of their problems in the past.The engineer reluctantly took the challenge. He spent a day studying the huge machine. At the end of the day, he marked a small &quot;x&quot; in chalk on a particular component of the machine and proudly stated:&quot;This is where your problem is.&quot;The part was replaced and the machine worked perfectly again. The company received a bill for $50,000 from the engineer for his service. They demanded an itemized accounting of his charges. The engineer responded briefly:One chalk mark: $1.Knowing where to put it: $49,999.He was paid in full and the engineer retired again in peace.\r\n",
        "\n",
        "48 The graduate with a Science degree asks, &quot;Why does it work?&quot;The graduate with an Engineering degree asks, &quot;How does it work?&quot;The graduate with an Accounting degree Asks, &quot;How much will it cost?&quot;The graduate with a Liberal Arts degree asks, &quot;Do you want fries with that?&quot;\r\n",
        "\n",
        "49 Three engineering students were gathered together discussing the possible designers of the human body.One said, &quot;It was a mechanical engineer. Just look at all the joints.&quot;Another said, &quot;No, it was an electrical engineer. The nervous systems many thousands of electrical connections.&quot;The last said, &quot;Actually, it was a civil engineer. Who else would run a toxic waste pipeline through a recreational area?&quot;\r\n",
        "\n",
        "50 A guy goes into confession and says to the priest, &quot;Father, I&#039;m 80 years old, widower, with 11 grandchildren. Last night I met two beautiful flight attendants. They took me home and I made love to both of them. Twice.&quot;The priest says, &quot;Well, my son, when was the last time you were in confession?&quot;&quot;Never Father, I&#039;m Jewish.&quot;&quot;So then, why are you telling me?&quot;&quot;I&#039;m telling everybody!&quot;\r\n",
        "\n",
        "51 Did you hear that Clinton has announced that there is a new national bird?The spread eagle.\r\n",
        "\n",
        "52 Q: What do Monica Lewinsky and Bob Dole have in common?A: They were both upset when Bill finished first.\r\n",
        "\n",
        "53 One Sunday morning William burst into the living room and said, &quot;Dad! Mom! I have some great news for you! I am getting married to the most beautiful girl in town. She lives a block away and her name is Susan.&quot;After dinner, William&#039;s dad took him aside. &quot;Son, I have to talk with you. Your mother and I have been married 30 years. She&#039;s a wonderful wife but she has never offered much excitement in the bedroom, so I used to fool around with women a lot. Susan is actually your half-sister, and I&#039;m afraid you can&#039;t marry her.&quot;William was heart-broken. After eight months he eventually started dating girls again. A year later he came home and very proudly announced, &quot;Dianne said yes! We&#039;re getting married in June.&quot;Again his father insisted on another private conversation and broke the sad news. &quot;Dianne is your half-sister too, William. I&#039;m awfully sorry about this.&quot;William was furious! He finally decided to go to his mother with the news.&quot;Dad has done so much harm.. I guess I&#039;m never going to get married,&quot; he complained. &quot;Every time I fall in love, Dad tells me the girl is my half-sister.&quot;His mother just shook her head. &quot;Don&#039;t pay any attention to what he says, dear. He&#039;s not really your father.&quot;\r\n",
        "\n",
        "54 The Pope dies and, naturally, goes to heaven. He&#039;s met by the reception committee, and after a whirlwind tour he is told that he can enjoy any of the myriad of recreations available.He decides that he wants to read all of the ancient original text of the Holy Scriptures, so he spends the next eon or so learning languages. After becoming a linguistic master, he sits down in the library and begins to pour over every version of the Bible, working back from most recent &quot;Easy Reading&quot; to the original script.All of a sudden there is a scream in the library. The angels come running in only to find the Pope huddled in his chair, crying to himself and muttering, &quot;An &#039;R&#039;! The scribes left out the &#039;R&#039;!&quot; A particularly concerned angel takes him aside, and offering comfort, asks him what the problem is and what he means.After collecting his wits, the Pope sobs again, &quot;It&#039;s the letter &#039;R&#039;. They left out the &#039;R&#039;. The word was supposed to be &#039;CELEBRATE&#039;!&quot;\r\n",
        "\n",
        "55 A woman has twins, and gives them up for adoption. One of them goes to a family in Egypt and is named &quot;Amal.&quot; The other goes to a family in Spain; they name him &quot;Juan.&quot; Years later, Juan sends a picture of himself to his mom. Upon receiving the picture, she tells her husband that she wishes she also had a picture of Amal.Her husband responds, &quot;But they are twins--if you&#039;ve seen Juan, you&#039;ve seen Amal.&quot;\r\n",
        "\n",
        "56 A man and Cindy Crawford get stranded on a desert island. After a couple of days they fall in love and start sleeping together. Time passes and the man seems frustrated. Cindy asks if there is anything she can do, and he says there is one thing: &quot;Could you put on this baseball cap and go to the other side of the island and answer me when I call you Bob?&quot; She agrees. The next day he is walking on the other side of the island and runs into her. He says, &quot;Hi Bob!&quot;She says, &quot;Hello, what&#039;s up?&quot;He replies, &quot;Bob, you won&#039;t believe it: I&#039;ve been sleeping with Cindy Crawford for the past two weeks!&quot;\r\n",
        "\n",
        "57 Why are there so many Jones&#039;s in the phone book?Because they all have phones.\r\n",
        "\n",
        "58 How many teddy bears does it take to change a lightbulb?It takes only one teddy bear, but it takes a whole lot of lightbulbs.\r\n",
        "\n",
        "59 The Chukcha (Russian Eskimo) phones up the Russian Parliament Building. A guard answers.Chukcha: &quot;What is required to become Parliament member?&quot;Guard: &quot;What are you, an idiot?&quot;Chukcha: &quot;Is it required?&quot;\r\n",
        "\n",
        "60 What did the Buddhist say to the hot dog vendor?Make me one with everything.\r\n",
        "\n",
        "61 During a recent publicity outing, Hillary sneaked off to visit a fortune teller of some local repute. In a dark and hazy room, peering into a crystal ball, the mystic delivered grave news.&quot;There&#039;s no easy way to say this, so I&#039;ll just be blunt: Prepare yourself to be a widow. Your husband will die a violent and horrible death this year.&quot;Visibly shaken, Hillary stared at the woman&#039;s lined face, then at the single flickering candle, then down at her hands. She took a few deep breaths to compose herself. She simply had to know. She met the fortune teller&#039;s gaze, steadied her voice, and asked her question.&quot;Will I be acquitted?&quot;\r\n",
        "\n",
        "62 A group of managers were given the assignment to measure the height of a flagpole. So they go out to the flagpole with ladders and tape measures, and they&#039;re falling off the ladders, dropping the tape measures--the whole thing is just a mess. An engineer comes along and sees what they&#039;re trying to do, walks over, pulls the flagpole out of the ground, lays it flat, measures it from end to end, gives the measurement to one of the managers and walks away.After the engineer has gone, one manager turns to another and laughs. &quot;Isn&#039;t that just like an engineer? We&#039;re looking for the height and he gives us the length.&quot;\r\n",
        "\n",
        "63 An engineer, a physicist and a mathematician are sleeping in a room. There is a fire in the room. The engineer wakes up, sees the fire, picks up the bucket of water and douses the fire and goes back to sleep.Again there is a fire in the room. This time, the physicist wakes up, notices the bucket, fills it with water, calculates the optimal trajectory and douses the fire in minimum amount of water and goes back to sleep.Again there is a fire. This time the mathematician wakes up. He looks at the fire, looks at the bucket and the water and exclaims, &quot;A solution exists!&quot; and goes back to sleep.\r\n",
        "\n",
        "64 What is the rallying cry of the International Dyslexic Pride movement?Dyslexics Untie!\r\n",
        "\n",
        "65 Two rednecks were seated at the end of a bar when a young lady seated a few stools up began to choke on a piece of hamburger. She was turning blue and obviously in serious respiratory distress. One said to the other, &quot;That gal there is having a bad time!&quot; The other agreed and said, &quot;Think we should go help?&quot; &quot;You bet,&quot; said the first, and with that, he ran over and said, &quot;Can you breathe?&quot; She shook her head no. He said, &quot;Can you speak?&quot; She again shook her head no. With that, he pulled up her skirt and licked her on the butt.She was so shocked, she coughed up the obstruction and began to breathe--with great relief.The redneck walked back to his friend and said, &quot;Funny how that hind lick maneuver always works.&quot;\r\n",
        "\n",
        "66 A lawyer opened the door of his BMW, when suddenly a car came along and hit the door, ripping it off completely. When the police arrived at the scene, the lawyer was complaining bitterly about the damage to his precious BMW.&quot;Officer, look what they&#039;ve done to my Beeeeemer!&quot; he whined.&quot;You lawyers are so materialistic, you make me sick!&quot; retorted the officer. &quot;You&#039;re so worried about your stupid BMW that you didn&#039;t even notice your left arm was ripped off!&quot;&quot;Oh my gaaaad...&quot; replied the lawyer, finally noticing the bloody left shoulder where his arm once was. &quot;Where&#039;s my Rolex?!&quot;\r\n",
        "\n",
        "67 Once upon a time, two brooms fell in love and decided to get married. Before the ceremony, the bride broom informed the groom broom that she was expecting a little whiskbroom. The groom broom was aghast!&quot;How is this possible?&quot; he asked. &quot;We&#039;ve never swept together!&quot;\r\n",
        "\n",
        "68 A man piloting a hot air balloon discovers he has wandered off course and is hopelessly lost. He descends to a lower altitude and locates a man down on the ground. He lowers the balloon further and shouts, &quot;Excuse me, can you tell me where I am?&quot;The man below says, &quot;Yes, you&#039;re in a hot air balloon, about 30 feet above this field.&quot;&quot;You must work in Information Technology,&quot; says the balloonist.&quot;Yes I do,&quot; replies the man. &quot;And how did you know that?&quot;&quot;Well,&quot; says the balloonist, &quot;what you told me is technically correct, but of no use to anyone.&quot;The man below says, &quot;You must work in management.&quot;&quot;I do,&quot; replies the balloonist, &quot;how did you know?&quot;&quot;Well,&quot; says the man, &quot;you don&#039;t know where you are, or where you&#039;re going, but you expect my immediate help. You&#039;re in the same position you were before we met, but now it&#039;s my fault!&quot;\r\n",
        "\n",
        "69 This guy&#039;s wife asks, &quot;Honey, if I died would you remarry?&quot; and he replies, &quot;Well, after a considerable period of grieving, we all need companionship, so I guess I would.&quot;She then asks, &quot;If I died and you remarried, would she live in this house?&quot; and he replies, &quot;We&#039;ve spent a lot of time and money getting this house just the way we want it. I&#039;m not going to get rid of my house, so I guess she would.&quot;&quot;If I died and you remarried, and she lived in this house, would she sleep in our bed?&quot; and he says, &quot;That bed is brand new. We just paid two thousand dollars for it, and it&#039;s going to last a long time, so I guess she would.&quot;So she asks, &quot;If I died and you remarried, and she lived in this house, and slept in our bed, would she use my golf clubs?&quot;&quot;Oh no, she&#039;s left handed.&quot;\r\n",
        "\n",
        "70 Employer to applicant: &quot;In this job we need someone who is responsible.&quot;Applicant: &quot;I&#039;m the one you want. On my last job, every time anything went wrong, they said I was responsible.&quot;\r\n",
        "\n",
        "71 At a recent Sacramento PC Users Group meeting, a company was demonstrating its latest speech- recognition software. A representative from the company was just about ready to start the demonstration and asked everyone in the room to quiet down.Just then, someone in the back of the room yelled, &quot;Format C: Return.&quot;Someone else chimed in: &quot;Yes, Return.&quot;Unfortunately, the software worked.\r\n",
        "\n",
        "72 On the first day of college, the Dean addressed the students, pointing out some of the rules: &quot;The female dormitory will be out-of-bounds for all male students and the male dormitory to the female students. Anybody caught breaking this rule will be finded $20 the first time.&quot; He continued, &quot;Anybody caught breaking this rule the second time will be fined $60. Being caught a third time will cost you a fine of $180. Are there any questions?&quot;At this point, a male student in the crowd inquired: &quot;How much for a season pass?&quot;\r\n",
        "\n",
        "73 Q: What is the difference between George Washington, Richard Nixon, and Bill Clinton?A: Washington couldn&#039;t tell a lie, Nixon couldn&#039;t tell the truth, and Clinton doesn&#039;t know the difference.\r\n",
        "\n",
        "74 Q: How many stalkers does it take to change a light bulb?A: Two. One to replace the bulb, and the other to watch it day and night.\r\n",
        "\n",
        "75 Q: Do you know the difference between an intelligent male and the Sasquatch?A: There have been actual reported sightings of the Sasquatch.\r\n",
        "\n",
        "76 There once was a man and a woman that both got in a terrible car wreck. Both of their vehicles were completely destroyed, buy fortunately, no one was hurt. In thankfulness, the woman said to the man, &quot;We are both okay, so we should celebrate. I have a bottle of wine in my car: let&#039;s open it.&quot; So the woman got the bottle out of the car, and handed it to the man. The man took a really big drink, and handed the woman the bottle. The woman closed the bottle and put it down. The man asked, &quot;Aren&#039;t you going to take a drink?&quot; The woman cleverly replied, &quot;No, I think I&#039;ll just wait for the cops to get here.&quot;\r\n",
        "\n",
        "77 If pro- is the opposite of con-, then congress must be the opposite of progress.\r\n",
        "\n",
        "78 Q: What&#039;s the difference between the government and the Mafia?A: One of them is organized.\r\n",
        "\n",
        "79 Q: Ever wonder why the IRS calls it Form 1040?A: Because for every $50 that you earn, you get 10 and they get 40.\r\n",
        "\n",
        "80 Hillary, Bill Clinton and the Pope are sitting together on an airplane. Bill says, &quot;I could throw one thousand-dollar bill out of this plane and make one person very happy.&quot; Hillary says, &quot;I could throw 10 hundred-dollar bills out of the plane and make 10 people very happy.&quot;The Pope chips in and says, &quot;I could throw Bill out of the airplane and make the whole country happy.&quot;\r\n",
        "\n",
        "81 An Asian man goes into a New York CityBank to exchange 10,000 yen for American Currency. The teller gives him $72.00. The next month the Asian man goes into the same bank with 10,000 yen and receives $62.00. He asks, &quot;How come? Only $62.00?&quot; The teller says &quot;Fluctuations, fluctuations!&quot;Whereupon the Asian man looks back at the teller and says &quot;Fluk you Amelicans too!&quot;\r\n",
        "\n",
        "82 Q: How do you keep a computer programmer in the shower all day long?A: Give them a shampoo with a label that says &quot;rinse, lather, repeat.&quot;\r\n",
        "\n",
        "83 What a woman says: &quot;This place is a mess! C&#039;mon,you and I need to clean up,your stuff is lying on the floor andyou&#039;ll have no clothes to wearif we don&#039;t do laundry right now!&quot;What a man hears: &quot;blah, blah, blah, blah, C&#039;monblah, blah, blah, blah, you and Iblah, blah, blah, blah, on the floorblah, blah, blah, blah, no clothesblah, blah, blah, blah, right now!&quot;\r\n",
        "\n",
        "84 Q: What is the difference between mechanical engineers and civil engineers?A: Mechanical Engineers build weapons, civil engineers build targets.\r\n",
        "\n",
        "85 Q: How many presidents does it take to screw in a light bulb?A: It depends upon your definition of screwing a light bulb.\r\n",
        "\n",
        "86 A neutron walks into a bar and orders a drink. &quot;How much do I owe you?&quot; the neutron asks.The bartender replies, &quot;For you, no charge.&quot;\r\n",
        "\n",
        "87 A man who recently completed a routine physical examination receives a phone call from his doctor. The doctor says, &quot;I have some good news and some bad news.&quot; The man says, &quot;Okay, give me the good news first.&quot; The doctor says, &quot;The good news is: you have 24 hours to live.&quot; The man replies, &quot;Shit! That&#039;s the good news? Then what&#039;s the bad news?&quot;The doctor says, &quot;The bad news is: I forgot to call you yesterday.&quot;\r\n",
        "\n",
        "88 A Czechoslovakian man felt his eyesight was growing steadily worse, and felt it was time to go see an optometrist.The doctor started with some simple testing, and showed him a standard eye chart with letters of diminishing size: CRKBNWXSKZY...&quot;Can you read this?&quot; the doctor asked.&quot;Read it?&quot; the Czech answered. &quot;Doc, I know him!&quot;\r\n",
        "\n",
        "89 A radio conversation between a US naval ship and Canadian authorities...Americans: Please divert your course 15 degrees to the North to avoid a collision.Canadians: Recommend you divert YOUR course 15 degrees to the South to avoid a collision.Americans: This is the captain of a US Navy ship. I say again, divert YOUR course.Canadians: No. I say again, you divert YOUR course.Americans: This is the aircraft carrier USS Lincoln, the second largest ship in the United States&#039; Atlantic Fleet. We are accompanied by three destroyers, three cruisers and numerous support vessels. I demand that you change your course 15 degrees North, that&#039;s ONE FIVE DEGREES NORTH, or counter-measures will be undertaken to ensure the safety of this ship.Canadians: This is a lighthouse. Your call.\r\n",
        "\n",
        "90 Q: How many programmers does it take to change a lightbulb?A: NONE! That&#039;s a hardware problem...\r\n",
        "\n",
        "91 A Panda walks into a bar, sits down at a table and orders a beer and a double cheeseburger. After he is finished eating, he pulls out a gun and rips the place with gunfire. Patrons scatter and dive under chairs and tables as the bear runs out the door. After ensuring that no one is hurt, the bartender races out the door, and calls after the bear: &quot;What the hell did you do that for?&quot; The bear calls back, &quot;I&#039;m a Panda. Look it up in the dictionary.&quot;The bartender returns, pulls out his dictionary.panda: \\Pan&quot;da\\, n. (Zo[&quot;o]l.)A small Asiatic mammal (Ailurus fulgens) having fine soft fur. It is related to the bears, and inhabits the mountains of Northern India. Eats shoots and leaves.\r\n",
        "\n",
        "92 Early one morning a mother went to her sleeping son and woke him up.&quot;Wake up, son. It&#039;s time to go to school.&quot;&quot;But why, Mama? I don&#039;t want to go to school.&quot; &quot;Give me two reasons why you don&#039;t want to go to school.&quot; &quot;One, all the children hate me. Two, all the teachers hate me.&quot;&quot;Oh, that&#039;s no reason. Come on, you have to go to school.&quot;&quot;Give me two good reasons why I should go to school.&quot;&quot;One, you are fifty-two years old. Two, you are the principal of the school.&quot;\r\n",
        "\n",
        "93 Reaching the end of a job interview, the human resources person asked a young engineer fresh out of Stanford,&quot;And what starting salary were you looking for?&quot;The engineer said, &quot;In the neighborhood of $125,000 a year, depending on the benefits package.&quot;The interviewer said, &quot;Well, what would you say to a package of 5-weeks vacation, 14 paid holidays, full medical and dental, company matching retirement fund to 50% of salary, and a company car leased every 2 years--say, a red Corvette?&quot;The engineer sat up straight and said, &quot;Wow! Are you kidding?&quot;And the interviewer replied, &quot;Yeah, but you started it.&quot;\r\n",
        "\n",
        "94 Two atoms are walking down the street when one atom says to the other, &quot;Oh, my! I&#039;ve lost an electron!&quot;The second atom says, &quot;Are you sure?&quot;The first replies, &quot;I&#039;m positive!&quot;\r\n",
        "\n",
        "95 Just a thought...Before criticizing someone, walk a mile in their shoes.Then, when you do criticize them, you will be a mile away and have their shoes!\r\n",
        "\n",
        "96 Two attorneys went into a diner and ordered two drinks. Then they produced sandwiches from their briefcases and started to eat. The owner became quite concerned and marched over and told them, &quot;You can&#039;t eat your own sandwiches in here!&quot;The attorneys looked at each other, shrugged their shoulders and then exchanged sandwiches.\r\n",
        "\n",
        "97 A teacher is explaining to her class how different languages use negatives differently. She says, &quot;In all languages, a positive followed by a negative or a negative followed by a positive makes a negative. In some languages, two negatives together make a positive, while in others they make a negative. But in no language do two positives make a negative.&quot;One of the students puts up his hand and says, &quot;Yeah, right.&quot;\r\n",
        "\n",
        "98 Age and Womanhood1. Between the ages of 13 and 18...She is like Africa, virgin and unexplored.2. Between the ages of 19 and 35...She is like Asia, hot and exotic.3. Between the ages of 36 and 45...She is like America, fully explored, breathtakingly beautiful, and free with her resources.4. Between the ages of 46 and 56...She is like Europe, exhausted but still has points of interest.5. After 56 she is like Australia...Everybody knows it&#039;s down there, but who gives a damn?\r\n",
        "\n",
        "99 A bus station is where a bus stops.A train station is where a train stops.On my desk I have a work station...\r\n",
        "\n",
        "100 Q: Whats the difference between greeting a queen and greeting the President of the United States?A: You only have to get on one knee to greet the queen.\r\n",
        "\n",
        "101 Did you hear about the Buddhist who refused Novocaine during a root canal? He wanted to transcend dental medication.\r\n",
        "\n",
        "102 A man escaped jail by digging a hole from his jail cell to the outside world. When finally his work was done, he emerged in the middle of a preschool playground.&quot;I&#039;m free, I&#039;m free!&quot; he shouted. &quot;So what?&quot; said a little girl. &quot;I&#039;m four.&quot;\r\n",
        "\n",
        "103 Nurse: Doctor, Doctor, there&#039;s an invisible man in the waiting room!Doctor: Well, go in there and tell him that I can&#039;t see him!\r\n",
        "\n",
        "104 As a pre-med student, I had to take a difficult class in physics. One day our professor was discussing a particularly complicated concept. A student rudely interrupted to ask, &quot;Why do we have to learn this stuff?&quot;&quot;To save lives.&quot; The professor responded quickly and continued the lecture.A few minutes later, the same student spoke up again. &quot;So how does physics save lives?&quot; he persisted.&quot;It usually keeps the idiots like you out of medical school,&quot; replied the professor.\r\n",
        "\n",
        "105 A couple of hunters are out in the woods in the deep south when one of them falls to the ground. He doesn&#039;t seem to be breathing, and his eyes are rolled back in his head.The other guy whips out his cell phone and calls 911. He gasps to the operator, &quot;My friend is dead! What can I do?&quot;The operator, in a calm and soothing voice, says, &quot;Alright, take it easy. I can help. First, let&#039;s make sure he&#039;s dead.&quot;There is silence, and then a gun shot is heard.The hunter comes back on the line. &quot;Okay. Now what??&quot;\r\n",
        "\n",
        "106 An engineer dies and reports to the pearly gates. St. Peter checks his dossier and says, &quot;Ah, you&#039;&#039;re an engineer--you&#039;re in the wrong place.&quot; So, the engineer reports to the gates of hell and is let in. Pretty soon, the engineer gets dissatisfied with the level of comfort in hell, and starts designing and building improvements. After awhile, they&#039;ve got air conditioning, flush toilets and escalators, and the engineer is a pretty popular guy. One day, God calls Satan up on the telephone and says with a sneer, &quot;So, how&#039;s it going down there in hell?&quot;Satan replies, &quot;Hey, things are going great. We&#039;ve got air conditioning, flush toilets and escalators, and there&#039;s no telling what this engineer is going to come up with next.&quot;God replies, &quot;What?? You&#039;ve got an engineer? That&#039;s a mistake--he should never have gotten down there; send him up here.&quot;Satan says, &quot;No way.&quot; I like having an engineer on the staff, and I&#039;m keeping him.&quot;God says, &quot;Send him back up here or I&#039;ll sue.&quot;Satan laughs uproariously and answers, &quot;Yeah, right. And just where are YOU going to get a lawyer?&quot;\r\n",
        "\n",
        "107 (A) The Japanese eat very little fat and suffer fewer heart attacks than the British or Americans. (B) On the other hand, the French eat a lot of fat and also suffer fewer heart attacks than the British or Americans. (C) The Chinese drink very little red wine and suffer fewer heart attacks than the British or Americans. (D) The Italians drink excessive amounts of red wine and also suffer fewer heart attacks than the British or Americans.(E) Conclusion: Eat and drink what you like. It&#039;s speaking English that kills you.\r\n",
        "\n",
        "108 A man approached a very beautiful woman in a large supermarket and asked, &quot;You know, I&#039;ve lost my wife here in the supermarket. Can you talk to me for a couple of minutes?&quot; &quot;Why?&quot; &quot;Because every time I talk to a beautiful woman my wife appears out of nowhere.&quot;\r\n",
        "\n",
        "109 &quot;Do you believe in life after death?&quot; the boss asked one of his employees.&quot;Yes, sir,&quot; the new recruit replied. &quot;Well, then, that makes everything just fine...&quot; the boss went on. &quot;After you left early yesterday to go to your grandmother&#039;s funeral, she stopped in to see you.&quot;\r\n",
        "\n",
        "110 One day, a professor was giving a big test to his students. He handed out the tests and went back to his desk to wait. Once the test was over, the students all handed the tests back in.The professor noticed that one of the students had attached a $100 bill to his test with a note saying: &quot;A dollar per point.&quot;The next class the professor handed the tests back out. This student got back his test...and $64 change!\r\n",
        "\n",
        "111 A new business was opening and one of the owner&#039;s friends wanted to send him flowers for the occasion. They arrived at the new business site and the owner read the card, &quot;Rest in Peace.&quot;The owner was angry and called the florist to complain.After he had told the florist of the obvious mistake and how angry he was, the florist replied, &quot;Sir, I&#039;m really sorry for the mistake, but rather than getting angry, you should imagine this: somewhere there is a funeral taking place today, and they have flowers with a note saying, &#039;Congratulations on your new location!&#039;&quot;\r\n",
        "\n",
        "112 When my three-year-old son opened the birthday gift from his grandmother, he discovered a water pistol. He squealed with delight and headed for the nearest sink. I was not so pleased. I turned to Mom and said, &quot;I&#039;m surprised at you. Don&#039;t you remember how we used to drive you crazy with water guns?&quot;Mom smiled and then replied...&quot;I remember.&quot;\r\n",
        "\n",
        "113 The new employee stood before the paper shredder looking confused.&quot;Need some help?&quot; a secretary asked.&quot;Yes,&quot; he replied. &quot;How does this thing work?&quot;&quot;Simple,&quot; she said, taking the fat report from his hand and feeding it into the shredder.&quot;Thanks, but where do the copies come out?&quot;\r\n",
        "\n",
        "114 Sherlock Holmes and Dr. Watson go on a camping trip, set up their tent, and fall asleep. Some hours later, Holmes wakes his faithful friend. &quot;Watson, look up at the sky and tell me what you see.&quot; Watson replies, &quot;I see millions of stars.&quot; &quot;What does that tell you?&quot; Watson ponders for a minute. &quot;Astronomically speaking, it tells me that there are millions of galaxies and potentially billions of planets. Astrologically, it tells me that Saturn is in Leo. Timewise, it appears to be approximately a quarter past three. Theologically, it&#039;s evident the Lord is all-powerful and we are small and insignificant. Meteorologically, it seems we will have a beautiful day tomorrow. What does it tell you?&quot; Holmes is silent for a moment, then speaks. &quot;Watson, you idiot, someone has stolen our tent.&quot;\r\n",
        "\n",
        "115 A lady bought a new Lexus. It cost a bundle. Two days later, she brought it back, complaining that the radio was not working.&quot;Madam,&quot; said the sales manager, &quot;the audio system in this car is completely automatic. All you need to do is tell it what you want to listen to, and you will hear exactly that!&quot;She drove out, somewhat amazed and a little confused. She looked at the radio and said, &quot;Nelson.&quot; The radio responded, &quot;Ricky or Willie?&quot; She was astounded. If she wanted Beethoven, that&#039;s what she got. If she wanted Nat King Cole, she got it.She was stopped at a traffic light enjoying &quot;On the Road Again&quot; when the light turned green and she pulled out. Suddenly an enormous sports utility vehicle coming from the street she was crossing sped toward her, obviously not paying attention to the light. She swerved and narrowly missed a collision.&quot;Idiot!&quot; she yelled and, from the radio, &quot;Ladies and gentlemen, the President of the United States.&quot;\r\n",
        "\n",
        "116 A man in a hot air balloon realized he was lost. He reduced altitude and spotted a woman below.He descended a bit more and shouted, &quot;Excuse me, can you help me? I promised a friend I would meet him an hour ago, but I don&#039;t know where I am.&quot;The woman below replied, &quot;You are in a hot air balloon hovering approximately 30 feet above the ground. You are between 40 and 41 degrees north latitude and between 59 and 60 degrees west longitude.&quot;&quot;You must be an engineer,&quot; said the balloonist.&quot;I am,&quot; replied the woman. &quot;How did you know?&quot;&quot;Well,&quot; answered the balloonist, &quot;everything you told me is technically correct, but I have no idea what to make of your information, and the fact is, I am still lost. Frankly, you&#039;ve not been much help so far.&quot;The woman below responded, &quot;You must be in management.&quot;&quot;I am,&quot; replied the balloonist, &quot;but how did you know?&quot; &quot;Well,&quot; said the woman, &quot;you don&#039;t know where you are or where you are going. You have risen to where you are due to a large quantity of hot air. You made a promise that you have no idea how to keep, and you expect people beneath you to solve your problems. The fact is, you are in exactly the same position you were in before we met, but now, somehow, it&#039;s my fault!&quot;\r\n",
        "\n",
        "117 A man joins a big corporate empire as a trainee.On his very first day of work, he dials the pantry and shouts into the phone: &quot;Get me a coffee, quickly!&quot;The voice from the other side responds, &quot;You fool, you&#039;ve dialed the wrong extension! Do you know who you&#039;re talking to, dumbo?&quot;&quot;No,&quot; replied the trainee.&quot;It&#039;s the CEO of the company, you fool!&quot;The trainee shouts back, &quot;And do YOU know who YOU are talking to, you fool?!&quot;&quot;No.&quot; replied the CEO indignantly.&quot;Good!&quot; replied the trainee, and puts down the phone.\r\n",
        "\n",
        "118 A man goes into a drug store and asks the pharmacist if he can give him something for the hiccups. The pharmacist promptly reaches out and slaps the man&#039;s face. &quot;What the heck did you do that for?!&quot; the man screams. &quot;Well, you don&#039;t have the hiccups anymore, do you?&quot; The man says, &quot;No I don&#039;t, you IDIOT...but my wife out in the car still does!&quot;\r\n",
        "\n",
        "119 One day the first grade teacher was reading the story of the Three Little Pigs to her class. She came to the part of the story where the first pig was trying to accumulate the building materials for his home. She read, &quot;...and so the pig went up to the man with the wheelbarrow full of straw and said, &#039;Pardon me sir, but may I have some of that straw to build my house?&#039;&quot;The teacher paused then asked the class, &quot;And what do you think that man said?&quot; One little boy raised his hand and said, &quot;I know...he said, &#039;Holy Shit! A talking pig!&#039;&quot;\r\n",
        "\n",
        "120 Judy was having trouble with her computer, so she called Tony, the computer guy, over to her desk. Tony clicked a couple buttons and solved the problem. As he was walking away, Judy called after him, &quot;So, what was wrong?&quot;And he replied, &quot;It was an ID Ten T Error.&quot;A puzzled expression ran riot over Judy&#039;s face. &quot;An ID Ten T Error? What&#039;s that...in case I need to fix it again?&quot;He gave her a grin...&quot;Haven&#039;t you ever heard of an ID Ten T Error before?&quot;&quot;No,&quot; replied Judy.&quot;Write it down,&quot; he said, &quot;and I think you&#039;ll figure it out.&quot;(She wrote...) I D 1 0 T\r\n",
        "\n",
        "121 A drunk staggers into a Catholic Church, enters a confessional booth, sits down, but says nothing. The Priest coughs a few times to get his attention but the drunk just sits there. Finally, the Priest pounds three times on the wall.The drunk mumbles, &quot;Ain&#039;t no use knockin, there&#039;s no paper on this side either.&quot;\r\n",
        "\n",
        "122 An astronomer, a physicist and a mathematician (it is said) were holidaying in Scotland. Glancing from a train window, they observed a black sheep in the middle of a field.&quot;How interesting,&quot; observed the astronomer, &quot;All Scottish sheep are black!&quot;To which the physicist responded, &quot;No, no! Some Scottish sheep are black!&quot;The mathematician gazed heavenward in supplication, and then intoned, &quot;In Scotland there exists at least one field, containing at least one sheep, at least one side of which is black.&quot;\r\n",
        "\n",
        "123 When most people claim to be &quot;killing time&quot;, it&#039;s only an expression. When Chuck Norris kills time, the minutes actually cease to exist.\r\n",
        "\n",
        "124 Person  Hey, wanna hear a great knock-knock joke?Person  Sure, What is it?Person  Okay, you start.Person  Knock-knock.Person  Who&#039;s there?Person  ...Person  Hah!\r\n",
        "\n",
        "125 An American tourist goes into a restaurant in Spain and orders the specialty of the house. When his dinner arrives, he asks the waiter what it is. &quot;These, senor,&quot; replied the waiter in broken English, &quot;are the testicles of the bull killed in the ring today.&quot;The tourist swallowed hard but tasted the dish and thought it was delicious. So he comes back the next evening and orders the same item. When it is served, he says to the waiter, &quot;These testicles...are much smaller than the ones I had last night.&quot; &quot;Yes, senor,&quot; replied the waiter, &quot;You see...the bull, he does not always lose.\r\n",
        "\n",
        "126 A Briton, a Frenchman and a Russian are viewing a painting of Adam and Eve frolicking in the Garden of Eden. &quot;Look at their reserve, their calm,&quot; muses the Brit. &quot;They must be British.&quot;&quot;Nonsense,&quot; the Frenchman disagrees. &quot;They&#039;re naked, and so beautiful. Clearly, they are French.&quot;&quot;No way! They have no clothes and no shelter,&quot; the Russian points out, &quot;They have only an apple to eat, and they are being told they live in a paradise. Obviously, they are Russian.&quot;\r\n",
        "\n",
        "127 A little boy goes to his dad and asks, &quot;What is politics?&quot;His dad says, &quot;Well son, let me try to explain it this way: I&#039;m the breadwinner of the family, so let&#039;s call me capitalism. Your Mom, she&#039;s the administrator of the money, so we&#039;ll call her the government. We&#039;re here to take care of your needs, so we&#039;ll call you the people. The nanny, we&#039;ll consider her the working class. And your baby brother, we&#039;ll call him the future. Now, think about that and see if that makes sense.&quot;So the little boy goes off to bed thinking about what dad had said. Later that night, he hears his baby brother crying, so he gets up to check on him. He finds that the baby has severely soiled his diaper. So the little boy goes to his parents&#039; room and finds his mother sound asleep. Not wanting to wake her, he goes to the nanny&#039;s room. Finding the door locked, he peeks in the keyhole and sees his father in bed with the nanny. He gives up and goes back to bed. The next morning, the little boy says to his father, &quot;Dad, I think I understand the concept of politics now.&quot; The father says, &quot;Good, son. Tell me in your own words what you think politics is all about.&quot;The little boy replies, &quot;Well, while capitalism is screwing the working class, the government is sound asleep, the people are being ignored and the future is in deep shit.&quot;\r\n",
        "\n",
        "128 An American, a Scot and a Canadian were in a terrible car accident. They were all brought to the same emergency room, but all three of them died before they arrived.Just as they were about to put the toe tag on the American, he stirred and opened his eyes. Astonished, the doctors and nurses present asked him what happened.&quot;Well,&quot; said the American, &quot;I remember the crash, and then there was a beautiful light, and then the Canadian and the Scot and I were standing at the gate s of heaven. St. Peter approached us and said that we were all to young to die, and that for a donation of $50, we could return to earth. So of course I pulled out my wallet and gave him the $50, and the next thing I knew I was back here.&quot;&quot;That&#039;s amazing!&quot; said the one of the doctors, &quot;But what happened to the other two?&quot;&quot;Last I saw them,&quot; replied the American, &quot;the Scot was haggling over the price and the Canadian was waiting for the government to pay his.&quot;\r\n",
        "\n",
        "129 A group of girlfriends is on vacation when they see a 5-story hotel with a sign that reads: &quot;For Women Only.&quot; Since they are without their boyfriends and husbands, they decide to go in. The bouncer, a very attractive guy, explains to them how it works. &quot;We have 5 floors. Go up floor by floor, and once you find what you are looking for, you can stay there. It&#039;s easy to decide since each floor has a sign telling you what&#039;s inside.&quot; So they start going up and on the first floor the sign reads: &quot;All the men on this floor are short and plain.&quot; The friends laugh and without hesitation move on to the next floor. The sign on the second floor reads: &quot;All the men here are short and handsome.&quot; Still, this isn&#039;t good enough, so the friends continue on up. They reach the third floor and the sign reads: &quot;All the men here are tall and plain.&quot; They still want to do better, and so, knowing there are still two floors left, they continued on up. On the fourth floor, the sign is perfect: &quot;All the men here are tall and handsome.&quot; The women get all excited and are going in when they realize that there is still one floor left. Wondering what they are missing, they head on up to the fifth floor. There they find a sign that reads: &quot;There are no men here. This floor was built only to prove that there is no way to please a woman.&quot;\r\n",
        "\n",
        "130 An old man goes to the doctor for his yearly physical, his wife tagging along. When the doctor enters the examination room, he tells the old man, &quot;I need a urine sample, a stool sample and a sperm sample.&quot;The old man, being hard of hearing, looks at his wife and yells: &quot;WHAT? What did he say? What&#039;s he want?&quot;His wife yells back, &quot;He needs your underwear.&quot;\r\n",
        "\n",
        "131 A guy had been feeling down for so long that he finally decided to seek the aid of a psychiatrist.He went there, lay on the couch, spilled his guts then waited for the profound wisdom of the psychiatrist to make him feel better.The psychiatrist asked me a few questions, took some notes then sat thinking in silence for a few minutes with a puzzled look on his face.He looked up with an expression of delight and said, &quot;I think your problem is low self-esteem. It is very common among losers.&quot;\r\n",
        "\n",
        "132 Mickey Mouse is having a nasty divorce with Minnie Mouse. Mickey spoke to the judge about the separation.&quot;I&#039;m sorry Mickey, but I can&#039;t legally separate you two on the grounds that Minnie is mentally insane...&quot;Mickey replied, &quot;I didn&#039;t say she was mentally insane, I said that she&#039;s fucking Goofy!&quot;\r\n",
        "\n",
        "133 The new employee stood before the paper shredder looking confused. &quot;Need some help?&quot; a secretary, walking by, asked. &quot;Yes,&quot; he replied, &quot;how does this thing work?&quot; &quot;Simple,&quot; she said, taking the fat report from his hand and feeding it into the shredder.&quot;Thanks, but where do the copies come out?&quot;\r\n",
        "\n",
        "134 An artist asked the gallery owner if there had been any interest in his paintings currently on display. &quot;I&#039;ve got good news and bad news,&quot; the owner replied. &quot;The good news is that a gentleman inquired about your work and wondered if it would appreciate in value after your death. When I told him it would, he bought all fifteen of your paintings.&quot;&quot;That&#039;s wonderful!&quot; the artist exclaimed. &quot;What&#039;s the bad news?&quot;With concern, the gallery owner replied:&quot;The guy was your doctor.&quot;\r\n",
        "\n",
        "135 A guy walked past a mental hospital and heard a moaning voice: &quot;13...13...13...13...&quot;The man looked over to the hospital and saw a hole in the wall. He looked through the hole and got poked in the eye. The moaning voice then groaned: &quot;14...14...14...14...&quot;\r\n",
        "\n",
        "136 A man went to apply for a job. After filling out all of his applications, he waited anxiously for the outcome.The employer read all his applications and said, &quot;We have an opening for people like you.&quot;&quot;Oh, great,&quot; he said. &quot;What is it?&quot;&quot;It&#039;s called the door!&quot;\r\n",
        "\n",
        "137 Deep within a forest, a little turtle began to climb a tree. After hours of effort, he reached the top, jumped into the air waving his front legs and crashed to the ground. After recovering, he slowly climbed the tree again, jumped, and fell to the ground. The turtle tried again and again, while a couple of birds sitting on a branch watched his sad efforts.Finally, the female bird turned to her mate. &quot;Dear,&quot; she chirped, &quot;I think it&#039;s time to tell him he&#039;s adopted.&quot;\r\n",
        "\n",
        "138 WASHINGTON (Reuters) - A tragic fire on Monday destroyed the personal library of President George W. Bush. Both of his books have been lost.Presidential spokesman Ari Fleischer said the president was devastated, as he had not finished coloring the second one.\r\n",
        "\n",
        "139 In a Veteran&#039;s Day speech, President Bush vowed, &quot;We will finish the mission. Period.&quot; Afterwards, he was advised that he doesn&#039;t have to read the punctuation marks.\r\n",
        "\n",
        "140 Chuck Norris&#039; calendar goes straight from March 31st to April 2nd; no one fools Chuck Norris.\r\n",
        "\n",
        "141 Jack Bauer can get McDonald&#039;s breakfast after 30.\r\n",
        "\n",
        "142 One day, three men went to a shrine to ask the Father for forgiveness.The first man went to the Father...First Man: &quot;Father, Father, I have sinned!&quot;Father: &quot;What have you done?&quot;First Man: &quot;I have lied!&quot;Father: &quot;Drink the holy water and you will be saved.&quot;And so the man drank the water and was &quot;saved.&quot;The second man went up to the Father...Second Man: &quot;Father, Father, I have sinned!&quot;Father: &quot;What have you done?&quot;Second Man: &quot;I have stolen from the jeweler&#039;s!&quot;Father: &quot;Drink the holy water and you will be saved.&quot;And so the second man drank the holy water and was &quot;saved.&quot;The third man went up to the Father...Third Man: &quot;Father, Father, I have sinned!&quot;Father: &quot;What have you done?&quot;Third Man: &quot;I peed in the holy water!&quot;\r\n",
        "\n",
        "143 A preist, a 12-year-old kid, and the smartest guy in the world are on a plane.The pilot screams, &quot;The plane is going down! You have to jump!&quot; He then grabs a parachute and jumps off, leaving only two more parachutes on the plane.The smartest guy in the world says, &quot;I have to go. I mean, I&#039;m the smartest guy in the world!&quot; He grabs a parachute, and jumps.The priest then looks at the 12-year-old kid, and says, &quot;Go, my son. You have a long life to live.&quot;The kid calmly responds: &quot;Dude, chill. We&#039;ll be fine. The &#039;smartest guy in the world&#039; took my backpack.&quot;\r\n",
        "\n",
        "144 A man is driving in the country one evening when his car stalls and won&#039;t start. He goes up to a nearby farm house for help, and because it is suppertime he is asked to stay for supper. When he sits down at the table he notices that a pig is sitting at the table with them for supper and that the pig has a wooden leg.As they are eating and chatting, he eventually asks the farmer why the pig is there and why it has a wooden leg.<br />&quot;Oh,&quot; says the farmer, &quot;that is a very special pig. Last month my wife and daughter were in the barn when it caught fire. The pig saw this, ran to the barn, tipped over a pail of water, crawled over the wet floor to reach them and pulled them out of the barn safely. A special pig like that, you just don&#039;t eat it all at once!&quot;\r\n",
        "\n",
        "145 A blonde, brunette, and a red head are all lined up to be shot to death by a firing squad.The brunette shouts, &quot;Tornado!&quot; and the riflemen turn around to see the tornado. It isn&#039;t there, and the brunette uses that time to escape.The red head yells, &quot;Lightning!&quot; and the riflemen again turn to see the disaster, yet there is no disaster and the red head escapes.The blonde yells, &quot;Fire!&quot;The riflemen do.\r\n",
        "\n",
        "146 America:00 - Welcome to work!00 - Lunch break00 - The work day is overJapan:00 - Are you already at work?00 - Continue your work00 - The work day is over00 - Please finish your workRomania:00 - Has anyone come to work?00 - Did someone start working?00 - Is anyone at work?\r\n",
        "\n",
        "147 It was the day of the big sale. Rumors of the sale (and some advertising in the local paper) were the main reason for the long line that formed by 30, the store&#039;s opening time, in front of the store.A small man pushed his way to the front of the line, only to be pushed back, amid loud and colorful curses. On the man&#039;s second attempt, he was punched square in the jaw, and knocked around a bit, and then thrown to the end of the line again. As he got up the second time, he said to the person at the end of the line...&quot;That does it! If they hit me one more time, I won&#039;t open the store!&quot;\r\n",
        "\n",
        "148 Recently a teacher, a garbage collector, and a lawyer wound up together at the Pearly Gates. St. Peter informed them that in order to get into Heaven, they would each have to answer one question. St. Peter addressed the teacher and asked, &quot;What was the name of the ship that crashed into the iceberg? They just made a movie about it.&quot; The teacher answered quickly, &quot;That would be the Titanic.&quot; St. Peter let him through the gate. St. Peter turned to the garbage man and, figuring Heaven didn&#039;t really need all the odors that this guy would bring with him, decided to make the question a little harder: &quot;How many people died on the ship?&quot; Fortunately for him, the trash man had just seen the movie. &quot;1,228,&quot; he answered. &quot;That&#039;s right! You may enter.&quot;St. Peter turned to the lawyer: &quot;Name them.&quot;\r\n",
        "\n",
        "149 A little girl asked her father, &quot;Daddy? Do all fairy tales begin with &#039;Once Upon a Time&#039;?&quot; He replied, &quot;No, there is a whole series of fairy tales that begin with &#039;If elected I promise&#039;.&quot;\r\n",
        "\n",
        "150 In an interview with David Letterman, Carter passed along an anecdote of a translation problem in Japan. Carter was speaking at a business lunch in Tokyo, where he decided to open his speech with a brief joke.He told the joke, then waited for the translator to announce the Japanese version. Even though the story was quite short, Carter was surprised by how quickly the interpreter was able to re-tell it. Even more impressive was the reaction from the crowd. Carter thought the story was cute, but not outright hilarious, yet the crowd broke right up. Carter was very flattered.After the speech, Carter wanted to meet the translator to ask him how he told the joke. Perhaps there is better way to tell the joke?When Carter asked how the joke had been told in Japanese, the translator responded, &quot;I told them, &#039;President Carter has told a very funny joke. Please laugh now.&#039;&quot;\r\n",
        "\n"
       ]
      }
     ],
     "prompt_number": 3
    },
    {
     "cell_type": "code",
     "collapsed": false,
     "input": [
      "# Let's create a function that we can use to view jokes that a user liked in the training set.\n",
      "from collections import defaultdict\n",
      "liked_jokes = defaultdict(list)\n",
      "import csv\n",
      "f = 'splits/joke-ratings.csv.10000.train.0'\n",
      "with open(f, 'r') as fin:\n",
      "    reader = csv.reader(fin, delimiter='\\t')\n",
      "    for row in reader:\n",
      "        if int(row[2]) == 1:\n",
      "            liked_jokes[int(row[0])].append(int(row[1]))\n",
      "\n",
      "from random import shuffle\n",
      "def get_n_liked_jokes(user_id, n):\n",
      "    liked = liked_jokes[user_id]\n",
      "    shuffle(liked)\n",
      "    for i in liked[:n]:\n",
      "        try:\n",
      "            print ids_to_jokes[i]\n",
      "        except KeyError:\n",
      "            print 'Missing'"
     ],
     "language": "python",
     "metadata": {},
     "outputs": [],
     "prompt_number": 4
    },
    {
     "cell_type": "code",
     "collapsed": false,
     "input": [
      "get_n_liked_jokes(12, 8)"
     ],
     "language": "python",
     "metadata": {},
     "outputs": [
      {
       "output_type": "stream",
       "stream": "stdout",
       "text": [
        "How many teddy bears does it take to change a lightbulb?It takes only one teddy bear, but it takes a whole lot of lightbulbs.\r\n",
        "\n",
        "Q: What is the Australian word for a boomerang that won&#039;t come back?A: A stick.\r\n",
        "\n",
        "An old Scotsman is sitting with a younger Scottish gentleman and says to the boy, &quot;Ah, lad, look out that window. You see that stone wall there? I built it with me own bare hands, placed every stone meself. But do they call me MacGregor the wall builder? No!&quot;He takes a few sips of his beer then says, &quot;Aye, and look out on that lake and eye that beautiful pier. I built it meself, laid every board and hammered each nail, but do they call me MacGregor the pier builder? No!&quot;He continues: &quot;And lad, you see that road? That too I build with me own bare hands. Laid every inch of pavement meself, but do they call MacGregor the road builder? No!&quot;Again he returns to his beer for a few sips, and then says, &quot;Agh, but you screw one sheep...&quot;\r\n",
        "\n",
        "An artist asked the gallery owner if there had been any interest in his paintings currently on display. &quot;I&#039;ve got good news and bad news,&quot; the owner replied. &quot;The good news is that a gentleman inquired about your work and wondered if it would appreciate in value after your death. When I told him it would, he bought all fifteen of your paintings.&quot;&quot;That&#039;s wonderful!&quot; the artist exclaimed. &quot;What&#039;s the bad news?&quot;With concern, the gallery owner replied:&quot;The guy was your doctor.&quot;\r\n",
        "\n",
        "Why are there so many Jones&#039;s in the phone book?Because they all have phones.\r\n",
        "\n",
        "A little boy goes to his dad and asks, &quot;What is politics?&quot;His dad says, &quot;Well son, let me try to explain it this way: I&#039;m the breadwinner of the family, so let&#039;s call me capitalism. Your Mom, she&#039;s the administrator of the money, so we&#039;ll call her the government. We&#039;re here to take care of your needs, so we&#039;ll call you the people. The nanny, we&#039;ll consider her the working class. And your baby brother, we&#039;ll call him the future. Now, think about that and see if that makes sense.&quot;So the little boy goes off to bed thinking about what dad had said. Later that night, he hears his baby brother crying, so he gets up to check on him. He finds that the baby has severely soiled his diaper. So the little boy goes to his parents&#039; room and finds his mother sound asleep. Not wanting to wake her, he goes to the nanny&#039;s room. Finding the door locked, he peeks in the keyhole and sees his father in bed with the nanny. He gives up and goes back to bed. The next morning, the little boy says to his father, &quot;Dad, I think I understand the concept of politics now.&quot; The father says, &quot;Good, son. Tell me in your own words what you think politics is all about.&quot;The little boy replies, &quot;Well, while capitalism is screwing the working class, the government is sound asleep, the people are being ignored and the future is in deep shit.&quot;\r\n",
        "\n",
        "An old man goes to the doctor for his yearly physical, his wife tagging along. When the doctor enters the examination room, he tells the old man, &quot;I need a urine sample, a stool sample and a sperm sample.&quot;The old man, being hard of hearing, looks at his wife and yells: &quot;WHAT? What did he say? What&#039;s he want?&quot;His wife yells back, &quot;He needs your underwear.&quot;\r\n",
        "\n",
        "A couple has been married for 75 years. For the husband&#039;s 95th birthday, his wife decides to surprise him by hiring a prostitute. That day, the doorbell rings. The husband uses his walker to get to the door and opens it.A 21-year-old in a latex outfit smiles and says, &quot;Hi, I here to give you super sex!&quot;The old man says, &quot;I&#039;ll take the soup.&quot;\r\n",
        "\n"
       ]
      }
     ],
     "prompt_number": 10
    },
    {
     "cell_type": "code",
     "collapsed": false,
     "input": [
      "# Let's instantiate and train the recommender.\n",
      "from mrec.mf.wrmf import WRMFRecommender\n",
      "# d is the number of latent factors to discover\n",
      "rec = WRMFRecommender(d=100, num_iters=15)\n",
      "rec.fit(train)"
     ],
     "language": "python",
     "metadata": {},
     "outputs": [
      {
       "output_type": "stream",
       "stream": "stdout",
       "text": [
        "iteration 0\n",
        "iteration"
       ]
      },
      {
       "output_type": "stream",
       "stream": "stdout",
       "text": [
        " 1\n",
        "iteration"
       ]
      },
      {
       "output_type": "stream",
       "stream": "stdout",
       "text": [
        " 2\n",
        "iteration"
       ]
      },
      {
       "output_type": "stream",
       "stream": "stdout",
       "text": [
        " 3\n",
        "iteration"
       ]
      },
      {
       "output_type": "stream",
       "stream": "stdout",
       "text": [
        " 4\n",
        "iteration"
       ]
      },
      {
       "output_type": "stream",
       "stream": "stdout",
       "text": [
        " 5\n",
        "iteration"
       ]
      },
      {
       "output_type": "stream",
       "stream": "stdout",
       "text": [
        " 6\n",
        "iteration"
       ]
      },
      {
       "output_type": "stream",
       "stream": "stdout",
       "text": [
        " 7\n",
        "iteration"
       ]
      },
      {
       "output_type": "stream",
       "stream": "stdout",
       "text": [
        " 8\n",
        "iteration"
       ]
      },
      {
       "output_type": "stream",
       "stream": "stdout",
       "text": [
        " 9\n",
        "iteration"
       ]
      },
      {
       "output_type": "stream",
       "stream": "stdout",
       "text": [
        " 10\n",
        "iteration"
       ]
      },
      {
       "output_type": "stream",
       "stream": "stdout",
       "text": [
        " 11\n",
        "iteration"
       ]
      },
      {
       "output_type": "stream",
       "stream": "stdout",
       "text": [
        " 12\n",
        "iteration"
       ]
      },
      {
       "output_type": "stream",
       "stream": "stdout",
       "text": [
        " 13\n",
        "iteration"
       ]
      },
      {
       "output_type": "stream",
       "stream": "stdout",
       "text": [
        " 14\n"
       ]
      }
     ],
     "prompt_number": 8
    },
    {
     "cell_type": "code",
     "collapsed": false,
     "input": [
      "# This function will allow us to view the recommended jokes.\n",
      "def get_jokes(recs):\n",
      "    for rec in recs:\n",
      "        print ids_to_jokes[rec[0]]"
     ],
     "language": "python",
     "metadata": {},
     "outputs": [],
     "prompt_number": 9
    },
    {
     "cell_type": "code",
     "collapsed": false,
     "input": [
      "# Let's compare the jokes that a user liked in the training set with the jokes that are recommended for the user.\n",
      "get_n_liked_jokes(12, 5)"
     ],
     "language": "python",
     "metadata": {},
     "outputs": [
      {
       "output_type": "stream",
       "stream": "stdout",
       "text": [
        "This guy&#039;s wife asks, &quot;Honey, if I died would you remarry?&quot; and he replies, &quot;Well, after a considerable period of grieving, we all need companionship, so I guess I would.&quot;She then asks, &quot;If I died and you remarried, would she live in this house?&quot; and he replies, &quot;We&#039;ve spent a lot of time and money getting this house just the way we want it. I&#039;m not going to get rid of my house, so I guess she would.&quot;&quot;If I died and you remarried, and she lived in this house, would she sleep in our bed?&quot; and he says, &quot;That bed is brand new. We just paid two thousand dollars for it, and it&#039;s going to last a long time, so I guess she would.&quot;So she asks, &quot;If I died and you remarried, and she lived in this house, and slept in our bed, would she use my golf clubs?&quot;&quot;Oh no, she&#039;s left handed.&quot;\r\n",
        "\n",
        "An engineer dies and reports to the pearly gates. St. Peter checks his dossier and says, &quot;Ah, you&#039;&#039;re an engineer--you&#039;re in the wrong place.&quot; So, the engineer reports to the gates of hell and is let in. Pretty soon, the engineer gets dissatisfied with the level of comfort in hell, and starts designing and building improvements. After awhile, they&#039;ve got air conditioning, flush toilets and escalators, and the engineer is a pretty popular guy. One day, God calls Satan up on the telephone and says with a sneer, &quot;So, how&#039;s it going down there in hell?&quot;Satan replies, &quot;Hey, things are going great. We&#039;ve got air conditioning, flush toilets and escalators, and there&#039;s no telling what this engineer is going to come up with next.&quot;God replies, &quot;What?? You&#039;ve got an engineer? That&#039;s a mistake--he should never have gotten down there; send him up here.&quot;Satan says, &quot;No way.&quot; I like having an engineer on the staff, and I&#039;m keeping him.&quot;God says, &quot;Send him back up here or I&#039;ll sue.&quot;Satan laughs uproariously and answers, &quot;Yeah, right. And just where are YOU going to get a lawyer?&quot;\r\n",
        "\n",
        "Q. What is orange and sounds like a parrot?A. A carrot.\r\n",
        "\n",
        "A teacher is explaining to her class how different languages use negatives differently. She says, &quot;In all languages, a positive followed by a negative or a negative followed by a positive makes a negative. In some languages, two negatives together make a positive, while in others they make a negative. But in no language do two positives make a negative.&quot;One of the students puts up his hand and says, &quot;Yeah, right.&quot;\r\n",
        "\n",
        "In an interview with David Letterman, Carter passed along an anecdote of a translation problem in Japan. Carter was speaking at a business lunch in Tokyo, where he decided to open his speech with a brief joke.He told the joke, then waited for the translator to announce the Japanese version. Even though the story was quite short, Carter was surprised by how quickly the interpreter was able to re-tell it. Even more impressive was the reaction from the crowd. Carter thought the story was cute, but not outright hilarious, yet the crowd broke right up. Carter was very flattered.After the speech, Carter wanted to meet the translator to ask him how he told the joke. Perhaps there is better way to tell the joke?When Carter asked how the joke had been told in Japanese, the translator responded, &quot;I told them, &#039;President Carter has told a very funny joke. Please laugh now.&#039;&quot;\r\n",
        "\n"
       ]
      }
     ],
     "prompt_number": 18
    },
    {
     "cell_type": "code",
     "collapsed": false,
     "input": [
      "print get_jokes(rec.recommend_items(dataset=train, u=12, max_items=5))"
     ],
     "language": "python",
     "metadata": {},
     "outputs": [
      {
       "output_type": "stream",
       "stream": "stdout",
       "text": [
        "Q: How many programmers does it take to change a lightbulb?A: NONE! That&#039;s a hardware problem...\r\n",
        "\n",
        "Did you hear that Clinton has announced that there is a new national bird?The spread eagle.\r\n",
        "\n",
        "A bus station is where a bus stops.A train station is where a train stops.On my desk I have a work station...\r\n",
        "\n",
        "Q: What&#039;s the difference between a lawyer and a plumber? A: A plumber works to unclog the system.\r\n",
        "\n",
        "A lady bought a new Lexus. It cost a bundle. Two days later, she brought it back, complaining that the radio was not working.&quot;Madam,&quot; said the sales manager, &quot;the audio system in this car is completely automatic. All you need to do is tell it what you want to listen to, and you will hear exactly that!&quot;She drove out, somewhat amazed and a little confused. She looked at the radio and said, &quot;Nelson.&quot; The radio responded, &quot;Ricky or Willie?&quot; She was astounded. If she wanted Beethoven, that&#039;s what she got. If she wanted Nat King Cole, she got it.She was stopped at a traffic light enjoying &quot;On the Road Again&quot; when the light turned green and she pulled out. Suddenly an enormous sports utility vehicle coming from the street she was crossing sped toward her, obviously not paying attention to the light. She swerved and narrowly missed a collision.&quot;Idiot!&quot; she yelled and, from the radio, &quot;Ladies and gentlemen, the President of the United States.&quot;\r\n",
        "\n",
        "None\n"
       ]
      }
     ],
     "prompt_number": 17
    },
    {
     "cell_type": "markdown",
     "metadata": {},
     "source": [
      "# Movie Recommendation\n",
      "\n",
      "Now we will recommend movies using the Movielens dataset."
     ]
    },
    {
     "cell_type": "code",
     "collapsed": false,
     "input": [
      "# TODO load the training set, splits/u.data.train.0\n",
      "movies_train = load_sparse_matrix('tsv', 'splits/u.data.train.0')"
     ],
     "language": "python",
     "metadata": {},
     "outputs": [],
     "prompt_number": 19
    },
    {
     "cell_type": "code",
     "collapsed": false,
     "input": [
      "# TODO instantiate a WRMFRecommender that will use 100 latent factors\n",
      "movies_rec = WRMFRecommender(d=100, num_iters=15)\n",
      "# TODO fit the recommender on the training data\n",
      "movies_rec.fit(movies_train)"
     ],
     "language": "python",
     "metadata": {},
     "outputs": [
      {
       "output_type": "stream",
       "stream": "stdout",
       "text": [
        "iteration 0\n",
        "iteration"
       ]
      },
      {
       "output_type": "stream",
       "stream": "stdout",
       "text": [
        " 1\n",
        "iteration"
       ]
      },
      {
       "output_type": "stream",
       "stream": "stdout",
       "text": [
        " 2\n",
        "iteration"
       ]
      },
      {
       "output_type": "stream",
       "stream": "stdout",
       "text": [
        " 3\n",
        "iteration"
       ]
      },
      {
       "output_type": "stream",
       "stream": "stdout",
       "text": [
        " 4\n",
        "iteration"
       ]
      },
      {
       "output_type": "stream",
       "stream": "stdout",
       "text": [
        " 5\n",
        "iteration"
       ]
      },
      {
       "output_type": "stream",
       "stream": "stdout",
       "text": [
        " 6\n",
        "iteration"
       ]
      },
      {
       "output_type": "stream",
       "stream": "stdout",
       "text": [
        " 7\n",
        "iteration"
       ]
      },
      {
       "output_type": "stream",
       "stream": "stdout",
       "text": [
        " 8\n",
        "iteration"
       ]
      },
      {
       "output_type": "stream",
       "stream": "stdout",
       "text": [
        " 9\n",
        "iteration"
       ]
      },
      {
       "output_type": "stream",
       "stream": "stdout",
       "text": [
        " 10\n",
        "iteration"
       ]
      },
      {
       "output_type": "stream",
       "stream": "stdout",
       "text": [
        " 11\n",
        "iteration"
       ]
      },
      {
       "output_type": "stream",
       "stream": "stdout",
       "text": [
        " 12\n",
        "iteration"
       ]
      },
      {
       "output_type": "stream",
       "stream": "stdout",
       "text": [
        " 13\n",
        "iteration"
       ]
      },
      {
       "output_type": "stream",
       "stream": "stdout",
       "text": [
        " 14\n"
       ]
      }
     ],
     "prompt_number": 27
    },
    {
     "cell_type": "code",
     "collapsed": false,
     "input": [
      "# TODO create versions of the joke utility functions for the movie data set.\n",
      "\n",
      "# TODO create a dictionary of movie IDs to movie titles\n",
      "ids_to_movies = {}\n",
      "# TODO populate the dictionary from ml-100k/u.item\n",
      "with open('ml-100k/u.item', 'r') as fin:\n",
      "    reader = csv.reader(fin, delimiter='|')\n",
      "    for row in reader:\n",
      "        ids_to_movies[int(row[0])] = row[1]\n",
      "\n",
      "# TODO create lists of the movies that each user liked from the training data, splits/u.data.train.0\n",
      "# TODO a defaultdict will be useful\n",
      "liked_movies = defaultdict(list)\n",
      "with open('splits/u.data.train.0', 'r') as fin:\n",
      "    reader = csv.reader(fin, delimiter='\\t')\n",
      "    for row in reader:\n",
      "        if int(row[2]) == 1:\n",
      "            liked_movies[int(row[0])].append(int(row[1]))\n",
      "\n",
      "# TODO define a function that prints n randomly selected movies that a specified user liked\n",
      "def print_n_liked_movies(user_id, n):\n",
      "    liked = liked_movies[user_id]\n",
      "    shuffle(liked)\n",
      "    for i in liked[:n]:\n",
      "        try:\n",
      "            print ids_to_movies[i]\n",
      "        except KeyError:\n",
      "            print 'Missing'\n",
      "\n",
      "# TODO define a function that prints the titles from a list of recommended IDs\n",
      "def get_movies(recs):\n",
      "    for rec in recs:\n",
      "        try:\n",
      "            print ids_to_movies[rec[0]]\n",
      "        except KeyError:\n",
      "            print 'the title could not be found for', rec[0]"
     ],
     "language": "python",
     "metadata": {},
     "outputs": [],
     "prompt_number": 40
    },
    {
     "cell_type": "code",
     "collapsed": false,
     "input": [
      "# TODO print 10 movies that user 100 liked\n",
      "print_n_liked_movies(100, 10)"
     ],
     "language": "python",
     "metadata": {},
     "outputs": [
      {
       "output_type": "stream",
       "stream": "stdout",
       "text": [
        "Tomorrow Never Dies (1997)\n",
        "L.A. Confidential (1997)\n",
        "Seven Years in Tibet (1997)\n",
        "As Good As It Gets (1997)\n",
        "Full Monty, The (1997)\n",
        "Apt Pupil (1998)\n",
        "Replacement Killers, The (1998)\n",
        "Sphere (1998)\n",
        "Conspiracy Theory (1997)\n",
        "Apostle, The (1997)\n"
       ]
      }
     ],
     "prompt_number": 41
    },
    {
     "cell_type": "code",
     "collapsed": false,
     "input": [
      "# TODO print 10 movies recommended for user 100\n",
      "get_movies(movies_rec.recommend_items(dataset=movies_train, u=100, max_items=10))"
     ],
     "language": "python",
     "metadata": {},
     "outputs": [
      {
       "output_type": "stream",
       "stream": "stdout",
       "text": [
        "Rock, The (1996)\n",
        "the title could not be found for 0\n",
        "Swingers (1996)\n",
        "Kingpin (1996)\n",
        "Rumble in the Bronx (1995)\n",
        "Shall We Dance? (1996)\n",
        "Jumanji (1995)\n",
        "Robin Hood: Prince of Thieves (1991)\n",
        "River Wild, The (1994)\n",
        "Jaws (1975)\n"
       ]
      }
     ],
     "prompt_number": 42
    },
    {
     "cell_type": "code",
     "collapsed": false,
     "input": [],
     "language": "python",
     "metadata": {},
     "outputs": []
    }
   ],
   "metadata": {}
  }
 ]
}