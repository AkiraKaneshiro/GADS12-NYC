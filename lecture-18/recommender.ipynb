{
 "metadata": {
  "name": "",
  "signature": "sha256:3d4eaec1285e4b230d242f7d83b89148966e64cfcd9f53194ce2d92dd1eb922f"
 },
 "nbformat": 3,
 "nbformat_minor": 0,
 "worksheets": [
  {
   "cells": [
    {
     "cell_type": "markdown",
     "metadata": {},
     "source": [
      "# Joke Recommendation\n",
      "\n",
      "__Jester__ was a joke recommendation system built at UC Berkeley. The data set consists of >4 MM continuous ratings (-10 to 10) of 150 jokes from more than 70,000 users collected between 1999 and 2012.\n",
      "\n",
      "The dataset can be downloade from http://eigentaste.berkeley.edu/dataset/. I have prepared a subset of the dataset for use with the `mrec` library."
     ]
    },
    {
     "cell_type": "code",
     "collapsed": false,
     "input": [
      "from mrec import load_sparse_matrix\n",
      "# The data set consists of user_id, joke_id, rating triples.\n",
      "# TODO inspect joke-ratings.csv\n",
      "# I have split the data set into training and testing sets. The testing set only contains\n",
      "# jokes that the user liked (rated >4).\n",
      "# We will load the training and testing sets into sparse matrices using the load_sparse_matrix utility function.\n",
      "train = load_sparse_matrix('tsv', 'splits/joke-ratings.csv.10000.train.0')\n",
      "test = load_sparse_matrix('tsv', 'splits/joke-ratings.csv.10000.test.0')"
     ],
     "language": "python",
     "metadata": {},
     "outputs": []
    },
    {
     "cell_type": "code",
     "collapsed": false,
     "input": [
      "# TODO print the shapes of the training and test sets\n",
      "print test.shape"
     ],
     "language": "python",
     "metadata": {},
     "outputs": []
    },
    {
     "cell_type": "code",
     "collapsed": false,
     "input": [
      "# The actual jokes are stored in a separate file.\n",
      "# TODO inspect jokes.txt\n",
      "# Let's load the jokes so that we can inspect the recommendations.\n",
      "ids_to_jokes = {}\n",
      "f = 'jokes.txt'\n",
      "with open(f, 'r') as fin:\n",
      "    for i, l in enumerate(fin.readlines()):\n",
      "        print i+1, l\n",
      "        ids_to_jokes[i+1] = l"
     ],
     "language": "python",
     "metadata": {},
     "outputs": []
    },
    {
     "cell_type": "code",
     "collapsed": false,
     "input": [
      "# Let's create a function that we can use to view jokes that a user liked in the training set.\n",
      "from collections import defaultdict\n",
      "liked_jokes = defaultdict(list)\n",
      "import csv\n",
      "f = 'splits/joke-ratings.csv.10000.train.0'\n",
      "with open(f, 'r') as fin:\n",
      "    reader = csv.reader(fin, delimiter='\\t')\n",
      "    for row in reader:\n",
      "        if int(row[2]) == 1:\n",
      "            liked_jokes[int(row[0])].append(int(row[1]))\n",
      "\n",
      "from random import shuffle\n",
      "def get_n_liked_jokes(user_id, n):\n",
      "    liked = liked_jokes[user_id]\n",
      "    shuffle(liked)\n",
      "    for i in liked[:n]:\n",
      "        try:\n",
      "            print ids_to_jokes[i]\n",
      "        except KeyError:\n",
      "            print 'Missing'"
     ],
     "language": "python",
     "metadata": {},
     "outputs": []
    },
    {
     "cell_type": "code",
     "collapsed": false,
     "input": [
      "get_n_liked_jokes(12, 8)"
     ],
     "language": "python",
     "metadata": {},
     "outputs": []
    },
    {
     "cell_type": "code",
     "collapsed": false,
     "input": [
      "# Let's instantiate and train the recommender.\n",
      "from mrec.mf.wrmf import WRMFRecommender\n",
      "# d is the number of latent factors to discover\n",
      "rec = WRMFRecommender(d=100, num_iters=15)\n",
      "rec.fit(train)"
     ],
     "language": "python",
     "metadata": {},
     "outputs": []
    },
    {
     "cell_type": "code",
     "collapsed": false,
     "input": [
      "# This function will allow us to view the recommended jokes.\n",
      "def get_jokes(recs):\n",
      "    for rec in recs:\n",
      "        print ids_to_jokes[rec[0]]"
     ],
     "language": "python",
     "metadata": {},
     "outputs": []
    },
    {
     "cell_type": "code",
     "collapsed": false,
     "input": [
      "# Let's compare the jokes that a user liked in the training set with the jokes that are recommended for the user.\n",
      "get_n_liked_jokes(12, 5)"
     ],
     "language": "python",
     "metadata": {},
     "outputs": []
    },
    {
     "cell_type": "code",
     "collapsed": false,
     "input": [
      "print get_jokes(rec.recommend_items(dataset=train, u=12, max_items=5))"
     ],
     "language": "python",
     "metadata": {},
     "outputs": []
    },
    {
     "cell_type": "markdown",
     "metadata": {},
     "source": [
      "# Movie Recommendation\n",
      "\n",
      "Now we will recommend movies using the Movielens dataset."
     ]
    },
    {
     "cell_type": "code",
     "collapsed": false,
     "input": [
      "# TODO load the training set, splits/u.data.train.0\n"
     ],
     "language": "python",
     "metadata": {},
     "outputs": []
    },
    {
     "cell_type": "code",
     "collapsed": false,
     "input": [
      "# TODO instantiate a WRMFRecommender that will use 100 latent factors\n",
      "\n",
      "# TODO fit the recommender on the training data\n"
     ],
     "language": "python",
     "metadata": {},
     "outputs": []
    },
    {
     "cell_type": "code",
     "collapsed": false,
     "input": [
      "# TODO create versions of the joke utility functions for the movie data set.\n",
      "\n",
      "# TODO create a dictionary of movie IDs to movie titles\n",
      "\n",
      "# TODO populate the dictionary from ml-100k/u.item\n",
      "\n",
      "\n",
      "# TODO create lists of the movies that each user liked from the training data, splits/u.data.train.0\n",
      "# TODO a defaultdict will be useful\n",
      "\n",
      "\n",
      "# TODO define a function that prints n randomly selected movies that a specified user liked\n",
      "\n",
      "\n",
      "# TODO define a function that prints the titles from a list of recommended IDs\n"
     ],
     "language": "python",
     "metadata": {},
     "outputs": []
    },
    {
     "cell_type": "code",
     "collapsed": false,
     "input": [
      "# TODO print 10 movies that user 100 liked\n"
     ],
     "language": "python",
     "metadata": {},
     "outputs": []
    },
    {
     "cell_type": "code",
     "collapsed": false,
     "input": [
      "# TODO print 10 movies recommended for user 100\n"
     ],
     "language": "python",
     "metadata": {},
     "outputs": []
    },
    {
     "cell_type": "code",
     "collapsed": false,
     "input": [],
     "language": "python",
     "metadata": {},
     "outputs": []
    }
   ],
   "metadata": {}
  }
 ]
}