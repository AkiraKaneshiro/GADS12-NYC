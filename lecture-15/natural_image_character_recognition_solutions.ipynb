{
 "metadata": {
  "name": "natural_image_character_recognition_solutions"
 },
 "nbformat": 3,
 "nbformat_minor": 0,
 "worksheets": [
  {
   "cells": [
    {
     "cell_type": "markdown",
     "metadata": {},
     "source": [
      "# Classifying Characters in Natural Images with Support Vector Machines\n",
      "\n",
      "In this lab we will classify alphanumeric characters in photographs. The Chars74K data set, collected by T. E. de Campos, B. R. Babu and M. Varma for \u201cCharacter Recognition in Natural Images\u201d, contains more than 74,000 images of the digits zero through nine and the characters for both cases of the English alphabet. The following are three examples of images of the lowercase letter \u201cz\u201d. Chars74K can be downloaded from http://www.ee.surrey.ac.uk/CVSSP/demos/chars74k/.  \n",
      "\n",
      "![files/img/8365OS_09_33.png](files/img/8365OS_09_33.png)  \n",
      "\n",
      "Several types of images comprise the collection. We will use 7,705 images of characters that were extracted from photographs of street scenes taken in Bangalore, India. In contrast to MNIST, the images in this portion of Chars74K depict the characters in a variety of fonts, colors, and perturbations.  \n",
      "\n",
      "First we load the images for each of the sixty-two classes and convert them to greyscale using mahotas. As with previous examples, we wrap the script in a main block to support forking additional processes during grid search. Unlike MNIST, the images of Chars74K do not have consistent dimensions, so we will resize them to thirty pixels on a side."
     ]
    },
    {
     "cell_type": "code",
     "collapsed": false,
     "input": [
      "%pylab inline"
     ],
     "language": "python",
     "metadata": {},
     "outputs": [
      {
       "output_type": "stream",
       "stream": "stdout",
       "text": [
        "\n",
        "Welcome to pylab, a matplotlib-based Python environment [backend: module://IPython.zmq.pylab.backend_inline].\n",
        "For more information, type 'help(pylab)'.\n"
       ]
      }
     ],
     "prompt_number": 1
    },
    {
     "cell_type": "code",
     "collapsed": false,
     "input": [
      "# TODO import os\n",
      "import os\n",
      "# TODO import numpy as np\n",
      "import numpy as np\n",
      "# TODO import mahotas as mh\n",
      "import mahotas as mh"
     ],
     "language": "python",
     "metadata": {},
     "outputs": [],
     "prompt_number": 2
    },
    {
     "cell_type": "code",
     "collapsed": false,
     "input": [
      "X = []\n",
      "y = []\n",
      "# We need to navigate through the subdirectories in Bmp/\n",
      "for path, subdirs, files in os.walk('data/English/Img/GoodImg/Bmp/'):\n",
      "    # We will iterate through the files in each subdirectory\n",
      "    for filename in files:\n",
      "        # Create the absolute path to the file\n",
      "        f = os.path.join(path, filename)\n",
      "        # TODO read the image in greyscale using the imread method and as_grey keyword argument from mahotas.\n",
      "        img = mh.imread(f, as_grey=True)\n",
      "        # If the image is smaller than 30x30 we will discard it. It could be resized instead.\n",
      "        if img.shape[0] <= 30 or img.shape[1] <= 30:\n",
      "            continue\n",
      "        # Otherwise we will resize the image to 30x30.\n",
      "        # TODO resize the image using the imresize method from mahotas.\n",
      "        img_resized = mh.imresize(img, (30, 30))\n",
      "        # mahotas will somtimes return a larger image to preserve the aspect ratio.\n",
      "        # If this happens, we will resize it again.\n",
      "        if img_resized.shape != (30, 30):\n",
      "            img_resized = mh.imresize(img_resized, (30, 30))\n",
      "        # TODO reshape the image to a vector and append it to X\n",
      "        X.append(img_resized.reshape((900, 1)))\n",
      "        # The file names follow the convention img001-00001.png. \n",
      "        # The first three digits are the label. 001 corresponds to 0, 002 corresponds to 1, etc.\n",
      "        target = filename[3:filename.index('-')]\n",
      "        # TODO append the target to y\n",
      "        y.append(target)"
     ],
     "language": "python",
     "metadata": {},
     "outputs": [],
     "prompt_number": 3
    },
    {
     "cell_type": "code",
     "collapsed": false,
     "input": [
      "# We need to convert the list to an array\n",
      "X = np.array(X)\n",
      "# TODO print the shape of X\n",
      "print X.shape\n",
      "# TODO reshape X to be 2-dimensional\n",
      "X = X.reshape(X.shape[:2])\n",
      "# TODO print the shapes of X and y\n",
      "print X.shape, len(y)"
     ],
     "language": "python",
     "metadata": {},
     "outputs": [
      {
       "output_type": "stream",
       "stream": "stdout",
       "text": [
        "(5311, 900, 1)\n",
        "(5311, 900) 5311\n"
       ]
      }
     ],
     "prompt_number": 4
    },
    {
     "cell_type": "code",
     "collapsed": false,
     "input": [
      "# TODO import train_test_split\n",
      "from sklearn.cross_validation import train_test_split\n",
      "# TODO create training and test sets. Allocate 10% of the data to the test set\n",
      "X_train, X_test, y_train, y_test = train_test_split(X, y, test_size=.25)\n",
      "# TODO print the shapes of X_train, X_test, y_train, and y_test\n",
      "print X_train.shape, X_test.shape\n",
      "print len(y_train), len(y_test)"
     ],
     "language": "python",
     "metadata": {},
     "outputs": [
      {
       "output_type": "stream",
       "stream": "stderr",
       "text": [
        "/usr/local/lib/python2.7/dist-packages/sklearn/utils/sparsetools/__init__.py:3: RuntimeWarning: numpy.dtype size changed, may indicate binary incompatibility\n",
        "  from ._min_spanning_tree import minimum_spanning_tree\n",
        "/usr/local/lib/python2.7/dist-packages/sklearn/utils/sparsetools/__init__.py:3: RuntimeWarning: numpy.ufunc size changed, may indicate binary incompatibility\n",
        "  from ._min_spanning_tree import minimum_spanning_tree\n",
        "/usr/local/lib/python2.7/dist-packages/sklearn/utils/sparsetools/_graph_validation.py:5: RuntimeWarning: numpy.dtype size changed, may indicate binary incompatibility\n",
        "  from ._graph_tools import csgraph_to_dense, csgraph_from_dense,\\\n",
        "/usr/local/lib/python2.7/dist-packages/sklearn/utils/sparsetools/_graph_validation.py:5: RuntimeWarning: numpy.ufunc size changed, may indicate binary incompatibility\n",
        "  from ._graph_tools import csgraph_to_dense, csgraph_from_dense,\\\n",
        "/usr/local/lib/python2.7/dist-packages/sklearn/utils/sparsetools/__init__.py:4: RuntimeWarning: numpy.dtype size changed, may indicate binary incompatibility\n",
        "  from ._traversal import connected_components\n",
        "/usr/local/lib/python2.7/dist-packages/sklearn/utils/sparsetools/__init__.py:4: RuntimeWarning: numpy.ufunc size changed, may indicate binary incompatibility\n",
        "  from ._traversal import connected_components\n",
        "/usr/local/lib/python2.7/dist-packages/scipy/spatial/__init__.py:90: RuntimeWarning: numpy.dtype size changed, may indicate binary incompatibility\n",
        "  from .ckdtree import *\n",
        "/usr/local/lib/python2.7/dist-packages/scipy/spatial/__init__.py:90: RuntimeWarning: numpy.ufunc size changed, may indicate binary incompatibility\n",
        "  from .ckdtree import *\n",
        "/usr/local/lib/python2.7/dist-packages/scipy/spatial/__init__.py:91: RuntimeWarning: numpy.dtype size changed, may indicate binary incompatibility\n",
        "  from .qhull import *\n",
        "/usr/local/lib/python2.7/dist-packages/scipy/spatial/__init__.py:91: RuntimeWarning: numpy.ufunc size changed, may indicate binary incompatibility\n",
        "  from .qhull import *\n",
        "/usr/local/lib/python2.7/dist-packages/sklearn/utils/extmath.py:20: RuntimeWarning: numpy.dtype size changed, may indicate binary incompatibility\n",
        "  from ._logistic_sigmoid import _log_logistic_sigmoid\n",
        "/usr/local/lib/python2.7/dist-packages/sklearn/utils/extmath.py:20: RuntimeWarning: numpy.ufunc size changed, may indicate binary incompatibility\n",
        "  from ._logistic_sigmoid import _log_logistic_sigmoid\n",
        "/usr/local/lib/python2.7/dist-packages/sklearn/utils/extmath.py:22: RuntimeWarning: numpy.dtype size changed, may indicate binary incompatibility\n",
        "  from .sparsefuncs_fast import csr_row_norms\n",
        "/usr/local/lib/python2.7/dist-packages/sklearn/utils/extmath.py:22: RuntimeWarning: numpy.ufunc size changed, may indicate binary incompatibility\n",
        "  from .sparsefuncs_fast import csr_row_norms\n",
        "/usr/local/lib/python2.7/dist-packages/scipy/stats/distributions.py:35: RuntimeWarning: numpy.dtype size changed, may indicate binary incompatibility\n",
        "  from . import vonmises_cython\n"
       ]
      },
      {
       "output_type": "stream",
       "stream": "stderr",
       "text": [
        "/usr/local/lib/python2.7/dist-packages/scipy/stats/distributions.py:35: RuntimeWarning: numpy.ufunc size changed, may indicate binary incompatibility\n",
        "  from . import vonmises_cython\n",
        "/usr/local/lib/python2.7/dist-packages/scipy/stats/stats.py:252: RuntimeWarning: numpy.dtype size changed, may indicate binary incompatibility\n",
        "  from ._rank import rankdata, tiecorrect\n"
       ]
      },
      {
       "output_type": "stream",
       "stream": "stdout",
       "text": [
        "(3983, 900) (1328, 900)\n",
        "3983 1328\n"
       ]
      },
      {
       "output_type": "stream",
       "stream": "stderr",
       "text": [
        "/usr/local/lib/python2.7/dist-packages/scipy/stats/stats.py:252: RuntimeWarning: numpy.ufunc size changed, may indicate binary incompatibility\n",
        "  from ._rank import rankdata, tiecorrect\n",
        "/usr/local/lib/python2.7/dist-packages/sklearn/metrics/cluster/supervised.py:18: RuntimeWarning: numpy.dtype size changed, may indicate binary incompatibility\n",
        "  from .expected_mutual_info_fast import expected_mutual_information\n",
        "/usr/local/lib/python2.7/dist-packages/sklearn/metrics/cluster/supervised.py:18: RuntimeWarning: numpy.ufunc size changed, may indicate binary incompatibility\n",
        "  from .expected_mutual_info_fast import expected_mutual_information\n",
        "/usr/local/lib/python2.7/dist-packages/sklearn/metrics/pairwise.py:56: RuntimeWarning: numpy.dtype size changed, may indicate binary incompatibility\n",
        "  from .pairwise_fast import _chi2_kernel_fast, _sparse_manhattan\n",
        "/usr/local/lib/python2.7/dist-packages/sklearn/metrics/pairwise.py:56: RuntimeWarning: numpy.ufunc size changed, may indicate binary incompatibility\n",
        "  from .pairwise_fast import _chi2_kernel_fast, _sparse_manhattan\n"
       ]
      }
     ],
     "prompt_number": 5
    },
    {
     "cell_type": "code",
     "collapsed": false,
     "input": [
      "# TODO import Perceptron from linear_model\n",
      "from sklearn.linear_model import Perceptron\n",
      "# TODO instantiate a Perceptron\n",
      "classifier = Perceptron()\n",
      "# TODO fit the model\n",
      "classifier.fit(X_train, y_train)\n",
      "# TODO make predictions for the test set\n",
      "predictions = classifier.predict(X_test)"
     ],
     "language": "python",
     "metadata": {},
     "outputs": [
      {
       "output_type": "stream",
       "stream": "stderr",
       "text": [
        "/usr/local/lib/python2.7/dist-packages/sklearn/linear_model/least_angle.py:24: RuntimeWarning: numpy.dtype size changed, may indicate binary incompatibility\n",
        "  from ..utils import array2d, arrayfuncs, as_float_array, check_arrays\n",
        "/usr/local/lib/python2.7/dist-packages/sklearn/linear_model/least_angle.py:24: RuntimeWarning: numpy.ufunc size changed, may indicate binary incompatibility\n",
        "  from ..utils import array2d, arrayfuncs, as_float_array, check_arrays\n",
        "/usr/local/lib/python2.7/dist-packages/sklearn/linear_model/coordinate_descent.py:26: RuntimeWarning: numpy.dtype size changed, may indicate binary incompatibility\n",
        "  from . import cd_fast\n",
        "/usr/local/lib/python2.7/dist-packages/sklearn/linear_model/coordinate_descent.py:26: RuntimeWarning: numpy.ufunc size changed, may indicate binary incompatibility\n",
        "  from . import cd_fast\n",
        "/usr/local/lib/python2.7/dist-packages/sklearn/linear_model/__init__.py:21: RuntimeWarning: numpy.dtype size changed, may indicate binary incompatibility\n",
        "  from .sgd_fast import Hinge, Log, ModifiedHuber, SquaredLoss, Huber\n",
        "/usr/local/lib/python2.7/dist-packages/sklearn/linear_model/__init__.py:21: RuntimeWarning: numpy.ufunc size changed, may indicate binary incompatibility\n",
        "  from .sgd_fast import Hinge, Log, ModifiedHuber, SquaredLoss, Huber\n",
        "/usr/local/lib/python2.7/dist-packages/sklearn/svm/base.py:8: RuntimeWarning: numpy.dtype size changed, may indicate binary incompatibility\n",
        "  from . import libsvm, liblinear\n",
        "/usr/local/lib/python2.7/dist-packages/sklearn/svm/base.py:8: RuntimeWarning: numpy.ufunc size changed, may indicate binary incompatibility\n",
        "  from . import libsvm, liblinear\n",
        "/usr/local/lib/python2.7/dist-packages/sklearn/svm/base.py:9: RuntimeWarning: numpy.dtype size changed, may indicate binary incompatibility\n",
        "  from . import libsvm_sparse\n",
        "/usr/local/lib/python2.7/dist-packages/sklearn/svm/base.py:9: RuntimeWarning: numpy.ufunc size changed, may indicate binary incompatibility\n",
        "  from . import libsvm_sparse\n",
        "/usr/local/lib/python2.7/dist-packages/sklearn/utils/random.py:9: RuntimeWarning: numpy.dtype size changed, may indicate binary incompatibility\n",
        "  from ._random import sample_without_replacement\n",
        "/usr/local/lib/python2.7/dist-packages/sklearn/utils/random.py:9: RuntimeWarning: numpy.ufunc size changed, may indicate binary incompatibility\n",
        "  from ._random import sample_without_replacement\n"
       ]
      }
     ],
     "prompt_number": 6
    },
    {
     "cell_type": "code",
     "collapsed": false,
     "input": [
      "# TODO import classification_report\n",
      "from sklearn.metrics import classification_report\n",
      "# TODO make predictions for the test set\n",
      "predictions = classifier.predict(X_test)\n",
      "# TODO print the classification report\n",
      "print classification_report(y_test, predictions)"
     ],
     "language": "python",
     "metadata": {},
     "outputs": [
      {
       "output_type": "stream",
       "stream": "stdout",
       "text": [
        "             precision    recall  f1-score   support\n",
        "\n",
        "        001       0.04      0.12      0.06        17\n",
        "        002       0.00      0.00      0.00         9\n",
        "        003       0.00      0.00      0.00        12\n",
        "        004       0.75      0.43      0.55         7\n",
        "        005       0.00      0.00      0.00        10\n",
        "        006       0.08      0.14      0.11         7\n",
        "        007       0.00      0.00      0.00        10\n",
        "        008       0.00      0.00      0.00        11\n",
        "        009       0.50      0.25      0.33         4\n",
        "        010       0.00      0.00      0.00         3\n",
        "        011       1.00      0.11      0.19       114\n",
        "        012       0.00      0.00      0.00        21\n",
        "        013       0.00      0.00      0.00        43\n",
        "        014       0.00      0.00      0.00        40\n",
        "        015       1.00      0.03      0.05        73\n",
        "        016       0.00      0.00      0.00        11\n",
        "        017       1.00      0.07      0.12        30\n",
        "        018       0.00      0.00      0.00        31\n",
        "        019       0.00      0.00      0.00        29\n",
        "        020       0.00      0.00      0.00        22\n",
        "        021       0.00      0.00      0.00        19\n",
        "        022       0.00      0.00      0.00        32\n",
        "        023       0.67      0.09      0.16        22\n",
        "        024       0.06      0.67      0.10        76\n",
        "        025       0.10      0.02      0.04        83\n",
        "        026       0.11      0.31      0.16        29\n",
        "        027       0.00      0.00      0.00         9\n",
        "        028       0.00      0.00      0.00        63\n",
        "        029       0.50      0.06      0.11        67\n",
        "        030       0.11      0.07      0.09        57\n",
        "        031       0.00      0.00      0.00        11\n",
        "        032       0.00      0.00      0.00        15\n",
        "        033       0.00      0.00      0.00        11\n",
        "        034       0.00      0.00      0.00        20\n",
        "        035       0.57      0.21      0.31        19\n",
        "        036       0.00      0.00      0.00        12\n",
        "        037       0.00      0.00      0.00        25\n",
        "        038       0.00      0.00      0.00        11\n",
        "        039       0.00      0.00      0.00         9\n",
        "        040       0.00      0.00      0.00         7\n",
        "        041       1.00      0.03      0.06        31\n",
        "        042       0.00      0.00      0.00         9\n",
        "        043       0.00      0.00      0.00         6\n",
        "        044       0.00      0.00      0.00        11\n",
        "        045       0.00      0.00      0.00        11\n",
        "        046       0.00      0.00      0.00         5\n",
        "        047       0.00      0.00      0.00         5\n",
        "        048       0.00      0.00      0.00         5\n",
        "        049       0.00      0.00      0.00         9\n",
        "        050       0.00      0.00      0.00        21\n",
        "        051       0.00      0.00      0.00        21\n",
        "        052       0.00      0.00      0.00         5\n",
        "        053       0.33      0.11      0.17         9\n",
        "        054       0.09      0.05      0.06        21\n",
        "        055       0.00      0.00      0.00        15\n",
        "        056       0.00      0.00      0.00        11\n",
        "        057       0.00      0.00      0.00         4\n",
        "        058       0.00      0.00      0.00         4\n",
        "        059       0.00      0.00      0.00         6\n",
        "        060       0.00      0.00      0.00         6\n",
        "        061       0.00      0.00      0.00         4\n",
        "        062       0.00      0.00      0.00         8\n",
        "\n",
        "avg / total       0.26      0.08      0.06      1328\n",
        "\n"
       ]
      },
      {
       "output_type": "stream",
       "stream": "stderr",
       "text": [
        "/usr/local/lib/python2.7/dist-packages/sklearn/metrics/metrics.py:1771: UndefinedMetricWarning: Precision and F-score are ill-defined and being set to 0.0 in labels with no predicted samples.\n",
        "  'precision', 'predicted', average, warn_for)\n"
       ]
      }
     ],
     "prompt_number": 7
    },
    {
     "cell_type": "code",
     "collapsed": false,
     "input": [
      "# The perceptron's performance is very poor. The classes may not be linearly separable using this feature representation.\n",
      "# We can visualize the first two principal components in 2D.\n",
      "# TODO import PCA from the decomposition module\n",
      "from sklearn.decomposition import PCA\n",
      "# TODO instantiate a PCA estimator and keep the first two principal components\n",
      "pca = PCA(n_components=2)\n",
      "# TODO fit the estimator and transform all of the data\n",
      "X_reduced = pca.fit_transform(X)\n",
      "# TODO import pyplot as plt\n",
      "import matplotlib.pyplot as plt\n",
      "# The following will allow us to plot using different colors for the classes\n",
      "d = {}\n",
      "for i, v in enumerate(set(y)):\n",
      "    d[v] = i\n",
      "colors = [d[v] for v in y]\n",
      "# TODO scatter plot the reduced data\n",
      "plt.scatter(X_reduced[:, 0], X_reduced[:, 1], c=colors)\n",
      "plt.show()\n",
      "# While we cannot be certain from this visualization, the classes are probably not linearly separable."
     ],
     "language": "python",
     "metadata": {},
     "outputs": [
      {
       "output_type": "display_data",
       "png": "[encoded data removed]"
      }
     ],
     "prompt_number": 9
    },
    {
     "cell_type": "code",
     "collapsed": false,
     "input": [
      "# Because we suspect that the classes are not linearly separable, let's try a support vector machine with a non-linear kernel.\n",
      "# TODO import the class SVC (support vector classifier) from sklearn.svm\n",
      "from sklearn.svm import SVC\n",
      "# TODO instantiate a SVC. Use a Gaussian (RBF) kernel, set gamma to 0.01, and C to 100.\n",
      "# gamma is a hyperparameter for the RBF kernel. C is a hyperparameter for the regularization term.\n",
      "classifier = SVC(kernel='rbf', gamma=0.01, C=100)\n",
      "# TODO fit the classifier\n",
      "classifier.fit(X_train, y_train)"
     ],
     "language": "python",
     "metadata": {},
     "outputs": [
      {
       "output_type": "pyout",
       "prompt_number": 11,
       "text": [
        "SVC(C=100, cache_size=200, class_weight=None, coef0=0.0, degree=2, gamma=0.01,\n",
        "  kernel='poly', max_iter=-1, probability=False, random_state=None,\n",
        "  shrinking=True, tol=0.001, verbose=False)"
       ]
      }
     ],
     "prompt_number": 11
    },
    {
     "cell_type": "code",
     "collapsed": false,
     "input": [
      "# TODO make predictions for the test set\n",
      "predictions = classifier.predict(X_test)\n",
      "# TODO print the classification report\n",
      "print classification_report(y_test, predictions)"
     ],
     "language": "python",
     "metadata": {},
     "outputs": [
      {
       "output_type": "stream",
       "stream": "stdout",
       "text": [
        "             precision    recall  f1-score   support\n",
        "\n",
        "        001       0.15      0.24      0.18        17\n",
        "        002       0.08      0.22      0.11         9\n",
        "        003       0.14      0.17      0.15        12\n",
        "        004       0.20      0.57      0.30         7\n",
        "        005       0.80      0.80      0.80        10\n",
        "        006       0.25      0.43      0.32         7\n",
        "        007       0.30      0.30      0.30        10\n",
        "        008       0.50      0.36      0.42        11\n",
        "        009       0.09      0.25      0.13         4\n",
        "        010       0.07      0.33      0.11         3\n",
        "        011       0.81      0.75      0.78       114\n",
        "        012       0.15      0.29      0.20        21\n",
        "        013       0.40      0.44      0.42        43\n",
        "        014       0.59      0.42      0.49        40\n",
        "        015       0.69      0.62      0.65        73\n",
        "        016       0.12      0.18      0.14        11\n",
        "        017       0.25      0.20      0.22        30\n",
        "        018       0.72      0.42      0.53        31\n",
        "        019       0.43      0.62      0.51        29\n",
        "        020       0.21      0.23      0.22        22\n",
        "        021       0.77      0.53      0.62        19\n",
        "        022       0.76      0.59      0.67        32\n",
        "        023       0.56      0.68      0.61        22\n",
        "        024       0.77      0.63      0.70        76\n",
        "        025       0.45      0.48      0.47        83\n",
        "        026       0.59      0.34      0.43        29\n",
        "        027       0.00      0.00      0.00         9\n",
        "        028       0.60      0.62      0.61        63\n",
        "        029       0.62      0.43      0.51        67\n",
        "        030       0.74      0.61      0.67        57\n",
        "        031       0.17      0.09      0.12        11\n",
        "        032       0.45      0.33      0.38        15\n",
        "        033       0.44      0.36      0.40        11\n",
        "        034       0.75      0.30      0.43        20\n",
        "        035       0.36      0.21      0.27        19\n",
        "        036       0.22      0.17      0.19        12\n",
        "        037       0.31      0.44      0.36        25\n",
        "        038       0.30      0.27      0.29        11\n",
        "        039       0.20      0.11      0.14         9\n",
        "        040       0.67      0.29      0.40         7\n",
        "        041       0.45      0.55      0.49        31\n",
        "        042       0.50      0.56      0.53         9\n",
        "        043       0.12      0.17      0.14         6\n",
        "        044       0.14      0.27      0.18        11\n",
        "        045       0.15      0.27      0.19        11\n",
        "        046       0.00      0.00      0.00         5\n",
        "        047       0.36      0.80      0.50         5\n",
        "        048       0.00      0.00      0.00         5\n",
        "        049       0.20      0.22      0.21         9\n",
        "        050       0.38      0.29      0.32        21\n",
        "        051       0.18      0.24      0.20        21\n",
        "        052       0.00      0.00      0.00         5\n",
        "        053       0.33      0.11      0.17         9\n",
        "        054       0.59      0.48      0.53        21\n",
        "        055       0.25      0.27      0.26        15\n",
        "        056       0.35      0.55      0.43        11\n",
        "        057       0.25      0.25      0.25         4\n",
        "        058       0.67      0.50      0.57         4\n",
        "        059       0.20      0.17      0.18         6\n",
        "        060       1.00      0.17      0.29         6\n",
        "        061       0.00      0.00      0.00         4\n",
        "        062       0.00      0.00      0.00         8\n",
        "\n",
        "avg / total       0.51      0.45      0.47      1328\n",
        "\n"
       ]
      }
     ],
     "prompt_number": 12
    },
    {
     "cell_type": "code",
     "collapsed": false,
     "input": [
      "# TODO try an SVM using a quadratic kernel.\n",
      "# TODO print the classification report"
     ],
     "language": "python",
     "metadata": {},
     "outputs": [
      {
       "output_type": "stream",
       "stream": "stdout",
       "text": [
        "             precision    recall  f1-score   support\n",
        "\n",
        "        001       0.30      0.58      0.40        12\n",
        "        002       0.40      0.38      0.39        16\n",
        "        003       0.67      0.50      0.57        16\n",
        "        004       0.71      0.45      0.56        11\n",
        "        005       1.00      0.73      0.84        11\n",
        "        006       0.17      0.10      0.12        10\n",
        "        007       0.50      0.50      0.50        10\n",
        "        008       0.70      0.70      0.70        10\n",
        "        009       0.00      0.00      0.00         3\n",
        "        010       0.38      0.75      0.50         4\n",
        "        011       0.69      0.88      0.78        95\n",
        "        012       0.12      0.24      0.16        17\n",
        "        013       0.53      0.66      0.59        44\n",
        "        014       0.62      0.57      0.60        44\n",
        "        015       0.64      0.79      0.71        73\n",
        "        016       0.50      0.50      0.50        14\n",
        "        017       0.35      0.41      0.38        27\n",
        "        018       0.58      0.42      0.49        45\n",
        "        019       0.51      0.54      0.53        39\n",
        "        020       0.10      0.07      0.08        15\n",
        "        021       0.80      0.52      0.63        23\n",
        "        022       0.76      0.73      0.75        30\n",
        "        023       0.48      0.62      0.54        21\n",
        "        024       0.74      0.74      0.74        69\n",
        "        025       0.48      0.49      0.49        69\n",
        "        026       0.57      0.62      0.59        26\n",
        "        027       0.00      0.00      0.00         8\n",
        "        028       0.59      0.69      0.64        74\n",
        "        029       0.64      0.59      0.62        69\n",
        "        030       0.69      0.68      0.68        59\n",
        "        031       0.33      0.20      0.25        15\n",
        "        032       0.75      0.57      0.65        21\n",
        "        033       0.50      0.42      0.45        12\n",
        "        034       0.42      0.33      0.37        15\n",
        "        035       0.40      0.29      0.33         7\n",
        "        036       0.50      0.33      0.40         9\n",
        "        037       0.44      0.57      0.50        21\n",
        "        038       0.43      0.43      0.43         7\n",
        "        039       0.33      0.25      0.29         8\n",
        "        040       0.78      0.54      0.64        13\n",
        "        041       0.54      0.90      0.68        29\n",
        "        042       0.60      0.50      0.55         6\n",
        "        043       0.50      0.33      0.40         6\n",
        "        044       0.50      0.40      0.44        10\n",
        "        045       0.31      0.36      0.33        14\n",
        "        046       0.00      0.00      0.00         1\n",
        "        047       0.50      0.20      0.29         5\n",
        "        048       0.75      0.43      0.55         7\n",
        "        049       0.40      0.33      0.36         6\n",
        "        050       0.48      0.57      0.52        23\n",
        "        051       0.15      0.12      0.13        25\n",
        "        052       0.14      0.12      0.13         8\n",
        "        053       0.22      0.29      0.25         7\n",
        "        054       0.77      0.67      0.71        15\n",
        "        055       0.50      0.29      0.36        21\n",
        "        056       0.57      0.40      0.47        10\n",
        "        057       0.33      0.40      0.36         5\n",
        "        058       0.33      0.25      0.29         4\n",
        "        059       0.00      0.00      0.00         8\n",
        "        060       0.33      0.09      0.14        11\n",
        "        061       0.60      0.43      0.50         7\n",
        "        062       0.00      0.00      0.00         8\n",
        "\n",
        "avg / total       0.55      0.55      0.54      1328\n",
        "\n"
       ]
      }
     ],
     "prompt_number": 17
    },
    {
     "cell_type": "code",
     "collapsed": false,
     "input": [
      "# Bonus exercise\n",
      "# Tune the RBF SVM's hyperparameters using grid search. Be sure to hold-out a partition of the data to test the tuned hyperparameters.\n",
      "from sklearn.pipeline import Pipeline\n",
      "from sklearn.grid_search import GridSearchCV\n",
      "\n",
      "pipeline = Pipeline([\n",
      "    ('clf', SVC(kernel='rbf', gamma=0.01, C=100))\n",
      "])\n",
      "parameters = {\n",
      "    'clf__gamma': (0.01, 0.03, 0.1, 0.3, 1),\n",
      "    'clf__C': (0.1, 0.3, 1, 3, 10, 30),\n",
      "}\n",
      "grid_search = GridSearchCV(pipeline, parameters, n_jobs=3, verbose=1, scoring='accuracy')\n",
      "grid_search.fit(X_train, y_train)\n",
      "print 'Best score: %0.3f' % grid_search.best_score_\n",
      "print 'Best parameters set:'\n",
      "best_parameters = grid_search.best_estimator_.get_params()\n",
      "for param_name in sorted(parameters.keys()):\n",
      "    print '\\t%s: %r' % (param_name, best_parameters[param_name])\n",
      "predictions = grid_search.predict(X_test)\n",
      "print classification_report(y_test, predictions)"
     ],
     "language": "python",
     "metadata": {},
     "outputs": [
      {
       "output_type": "stream",
       "stream": "stdout",
       "text": [
        "Fitting 3 folds for each of 30 candidates, totalling 90 fits\n"
       ]
      }
     ],
     "prompt_number": "*"
    }
   ],
   "metadata": {}
  }
 ]
}