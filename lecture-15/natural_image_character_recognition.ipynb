{
 "metadata": {
  "name": "natural_image_character_recognition"
 },
 "nbformat": 3,
 "nbformat_minor": 0,
 "worksheets": [
  {
   "cells": [
    {
     "cell_type": "markdown",
     "metadata": {},
     "source": [
      "# Classifying Characters in Natural Images with Support Vector Machines\n",
      "\n",
      "In this lab we will classify alphanumeric characters in photographs. The Chars74K data set, collected by T. E. de Campos, B. R. Babu and M. Varma for \u201cCharacter Recognition in Natural Images\u201d, contains more than 74,000 images of the digits zero through nine and the characters for both cases of the English alphabet. The following are three examples of images of the lowercase letter \u201cz\u201d. Chars74K can be downloaded from http://www.ee.surrey.ac.uk/CVSSP/demos/chars74k/.  \n",
      "\n",
      "![files/img/8365OS_09_33.png](files/img/8365OS_09_33.png)  \n",
      "\n",
      "Several types of images comprise the collection. We will use 7,705 images of characters that were extracted from photographs of street scenes taken in Bangalore, India. In contrast to MNIST, the images in this portion of Chars74K depict the characters in a variety of fonts, colors, and perturbations.  \n",
      "\n",
      "First we load the images for each of the sixty-two classes and convert them to greyscale using mahotas. As with previous examples, we wrap the script in a main block to support forking additional processes during grid search. Unlike MNIST, the images of Chars74K do not have consistent dimensions, so we will resize them to thirty pixels on a side."
     ]
    },
    {
     "cell_type": "code",
     "collapsed": false,
     "input": [
      "%pylab inline"
     ],
     "language": "python",
     "metadata": {},
     "outputs": []
    },
    {
     "cell_type": "code",
     "collapsed": false,
     "input": [
      "# TODO import os\n",
      "\n",
      "# TODO import numpy as np\n",
      "\n",
      "# TODO import mahotas as mh\n"
     ],
     "language": "python",
     "metadata": {},
     "outputs": []
    },
    {
     "cell_type": "code",
     "collapsed": false,
     "input": [
      "# TODO create empty lists for X and y\n",
      "\n",
      "# We need to navigate through the subdirectories in Bmp/\n",
      "for path, subdirs, files in os.walk('data/English/Img/GoodImg/Bmp/'):\n",
      "    # We will iterate through the files in each subdirectory\n",
      "    for filename in files:\n",
      "        # Create the absolute path to the file\n",
      "        f = os.path.join(path, filename)\n",
      "        # TODO read the image in greyscale using the imread method and as_grey keyword argument from mahotas.\n",
      "        \n",
      "        # If the image is smaller than 30x30 we will discard it. It could be resized instead.\n",
      "        if img.shape[0] <= 30 or img.shape[1] <= 30:\n",
      "            continue\n",
      "        # Otherwise we will resize the image to 30x30.\n",
      "        # TODO resize the image using the imresize method from mahotas.\n",
      "        \n",
      "        # mahotas will somtimes return a larger image to preserve the aspect ratio.\n",
      "        # If this happens, we will resize it again.\n",
      "        if img_resized.shape != (30, 30):\n",
      "            img_resized = mh.imresize(img_resized, (30, 30))\n",
      "        # TODO reshape the image to a vector and append it to X\n",
      "        \n",
      "        # The file names follow the convention img001-00001.png. \n",
      "        # The first three digits are the label. 001 corresponds to 0, 002 corresponds to 1, etc.\n",
      "        target = filename[3:filename.index('-')]\n",
      "        # TODO append the target to y\n",
      "        "
     ],
     "language": "python",
     "metadata": {},
     "outputs": []
    },
    {
     "cell_type": "code",
     "collapsed": false,
     "input": [
      "# TODO convert the list to an array\n",
      "\n",
      "# TODO print the shape of X\n",
      "\n",
      "# TODO reshape X to be 2-dimensional\n",
      "\n",
      "# TODO print the shapes of X and y\n"
     ],
     "language": "python",
     "metadata": {},
     "outputs": []
    },
    {
     "cell_type": "code",
     "collapsed": false,
     "input": [
      "# TODO import train_test_split\n",
      "\n",
      "# TODO create training and test sets.\n",
      "\n",
      "# TODO print the shapes of X_train, X_test, y_train, and y_test\n"
     ],
     "language": "python",
     "metadata": {},
     "outputs": []
    },
    {
     "cell_type": "code",
     "collapsed": false,
     "input": [
      "# Let's try a (collection of) perceptron classifier(s) first.\n",
      "# TODO import Perceptron from linear_model\n",
      "\n",
      "# TODO instantiate a Perceptron\n",
      "\n",
      "# TODO fit the model\n",
      "\n",
      "# TODO make predictions for the test set\n"
     ],
     "language": "python",
     "metadata": {},
     "outputs": []
    },
    {
     "cell_type": "code",
     "collapsed": false,
     "input": [
      "# TODO import classification_report\n",
      "\n",
      "# TODO make predictions for the test set\n",
      "\n",
      "# TODO print the classification report\n"
     ],
     "language": "python",
     "metadata": {},
     "outputs": []
    },
    {
     "cell_type": "code",
     "collapsed": false,
     "input": [
      "# The perceptron's performance is very poor. The classes may not be linearly separable using this feature representation.\n",
      "# We can visualize the first two principal components in 2D.\n",
      "# TODO import PCA from the decomposition module\n",
      "\n",
      "# TODO instantiate a PCA estimator and keep the first two principal components\n",
      "\n",
      "# TODO fit the estimator and transform all of the data\n",
      "\n",
      "# TODO import pyplot as plt\n",
      "\n",
      "# The following will allow us to plot using different colors for the classes\n",
      "d = {}\n",
      "for i, v in enumerate(set(y)):\n",
      "    d[v] = i\n",
      "colors = [d[v] for v in y]\n",
      "# TODO scatter plot the reduced data\n",
      "\n",
      "# While we cannot be certain from this visualization, the classes are probably not linearly separable."
     ],
     "language": "python",
     "metadata": {},
     "outputs": []
    },
    {
     "cell_type": "code",
     "collapsed": false,
     "input": [
      "# Because we suspect that the classes are not linearly separable, let's try a support vector machine with a non-linear kernel.\n",
      "# TODO import the class SVC (support vector classifier) from sklearn.svm\n",
      "\n",
      "# TODO instantiate a SVC. Use a Gaussian (RBF) kernel, set gamma to 0.01, and C to 100.\n",
      "# gamma is a hyperparameter for the RBF kernel. C is a hyperparameter for the regularization term.\n",
      "\n",
      "# TODO fit the classifier\n"
     ],
     "language": "python",
     "metadata": {},
     "outputs": []
    },
    {
     "cell_type": "code",
     "collapsed": false,
     "input": [
      "# TODO make predictions for the test set\n",
      "\n",
      "# TODO print the classification report\n"
     ],
     "language": "python",
     "metadata": {},
     "outputs": []
    },
    {
     "cell_type": "code",
     "collapsed": false,
     "input": [
      "# TODO try an SVM using a quadratic kernel.\n",
      "# TODO print the classification report"
     ],
     "language": "python",
     "metadata": {},
     "outputs": []
    },
    {
     "cell_type": "code",
     "collapsed": false,
     "input": [
      "# Bonus exercise\n",
      "# Tune the RBF SVM's hyperparameters using grid search. Be sure to hold-out a partition of the data to test the tuned hyperparameters."
     ],
     "language": "python",
     "metadata": {},
     "outputs": []
    }
   ],
   "metadata": {}
  }
 ]
}