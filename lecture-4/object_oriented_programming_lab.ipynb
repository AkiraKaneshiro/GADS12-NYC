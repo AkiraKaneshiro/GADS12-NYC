{
 "metadata": {
  "name": "Object-oriented programming review"
 },
 "nbformat": 3,
 "nbformat_minor": 0,
 "worksheets": [
  {
   "cells": [
    {
     "cell_type": "markdown",
     "metadata": {
      "slideshow": {
       "slide_type": "skip"
      }
     },
     "source": "# Object-Oriented Programming\n\n## Terms\n\n* Class\n* Object\n* Instance\n* Subclass\n* Method / function\n* Inheritance\n* Abstraction\n* Hierarchy\n* Model\n* DRY\n* type"
    },
    {
     "cell_type": "markdown",
     "metadata": {
      "slideshow": {
       "slide_type": "slide"
      }
     },
     "source": "## Context\n\n1. Building a system (like a car, a website, a database) is hard, so we break it down into small pieces. \n2. We don't want to redo previous work (**DRY principle**, or the \"don't repeat yourself\" principle)\n\n**Object-oriented programming** (OOP) is a technique to break down problems / systems into smaller pieces and save us time in the process. It is also a way to customize already-implemented pieces of code (sometimes). "
    },
    {
     "cell_type": "markdown",
     "metadata": {
      "slideshow": {
       "slide_type": "slide"
      }
     },
     "source": "## Definitions\n\n* **Class** - a definition or a type. Has variables and methods (it knows things and can do things). \n* **Object** - a specific instance of a class\n\nExample: I describe a class called \"student\", and every student has a \"grade\" and a \"grade level\" and a \"name\". The specific student \"Nina\" is an object. \n\nA **class** is a description, an **object** is a specific version of the description.\n\nWhen you create an **object**, you are **initializing** or **instantiating** a class. That **object** is of **type** class."
    },
    {
     "cell_type": "markdown",
     "metadata": {
      "slideshow": {
       "slide_type": "slide"
      }
     },
     "source": "## Definition\n\n* **Subclass** - a class that **inherits** from another class. It adds things to an already-created class. It is of **type** itself and it's superclass. \n* **Superclass** - the class that a subclass inherits from\n\nA subclass has all the variables and methods from the superclass"
    },
    {
     "cell_type": "markdown",
     "metadata": {
      "slideshow": {
       "slide_type": "slide"
      }
     },
     "source": "## Classes in Python"
    },
    {
     "cell_type": "code",
     "collapsed": false,
     "input": "class Student(object):\n    def __init__(self, name, gpa=4.0):\n        self.name = name\n        self.gpa = gpa\n    \n    def is_on_honor_roll(self):\n        if self.gpa >= 3.0:\n            return True\n        return False",
     "language": "python",
     "metadata": {
      "slideshow": {
       "slide_type": "fragment"
      }
     },
     "outputs": [],
     "prompt_number": 15
    },
    {
     "cell_type": "markdown",
     "metadata": {
      "slideshow": {
       "slide_type": "slide"
      }
     },
     "source": "* In Python, every class is a subclass of the master class **object**\n* By convention, Python class names should be `CamelCase` and method names should be `names_with_underscores_for_spaces`\n* I have \"default arguments\" in my function parameters"
    },
    {
     "cell_type": "code",
     "collapsed": false,
     "input": "student_1 = Student(\"Bob\")\nprint student_1.name\nprint student_1.gpa\nprint student_1.is_on_honor_roll()\nstudent_1.gpa = 2.0\nprint student_1.is_on_honor_roll()",
     "language": "python",
     "metadata": {
      "slideshow": {
       "slide_type": "skip"
      }
     },
     "outputs": [
      {
       "output_type": "stream",
       "stream": "stdout",
       "text": "Bob\n4.0\nTrue\nFalse\n"
      }
     ],
     "prompt_number": 20
    },
    {
     "cell_type": "markdown",
     "metadata": {
      "slideshow": {
       "slide_type": "slide"
      }
     },
     "source": "## Subclasses in Python"
    },
    {
     "cell_type": "code",
     "collapsed": false,
     "input": "class UniversityStudent(Student):\n    def __init__(self, name, university, gpa=4.0):\n        super(UniversityStudent, self).__init__(name, gpa)\n        self.university = university",
     "language": "python",
     "metadata": {
      "slideshow": {
       "slide_type": "fragment"
      }
     },
     "outputs": [],
     "prompt_number": 31
    },
    {
     "cell_type": "code",
     "collapsed": false,
     "input": "student_2 = UniversityStudent(\"Jane\", \"MIT\")\nprint student_2.name\nprint student_2.university\nprint isinstance(student_1, UniversityStudent)\nprint isinstance(student_1, Student)\nprint isinstance(student_2, UniversityStudent)\nprint isinstance(student_2, Student)",
     "language": "python",
     "metadata": {
      "slideshow": {
       "slide_type": "subslide"
      }
     },
     "outputs": [
      {
       "output_type": "stream",
       "stream": "stdout",
       "text": "Jane\nMIT\nFalse\nTrue\nTrue\nTrue\n"
      }
     ],
     "prompt_number": 34
    },
    {
     "cell_type": "code",
     "collapsed": false,
     "input": "# TODO create a new Student who is not on honor roll.\n# student_3 = ",
     "language": "python",
     "metadata": {},
     "outputs": []
    },
    {
     "cell_type": "code",
     "collapsed": false,
     "input": "# TODO create a new UniversityStudent who is on honor roll and who attends NYU.\n# student_4 = ",
     "language": "python",
     "metadata": {},
     "outputs": []
    }
   ],
   "metadata": {}
  }
 ]
}