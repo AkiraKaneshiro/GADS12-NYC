{
 "metadata": {
  "name": "PolynomialRegressionAndRegularization"
 },
 "nbformat": 3,
 "nbformat_minor": 0,
 "worksheets": [
  {
   "cells": [
    {
     "cell_type": "markdown",
     "metadata": {},
     "source": "# Polynomial Regression and Regularization Lab"
    },
    {
     "cell_type": "markdown",
     "metadata": {},
     "source": "Execute this magic command to display plots in-line."
    },
    {
     "cell_type": "code",
     "collapsed": false,
     "input": "%pylab inline",
     "language": "python",
     "metadata": {},
     "outputs": [
      {
       "output_type": "stream",
       "stream": "stdout",
       "text": "\nWelcome to pylab, a matplotlib-based Python environment [backend: module://IPython.zmq.pylab.backend_inline].\nFor more information, type 'help(pylab)'.\n"
      }
     ],
     "prompt_number": 1
    },
    {
     "cell_type": "code",
     "collapsed": false,
     "input": "import numpy as np\nfrom sklearn.linear_model import LinearRegression\nimport matplotlib.pyplot as plt",
     "language": "python",
     "metadata": {},
     "outputs": []
    },
    {
     "cell_type": "markdown",
     "metadata": {},
     "source": "Let's create toy training and testing sets."
    },
    {
     "cell_type": "code",
     "collapsed": false,
     "input": "X_train = [ [2], [4], [5], [8], [10] ]\nX_test = [ [2.5], [3], [7], [9] ]\ny_train = [2, 7, 8, 8.5, 9]\ny_test = [4, 6, 9, 9]",
     "language": "python",
     "metadata": {},
     "outputs": [],
     "prompt_number": 45
    },
    {
     "cell_type": "markdown",
     "metadata": {},
     "source": "## Visualizing the Training Data"
    },
    {
     "cell_type": "code",
     "collapsed": false,
     "input": "plt.scatter(X_train, y_train)",
     "language": "python",
     "metadata": {},
     "outputs": [
      {
       "output_type": "pyout",
       "prompt_number": 8,
       "text": "<matplotlib.collections.PathCollection at 0x2dd0d10>"
      },
      {
       "output_type": "display_data",
       "png": "[encoded data removed]"
      }
     ],
     "prompt_number": 8
    },
    {
     "cell_type": "markdown",
     "metadata": {},
     "source": "## Fitting a Simple Linear Regression Model"
    },
    {
     "cell_type": "markdown",
     "metadata": {},
     "source": "Add the code to instantiate and train (fit) the linear regression model."
    },
    {
     "cell_type": "code",
     "collapsed": false,
     "input": "# TODO you add the code to instantiate and fit the linear regression model\n# regresor = ...\n# regressor.fit(...",
     "language": "python",
     "metadata": {},
     "outputs": [],
     "prompt_number": 134
    },
    {
     "cell_type": "markdown",
     "metadata": {},
     "source": "The folloing will create some points that we can use to visualize the regression hyperlane."
    },
    {
     "cell_type": "code",
     "collapsed": false,
     "input": "hyperplane_x = np.arange(0, 12, 0.1)\nhyperplane_x = hyperplane_x.reshape(hyperplane_x.shape[0], 1)\nhyperplane_y = regressor.predict(hyperplane_x)",
     "language": "python",
     "metadata": {},
     "outputs": [],
     "prompt_number": 135
    },
    {
     "cell_type": "markdown",
     "metadata": {},
     "source": "### Evaluating the Model"
    },
    {
     "cell_type": "markdown",
     "metadata": {},
     "source": "Let's visualize the model. Add the code the scatter plot the training data."
    },
    {
     "cell_type": "code",
     "collapsed": false,
     "input": "# TODO you add the code to scatter plot the training data.\n#plt...\nplt.xlim(0, 11)\nplt.ylim(0, 11)\nplt.plot(hyperplane_x, hyperplane_y)",
     "language": "python",
     "metadata": {},
     "outputs": [
      {
       "output_type": "pyout",
       "prompt_number": 126,
       "text": "[<matplotlib.lines.Line2D at 0x449da50>]"
      },
      {
       "output_type": "display_data",
       "png": "[encoded data removed]"
      }
     ],
     "prompt_number": 126
    },
    {
     "cell_type": "markdown",
     "metadata": {},
     "source": "Now let's calculate r-squared for the model."
    },
    {
     "cell_type": "code",
     "collapsed": false,
     "input": "# TODO you add the code to calculate r-squared\n#regressor.",
     "language": "python",
     "metadata": {},
     "outputs": [],
     "prompt_number": 136
    },
    {
     "cell_type": "markdown",
     "metadata": {},
     "source": "The r-squared score is not bad. That is, ~80% of the variance in the response variable is explained by the model. Let's see if we can improve the r-squared score by using polynomial regression."
    },
    {
     "cell_type": "markdown",
     "metadata": {},
     "source": "## Fitting a Polynomial Regression Model"
    },
    {
     "cell_type": "markdown",
     "metadata": {},
     "source": "First we will add quadratic features. Add the code to instantiate a PolynomialFeatures transformer and add quadratic features. [http://scikit-learn.org/stable/modules/generated/sklearn.preprocessing.PolynomialFeatures.html](http://scikit-learn.org/stable/modules/generated/sklearn.preprocessing.PolynomialFeatures.html). Hint: don't forget to import the class."
    },
    {
     "cell_type": "code",
     "collapsed": false,
     "input": "# TODO you add the code to instantiate a PolynomialFeatures transformer to add quadratic features (degree=2)\n# quadratic_featurizer = ...",
     "language": "python",
     "metadata": {},
     "outputs": [],
     "prompt_number": 128
    },
    {
     "cell_type": "markdown",
     "metadata": {},
     "source": "Now we will transform the training and test features."
    },
    {
     "cell_type": "code",
     "collapsed": false,
     "input": "X_train_quadratic = quadratic_featurizer.fit_transform(X_train)\nX_test_quadratic = quadratic_featurizer.transform(X_test)",
     "language": "python",
     "metadata": {},
     "outputs": [],
     "prompt_number": 129
    },
    {
     "cell_type": "markdown",
     "metadata": {},
     "source": "Now fit another regressor on the expanded features."
    },
    {
     "cell_type": "code",
     "collapsed": false,
     "input": "# TODO you add the code to instantiate and train the quadratic_regressor\n# quadratic_regressor = ...",
     "language": "python",
     "metadata": {},
     "outputs": [],
     "prompt_number": 137
    },
    {
     "cell_type": "markdown",
     "metadata": {},
     "source": "Let's visualize the model."
    },
    {
     "cell_type": "code",
     "collapsed": false,
     "input": "plt.scatter(X_train, y_train)\nplt.xlim(0, 11)\nplt.ylim(0, 11)\nhyperplane_x.shape\nhyperplane_x_quadratic = quadratic_featurizer.transform(hyperplane_x)\nhyperplane_y = quadratic_regressor.predict(hyperplane_x_quadratic)\nplt.plot(hyperplane_x, hyperplane_y)\n",
     "language": "python",
     "metadata": {},
     "outputs": [
      {
       "output_type": "pyout",
       "prompt_number": 132,
       "text": "[<matplotlib.lines.Line2D at 0x7f799ae3a310>]"
      },
      {
       "output_type": "display_data",
       "png": "[encoded data removed]"
      }
     ],
     "prompt_number": 132
    },
    {
     "cell_type": "markdown",
     "metadata": {},
     "source": "Now evaluate the model's performance."
    },
    {
     "cell_type": "code",
     "collapsed": false,
     "input": "# TODO add the code to score the model\n# quadratic_regressor...",
     "language": "python",
     "metadata": {},
     "outputs": []
    },
    {
     "cell_type": "markdown",
     "metadata": {},
     "source": "Adding quadratic terms improved our model's r-squared score! Let's see if adding higher-order polynomial terms will help even more."
    },
    {
     "cell_type": "markdown",
     "metadata": {},
     "source": "### Adding Higher Order Polynomial Features"
    },
    {
     "cell_type": "markdown",
     "metadata": {},
     "source": "Now we will add degree=7 features."
    },
    {
     "cell_type": "code",
     "collapsed": false,
     "input": "degree_7_featurizer = PolynomialFeatures(degree=7)\nX_train_degree_7 = degree_7_featurizer.fit_transform(X_train)\nX_test_degree_7 = degree_7_featurizer.transform(X_test)\nX_train_degree_7",
     "language": "python",
     "metadata": {},
     "outputs": [],
     "prompt_number": 76
    },
    {
     "cell_type": "markdown",
     "metadata": {},
     "source": "Now instantiate and train the model."
    },
    {
     "cell_type": "code",
     "collapsed": false,
     "input": "# TODO you add the code to instantiate and fit the regressor.\n# degree_7_regressor = ...",
     "language": "python",
     "metadata": {},
     "outputs": [],
     "prompt_number": 138
    },
    {
     "cell_type": "markdown",
     "metadata": {},
     "source": "Now evaluate the model."
    },
    {
     "cell_type": "code",
     "collapsed": false,
     "input": "# TODO you add the code to score the model.\n# degree_7_regressor",
     "language": "python",
     "metadata": {},
     "outputs": [],
     "prompt_number": 139
    },
    {
     "cell_type": "markdown",
     "metadata": {},
     "source": "The model's performance on the test set is terrible! What happened? Let's see if visualizing the problem will help.  \n(How can r-squared be negative? In the case of simple linear regression, r-squared is the square of the Pearson product-moment correlation coefficient, or r. For other cases, r-squared is calculated as $ 1 - \\frac{SS_{res}}{SS_{tot}}$; it is not a square, and can be negative. However, a negative r-squared score means that the model is completely inappropriate for the task)."
    },
    {
     "cell_type": "code",
     "collapsed": false,
     "input": "plt.xlim(0, 11)\nplt.ylim(0, 20)\nhyperplane_x_degree_7 = degree_7_featurizer.transform(hyperplane_x)\nhyperplane_y_degree_7 = degree_7_regressor.predict(hyperplane_x_degree_7)\nplt.scatter(X_train, y_train)\nplt.plot(hyperplane_x, hyperplane_y_degree_7)\nplt.scatter(X_test, y_test, marker='x', color='r')",
     "language": "python",
     "metadata": {},
     "outputs": [
      {
       "output_type": "pyout",
       "prompt_number": 110,
       "text": "<matplotlib.collections.PathCollection at 0x7f799a2e73d0>"
      },
      {
       "output_type": "display_data",
       "png": "[encoded data removed]"
      }
     ],
     "prompt_number": 110
    },
    {
     "cell_type": "markdown",
     "metadata": {},
     "source": "The training instances are plotted with dots, and the test instances are plotted with x's. Our model badly over-fits the training data; it predicts the values of the response variable for the training instances exactly, but fails to generalize. Let's add regularization to reduce over-fitting."
    },
    {
     "cell_type": "code",
     "collapsed": false,
     "input": "from sklearn.linear_model import Ridge\nridge_regressor = Ridge(alpha=100)\nridge_regressor.fit(X_train_degree_7, y_train)\nridge_regressor.score(X_test_degree_7, y_test)",
     "language": "python",
     "metadata": {},
     "outputs": [
      {
       "output_type": "pyout",
       "prompt_number": 140,
       "text": "0.74456189550146035"
      }
     ],
     "prompt_number": 140
    },
    {
     "cell_type": "markdown",
     "metadata": {},
     "source": "alpha (in class we used $\\lambda$) is a hyperparameter that controls the strength of the regularization penalty. We added a massive penalty; the new model is better, but it is still outperformed by the quadratic and simple linear regression models."
    },
    {
     "cell_type": "code",
     "collapsed": false,
     "input": "plt.xlim(0, 11)\nplt.ylim(0, 20)\nhyperplane_y_degree_7 = ridge_regressor.predict(hyperplane_x_degree_7)\nplt.scatter(X_train, y_train)\nplt.plot(hyperplane_x, hyperplane_y_degree_7)\nplt.scatter(X_test, y_test, marker='x', color='r')",
     "language": "python",
     "metadata": {},
     "outputs": [
      {
       "output_type": "pyout",
       "prompt_number": 122,
       "text": "<matplotlib.collections.PathCollection at 0x7f799aa5a450>"
      },
      {
       "output_type": "display_data",
       "png": "[encoded data removed]"
      }
     ],
     "prompt_number": 122
    },
    {
     "cell_type": "markdown",
     "metadata": {},
     "source": "Try the LASSO and ElasticNet regressors. Can you create a better model?"
    }
   ],
   "metadata": {}
  }
 ]
}