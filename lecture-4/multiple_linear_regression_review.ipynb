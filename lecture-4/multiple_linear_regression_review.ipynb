{
 "metadata": {
  "name": "multiple_linear_regression_review"
 },
 "nbformat": 3,
 "nbformat_minor": 0,
 "worksheets": [
  {
   "cells": [
    {
     "cell_type": "markdown",
     "metadata": {},
     "source": [
      "# Multiple Linear Regression Review\n",
      "\n",
      "Our goal is to predict the median value of a home in a Boston suburb.\n",
      "\n",
      "Response Variable:\n",
      "\n",
      "MEDV: Median value of owner-occupied homes in $1000's\n",
      "\n",
      "Explanatory Variables:\n",
      "\n",
      "CRIM: per capita crime rate by town \n",
      "ZN: proportion of residential land zoned for lots over 25,000 sq.ft. \n",
      "INDUS: proportion of non-retail business acres per town \n",
      "CHAS: Charles River dummy variable (= 1 if tract bounds river; 0 otherwise) \n",
      "NOX: nitric oxides concentration (parts per 10 million) \n",
      "RM: average number of rooms per dwelling \n",
      "AGE: proportion of owner-occupied units built prior to 1940 \n",
      "...\n"
     ]
    },
    {
     "cell_type": "code",
     "collapsed": false,
     "input": [
      "# TODO import the load_boston() convenience function from the `datasets` module of scikit-learn.\n"
     ],
     "language": "python",
     "metadata": {},
     "outputs": []
    },
    {
     "cell_type": "code",
     "collapsed": false,
     "input": [
      "# load_boston() returns an object containing data (the values of the features for the instances)\n",
      "# and targets (the values of the response variable for the instances)\n"
     ],
     "language": "python",
     "metadata": {},
     "outputs": []
    },
    {
     "cell_type": "code",
     "collapsed": false,
     "input": [
      "# TODO print the `data` and `target` attributes of the `boston` object.\n",
      "# Hint: if you aren't sure what the attributes are called, use the built-in function `dir()` \n",
      "# to print all of the object's attributes and methods.\n"
     ],
     "language": "python",
     "metadata": {},
     "outputs": []
    },
    {
     "cell_type": "code",
     "collapsed": false,
     "input": [
      "# TODO assign the object's data to a variable called X.\n",
      "# TODO assign the object's targets to a variable called y.\n"
     ],
     "language": "python",
     "metadata": {},
     "outputs": []
    },
    {
     "cell_type": "code",
     "collapsed": false,
     "input": [
      "# TODO print the types of X and y.\n"
     ],
     "language": "python",
     "metadata": {},
     "outputs": []
    },
    {
     "cell_type": "code",
     "collapsed": false,
     "input": [
      "# TODO print the shapes of X and y.\n"
     ],
     "language": "python",
     "metadata": {},
     "outputs": []
    },
    {
     "cell_type": "code",
     "collapsed": false,
     "input": [
      "# TODO import the function `train_test_split()` from the `cross_validation` module of scikit-learn.\n"
     ],
     "language": "python",
     "metadata": {},
     "outputs": []
    },
    {
     "cell_type": "code",
     "collapsed": false,
     "input": [
      "# TODO use `train_test_split()` to create separate training and test sets from X and y.\n",
      "# X_train, X_test, y_train, y_test = "
     ],
     "language": "python",
     "metadata": {},
     "outputs": []
    },
    {
     "cell_type": "code",
     "collapsed": false,
     "input": [
      "# TODO print the shapes of the training and test sets for the features and the values of the response variable.\n",
      "# What percent of the total instances were assigned to the test set?\n"
     ],
     "language": "python",
     "metadata": {},
     "outputs": []
    },
    {
     "cell_type": "code",
     "collapsed": false,
     "input": [
      "# TODO import the LinearRegression class from the linear_model module of scikit-learn.\n"
     ],
     "language": "python",
     "metadata": {},
     "outputs": []
    },
    {
     "cell_type": "code",
     "collapsed": false,
     "input": [
      "# TODO create an instance of the LinearRegression class.\n",
      "# regressor = "
     ],
     "language": "python",
     "metadata": {},
     "outputs": []
    },
    {
     "cell_type": "code",
     "collapsed": false,
     "input": [
      "# TODO train the regressor. Recall that an estimator is trained by calling its `fit()` method.\n",
      "# Training the estimator solves, or estimates, the values of its parameters.\n",
      "# Training an instance of LinearRegression means finding the values of the y-intercept and the coefficients of the features.\n",
      "# That is, we are finding the values of the matrix $\\beta$.\n"
     ],
     "language": "python",
     "metadata": {},
     "outputs": []
    },
    {
     "cell_type": "code",
     "collapsed": false,
     "input": [
      "# TODO Evalute the performance of the regressor on the test set.\n",
      "\n",
      "# TODO interpret the score."
     ],
     "language": "python",
     "metadata": {},
     "outputs": []
    },
    {
     "cell_type": "code",
     "collapsed": false,
     "input": [
      "# TODO predict the values of the response variable for the test set.\n",
      "# predictions = "
     ],
     "language": "python",
     "metadata": {},
     "outputs": []
    },
    {
     "cell_type": "code",
     "collapsed": false,
     "input": [
      "# Create a `for` loop to compare each prediction to the true price.\n",
      "# Hint: it is easy to iterate over two collections using the same collection with the built-in function `enumerate()`. \n",
      "# See [https://docs.python.org/2/library/functions.html#enumerate](https://docs.python.org/2/library/functions.html#enumerate)\n"
     ],
     "language": "python",
     "metadata": {},
     "outputs": []
    }
   ],
   "metadata": {}
  }
 ]
}