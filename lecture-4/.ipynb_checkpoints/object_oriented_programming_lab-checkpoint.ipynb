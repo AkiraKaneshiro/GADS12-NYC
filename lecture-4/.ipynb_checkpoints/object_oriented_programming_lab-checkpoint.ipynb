{
 "metadata": {
  "name": "object_oriented_programming_lab"
 },
 "nbformat": 3,
 "nbformat_minor": 0,
 "worksheets": [
  {
   "cells": [
    {
     "cell_type": "markdown",
     "metadata": {
      "slideshow": {
       "slide_type": "skip"
      }
     },
     "source": "# Object-Oriented Programming\n\n## Terms\n\n* Class\n* Object\n* Instance\n* Subclass\n* Method / function\n* Inheritance\n* Abstraction\n* Hierarchy\n* Model\n* DRY\n* type"
    },
    {
     "cell_type": "markdown",
     "metadata": {
      "slideshow": {
       "slide_type": "slide"
      }
     },
     "source": "## Motivation\n\n1. Building a system (like a car, a website, or a database) is hard, so we often break the task into smaller pieces. \n2. We should avoid repeating previous work for two reasons. First, we are lazy. Second, having multiple versions of something in the same system increases the likelihood that we will make a mistake. This is known as the  **DRY principle**, or the \"don't repeat yourself\" principle.\n\n**Object-oriented programming** (OOP) is a paradigm for thinking about how to break systems into smaller pieces."
    },
    {
     "cell_type": "markdown",
     "metadata": {
      "slideshow": {
       "slide_type": "slide"
      }
     },
     "source": "## Definitions\n\n* **Class** - a definition or a type of object.\n* **Object** - a specific instance of a class.\n\nAll objects of the same class have the same set of attributes (properties) and methods (behaviors), though not necessarily the same values.\n\nFor example, every instance of the Student class has a name and a GPA. Particular students, or instances of the student class, may have different names and GPAs.\n\nA **class** is a description, an **object** is a specific version of the description.\n\nWhen you create an **object**, you are **initializing** or **instantiating** a class. That **object**'s **type** is the class.\n\n* **Subclass** - a class that **inherits** from another class. It adds things to an already-created class. It is of **type** itself and it's superclass. \n* **Superclass** - the class that a subclass inherits from\n\nA subclass has all the variables and methods from the superclass"
    },
    {
     "cell_type": "markdown",
     "metadata": {
      "slideshow": {
       "slide_type": "slide"
      }
     },
     "source": "## Classes in Python"
    },
    {
     "cell_type": "code",
     "collapsed": false,
     "input": "class Student(object):\n    def __init__(self, name, gpa=4.0):\n        self.name = name\n        self.gpa = gpa\n    \n    def is_on_honor_roll(self):\n        if self.gpa >= 3.0:\n            return True\n        return False",
     "language": "python",
     "metadata": {
      "slideshow": {
       "slide_type": "fragment"
      }
     },
     "outputs": []
    },
    {
     "cell_type": "markdown",
     "metadata": {
      "slideshow": {
       "slide_type": "slide"
      }
     },
     "source": "* In Python, every class is a subclass of the master class **object**\n* By convention, Python class names should be `CamelCase` and method names should be `names_with_underscores_for_spaces`"
    },
    {
     "cell_type": "code",
     "collapsed": false,
     "input": "student_1 = Student(\"Bob\")\nprint student_1.name\nprint student_1.gpa\nprint student_1.is_on_honor_roll()\nstudent_1.gpa = 2.0\nprint student_1.is_on_honor_roll()",
     "language": "python",
     "metadata": {
      "slideshow": {
       "slide_type": "skip"
      }
     },
     "outputs": []
    },
    {
     "cell_type": "markdown",
     "metadata": {
      "slideshow": {
       "slide_type": "slide"
      }
     },
     "source": "## Subclasses in Python"
    },
    {
     "cell_type": "code",
     "collapsed": false,
     "input": "class UniversityStudent(Student):\n    def __init__(self, name, university, gpa=4.0):\n        super(UniversityStudent, self).__init__(name, gpa)\n        self.university = university",
     "language": "python",
     "metadata": {
      "slideshow": {
       "slide_type": "fragment"
      }
     },
     "outputs": []
    },
    {
     "cell_type": "code",
     "collapsed": false,
     "input": "student_2 = UniversityStudent(\"Jane\", \"MIT\")\nprint student_2.name\nprint student_2.university\nprint isinstance(student_1, UniversityStudent)\nprint isinstance(student_1, Student)\nprint isinstance(student_2, UniversityStudent)\nprint isinstance(student_2, Student)",
     "language": "python",
     "metadata": {
      "slideshow": {
       "slide_type": "subslide"
      }
     },
     "outputs": []
    },
    {
     "cell_type": "code",
     "collapsed": false,
     "input": "# TODO create a new Student who is not on honor roll.\n# student_3 = ",
     "language": "python",
     "metadata": {},
     "outputs": []
    },
    {
     "cell_type": "code",
     "collapsed": false,
     "input": "# TODO create a new UniversityStudent who is on honor roll and who attends NYU.\n# student_4 = ",
     "language": "python",
     "metadata": {},
     "outputs": []
    }
   ],
   "metadata": {}
  }
 ]
}