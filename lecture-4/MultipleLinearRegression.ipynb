{
 "metadata": {
  "name": "MultipleLinearRegression"
 },
 "nbformat": 3,
 "nbformat_minor": 0,
 "worksheets": [
  {
   "cells": [
    {
     "cell_type": "markdown",
     "metadata": {},
     "source": "# Multiple Linear Regression Lab"
    },
    {
     "cell_type": "markdown",
     "metadata": {},
     "source": "Let's complete the pizza price prediction program using sklearn.  \nExecute this magic command to display plots in-line."
    },
    {
     "cell_type": "code",
     "collapsed": false,
     "input": "%pylab inline",
     "language": "python",
     "metadata": {},
     "outputs": [
      {
       "output_type": "stream",
       "stream": "stdout",
       "text": "\nWelcome to pylab, a matplotlib-based Python environment [backend: module://IPython.zmq.pylab.backend_inline].\nFor more information, type 'help(pylab)'.\n"
      }
     ],
     "prompt_number": 1
    },
    {
     "cell_type": "markdown",
     "metadata": {},
     "source": "First import the LinearRegression class."
    },
    {
     "cell_type": "code",
     "collapsed": false,
     "input": "from sklearn.linear_model import LinearRegression",
     "language": "python",
     "metadata": {},
     "outputs": [],
     "prompt_number": 27
    },
    {
     "cell_type": "markdown",
     "metadata": {},
     "source": "The following is the training set:"
    },
    {
     "cell_type": "code",
     "collapsed": false,
     "input": "X_train = [ [6, 2], [8, 1], [10, 0], [14, 2], [18, 0] ]\ny_train = [7, 9, 13, 17.5, 18]",
     "language": "python",
     "metadata": {},
     "outputs": [],
     "prompt_number": 28
    },
    {
     "cell_type": "markdown",
     "metadata": {},
     "source": "Complete the test data. Recall that the test instances included:\n\n* an 8 inch pizza with 2 toppings that cost 11 dollars\n* a 9 inch pizza with no toppings that cost 8.5 dollars\n* an 11\" pizza with 2 toppings that cost 15 dollars\n* a 16\" pizza with 2 toppings that cost 18 dollars\n* a 12\" pizza with no toppings that cost 11 dollars"
    },
    {
     "cell_type": "code",
     "collapsed": false,
     "input": "# TODO add your code\n# X_test = ...\n# y_test = ...",
     "language": "python",
     "metadata": {},
     "outputs": [],
     "prompt_number": 32
    },
    {
     "cell_type": "markdown",
     "metadata": {},
     "source": "Now instantiate a LinearRegression estimator, and train (fit) it."
    },
    {
     "cell_type": "code",
     "collapsed": false,
     "input": "# TODO add your code to instantiate and train the estimator\n# regressor = ...\n# regressor...",
     "language": "python",
     "metadata": {},
     "outputs": [
      {
       "output_type": "pyout",
       "prompt_number": 30,
       "text": "LinearRegression(copy_X=True, fit_intercept=True, normalize=False)"
      }
     ],
     "prompt_number": 30
    },
    {
     "cell_type": "markdown",
     "metadata": {},
     "source": "Now let's evaluate our model's performance on the test set."
    },
    {
     "cell_type": "code",
     "collapsed": false,
     "input": "# TODO evaluate the model on the test set\n# regressor...",
     "language": "python",
     "metadata": {},
     "outputs": []
    },
    {
     "cell_type": "markdown",
     "metadata": {},
     "source": "The r-squared score for the model on the test set is 0.77. Recall that the simple linear regression model's r-squared score was 0.66. Adding another explanatory variable helped to improve our model's performance. This is intuitive; a pizza's price usually depends on its size and number of toppings."
    },
    {
     "cell_type": "markdown",
     "metadata": {},
     "source": "Now let's make some predictions.  \nHow much should an 11\" pizza with two toppings be expected to cost?"
    },
    {
     "cell_type": "code",
     "collapsed": false,
     "input": "regressor.predict([11, 2])",
     "language": "python",
     "metadata": {},
     "outputs": [
      {
       "output_type": "pyout",
       "prompt_number": 25,
       "text": "13.093750000000002"
      }
     ],
     "prompt_number": 25
    },
    {
     "cell_type": "markdown",
     "metadata": {},
     "source": "How much should a 20\" pizza with 4 toppings be expected to cost?"
    },
    {
     "cell_type": "code",
     "collapsed": false,
     "input": "regressor.predict([20, 4])",
     "language": "python",
     "metadata": {},
     "outputs": [
      {
       "output_type": "pyout",
       "prompt_number": 26,
       "text": "22.979166666666664"
      }
     ],
     "prompt_number": 26
    }
   ],
   "metadata": {}
  }
 ]
}