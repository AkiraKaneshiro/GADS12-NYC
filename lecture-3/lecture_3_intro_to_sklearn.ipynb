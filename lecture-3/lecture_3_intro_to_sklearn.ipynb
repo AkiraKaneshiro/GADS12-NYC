{
 "metadata": {
  "name": "lecture_3_intro_to_sklearn"
 },
 "nbformat": 3,
 "nbformat_minor": 0,
 "worksheets": [
  {
   "cells": [
    {
     "cell_type": "markdown",
     "metadata": {},
     "source": "# Intro to scikit-learn"
    },
    {
     "cell_type": "markdown",
     "metadata": {},
     "source": "Recall from the last lecture that we were attempting to predict the prices of pizzas using the following training data:"
    },
    {
     "cell_type": "raw",
     "metadata": {},
     "source": "| Training Instance \t| Diameter, in inches \t| Price, in USD \t|\n|-------------------\t|---------------------\t|---------------\t|\n| 1                 \t| 6                   \t| 7             \t|\n| 2                 \t| 8                   \t| 9             \t|\n| 3                 \t| 10                  \t| 13            \t|\n| 4                 \t| 14                  \t| 17.5          \t|\n| 5                 \t| 18                  \t| 18            \t|"
    },
    {
     "cell_type": "markdown",
     "metadata": {},
     "source": "The following instances comprise our test set."
    },
    {
     "cell_type": "raw",
     "metadata": {},
     "source": "| Testing Instance \t| Diameter, in inches \t| Price, in USD \t|\n|------------------\t|---------------------\t|---------------\t|\n| 1                \t| 8                   \t| 11            \t|\n| 2                \t| 9                   \t| 8.5           \t|\n| 3                \t| 11                  \t| 15            \t|\n| 4                \t| 16                  \t| 18            \t|\n| 5                \t| 12                  \t| 11            \t|"
    },
    {
     "cell_type": "markdown",
     "metadata": {},
     "source": "Let's verify our calculations using scikit-learn."
    },
    {
     "cell_type": "code",
     "collapsed": false,
     "input": "# First we need to create representations of our training and test instances.\n# TODO Let's represent the values of the response variable for the test set using a list.\n# y_train =",
     "language": "python",
     "metadata": {},
     "outputs": [],
     "prompt_number": 2
    },
    {
     "cell_type": "code",
     "collapsed": false,
     "input": "# TODO let's do the same for the test instances.",
     "language": "python",
     "metadata": {},
     "outputs": [],
     "prompt_number": 3
    },
    {
     "cell_type": "code",
     "collapsed": false,
     "input": "# We need to represent the values of the explanatory variable a little differently using a list of lists.\n# X_train = ...",
     "language": "python",
     "metadata": {},
     "outputs": [],
     "prompt_number": 4
    },
    {
     "cell_type": "code",
     "collapsed": false,
     "input": "# TODO let's do the same for the values of the explanatory variable for the test instances.\n# X_test = ...",
     "language": "python",
     "metadata": {},
     "outputs": [],
     "prompt_number": 5
    },
    {
     "cell_type": "code",
     "collapsed": false,
     "input": "# Import the LinearRegression class from the linear_model module",
     "language": "python",
     "metadata": {},
     "outputs": [],
     "prompt_number": 6
    },
    {
     "cell_type": "code",
     "collapsed": false,
     "input": "# Now that we have created representations of the training data, we can train the model.\n# TODO Create an instance of LinearRegression.\n# regressor = ",
     "language": "python",
     "metadata": {},
     "outputs": [],
     "prompt_number": 7
    },
    {
     "cell_type": "code",
     "collapsed": false,
     "input": "# TODO Train (fit) the model",
     "language": "python",
     "metadata": {},
     "outputs": [
      {
       "output_type": "pyout",
       "prompt_number": 8,
       "text": "LinearRegression(copy_X=True, fit_intercept=True, normalize=False)"
      }
     ],
     "prompt_number": 8
    },
    {
     "cell_type": "code",
     "collapsed": false,
     "input": "# TODO Verify that the values of the model parameters, alpha and beta, are the same as what we calculated yesterday",
     "language": "python",
     "metadata": {},
     "outputs": [
      {
       "output_type": "pyout",
       "prompt_number": 14,
       "text": "array([ 0.9762931])"
      }
     ],
     "prompt_number": 14
    },
    {
     "cell_type": "code",
     "collapsed": false,
     "input": "# TODO Make some predictions\n# predictions = ...",
     "language": "python",
     "metadata": {},
     "outputs": [],
     "prompt_number": 9
    },
    {
     "cell_type": "code",
     "collapsed": false,
     "input": "# TODO print each prediction",
     "language": "python",
     "metadata": {},
     "outputs": [
      {
       "output_type": "stream",
       "stream": "stdout",
       "text": "9.77586206897\n10.7521551724\n12.7047413793\n17.5862068966\n13.6810344828\n"
      }
     ],
     "prompt_number": 10
    },
    {
     "cell_type": "code",
     "collapsed": false,
     "input": "# TODO compare the predictions to the true prices.",
     "language": "python",
     "metadata": {},
     "outputs": [
      {
       "output_type": "stream",
       "stream": "stdout",
       "text": "9.77586206897 11\n10.7521551724 8.5\n12.7047413793 15\n17.5862068966 18\n13.6810344828 11\n"
      }
     ],
     "prompt_number": 11
    },
    {
     "cell_type": "code",
     "collapsed": false,
     "input": "# TODO Evaluate the model's performance.",
     "language": "python",
     "metadata": {},
     "outputs": [
      {
       "output_type": "pyout",
       "prompt_number": 12,
       "text": "0.6620052929422553"
      }
     ],
     "prompt_number": 12
    },
    {
     "cell_type": "code",
     "collapsed": false,
     "input": "# TODO Now train and evaluate a model using your homework's data.",
     "language": "python",
     "metadata": {},
     "outputs": [],
     "prompt_number": 15
    },
    {
     "cell_type": "code",
     "collapsed": false,
     "input": "",
     "language": "python",
     "metadata": {},
     "outputs": []
    }
   ],
   "metadata": {}
  }
 ]
}