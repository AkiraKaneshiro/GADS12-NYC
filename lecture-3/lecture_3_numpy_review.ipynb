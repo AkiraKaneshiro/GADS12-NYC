{
 "metadata": {
  "name": "",
  "signature": "sha256:658070ac90519d77c156b4183b2dc51f2f4319cc2d0bd25466f3cddb1c7db686"
 },
 "nbformat": 3,
 "nbformat_minor": 0,
 "worksheets": [
  {
   "cells": [
    {
     "cell_type": "markdown",
     "metadata": {},
     "source": [
      "# NumPy Basics Review"
     ]
    },
    {
     "cell_type": "markdown",
     "metadata": {},
     "source": [
      "Today we will review:\n",
      "\n",
      "* Creating arrays\n",
      "* Indexing and slicing\n",
      "\n",
      "You can find a comprehensive tutorial at http://wiki.scipy.org/Tentative_NumPy_Tutorial"
     ]
    },
    {
     "cell_type": "code",
     "collapsed": false,
     "input": [
      "from numpy import * #Load all the numpy packages"
     ],
     "language": "python",
     "metadata": {},
     "outputs": [],
     "prompt_number": 2
    },
    {
     "cell_type": "markdown",
     "metadata": {},
     "source": [
      "## Note: \"import as\"\n",
      "\n",
      "`import *` loads all submodules and is wasteful when used in production code. We use it here for convenience.\n",
      "\n",
      "Conventionally, `numpy` is imported under the `np` alias.\n",
      "\n",
      "    import numpy as np\n",
      "    \n",
      "And then to specifically call needed methods:\n",
      "\n",
      "![](http://note.io/1juA60F)"
     ]
    },
    {
     "cell_type": "markdown",
     "metadata": {},
     "source": [
      "## Creating arrays\n",
      "\n",
      "The `array` object represents a multidimensional, homogeneous collection of items with a fixed size.\n",
      "\n",
      "A vector is an array with one dimension. That is, it is a single row or column of numbers.\n",
      "A matrix is an array with more than one dimension. We will generally work with two-dimensional matrices. That is, the matrix will have some number of rows and columns. The dimensions of a matrix with 2 rows and 3 columns are 2\u00d73.\n",
      "\n",
      "We will represent vectors and matrices using the `array` object."
     ]
    },
    {
     "cell_type": "code",
     "collapsed": false,
     "input": [
      "# Creating arrays\n",
      "a = zeros(3) # create a one-dimensional array, or a vector, of three zeros.\n",
      "b = ones((2, 3)) # create a matrix of ones with the dimensions 2x3\n",
      "c = arange(0,11,1) # create a vector of integers from 1 through 10.\n",
      "\n",
      "print 'a', a\n",
      "print 'b', b\n",
      "print 'c', c"
     ],
     "language": "python",
     "metadata": {},
     "outputs": [
      {
       "output_type": "stream",
       "stream": "stdout",
       "text": [
        "a [ 0.  0.  0.]\n",
        "b [[ 1.  1.  1.]\n",
        " [ 1.  1.  1.]]\n",
        "c [ 0  1  2  3  4  5  6  7  8  9 10]\n"
       ]
      }
     ],
     "prompt_number": 7
    },
    {
     "cell_type": "markdown",
     "metadata": {},
     "source": [
      "The dimensions of the array can be retrieved with `shape`:"
     ]
    },
    {
     "cell_type": "code",
     "collapsed": false,
     "input": [
      "print a.shape # a is 1-dimensional\n",
      "print b.shape # b is 2-dimensional\n",
      "print c.shape # c is 1-dimensional"
     ],
     "language": "python",
     "metadata": {},
     "outputs": [
      {
       "output_type": "stream",
       "stream": "stdout",
       "text": [
        "(3,)\n",
        "(2, 3)\n",
        "(11,)\n"
       ]
      }
     ],
     "prompt_number": 9
    },
    {
     "cell_type": "code",
     "collapsed": false,
     "input": [
      "# TODO now you create a 1-dimensional array containing five ones\n",
      "# ones = ..."
     ],
     "language": "python",
     "metadata": {},
     "outputs": [
      {
       "metadata": {},
       "output_type": "pyout",
       "prompt_number": 11,
       "text": [
        "array([ 1.,  1.,  1.,  1.,  1.])"
       ]
      }
     ],
     "prompt_number": 11
    },
    {
     "cell_type": "code",
     "collapsed": false,
     "input": [
      "# TODO now you create a matrix of zeros with dimensions 4x5\n",
      "# zeros = ..."
     ],
     "language": "python",
     "metadata": {},
     "outputs": [],
     "prompt_number": 13
    },
    {
     "cell_type": "code",
     "collapsed": false,
     "input": [
      "# TODO now you create an array that contains the integers from 53 to 64, inclusive\n",
      "# ints = "
     ],
     "language": "python",
     "metadata": {},
     "outputs": [],
     "prompt_number": 17
    },
    {
     "cell_type": "code",
     "collapsed": false,
     "input": [
      "# TODO now print the shapes of ones, zeros, and ints"
     ],
     "language": "python",
     "metadata": {},
     "outputs": [],
     "prompt_number": 18
    },
    {
     "cell_type": "markdown",
     "metadata": {},
     "source": [
      "## Array Arithmetic"
     ]
    },
    {
     "cell_type": "code",
     "collapsed": false,
     "input": [
      "# TODO create an array that contains the integers from 0 to 10, inclusive\n",
      "# a = "
     ],
     "language": "python",
     "metadata": {},
     "outputs": [],
     "prompt_number": 24
    },
    {
     "cell_type": "code",
     "collapsed": false,
     "input": [
      "# TODO create an array that contains starts with 0, ends with 1, and uses step of 0.1\n",
      "# b = "
     ],
     "language": "python",
     "metadata": {},
     "outputs": [
      {
       "metadata": {},
       "output_type": "pyout",
       "prompt_number": 25,
       "text": [
        "array([ 0. ,  0.1,  0.2,  0.3,  0.4,  0.5,  0.6,  0.7,  0.8,  0.9,  1. ])"
       ]
      }
     ],
     "prompt_number": 25
    },
    {
     "cell_type": "code",
     "collapsed": false,
     "input": [
      "# TODO subtract b from a"
     ],
     "language": "python",
     "metadata": {},
     "outputs": [
      {
       "metadata": {},
       "output_type": "pyout",
       "prompt_number": 26,
       "text": [
        "array([ 0. ,  0.9,  1.8,  2.7,  3.6,  4.5,  5.4,  6.3,  7.2,  8.1,  9. ])"
       ]
      }
     ],
     "prompt_number": 26
    },
    {
     "cell_type": "code",
     "collapsed": false,
     "input": [
      "# TODO square a"
     ],
     "language": "python",
     "metadata": {},
     "outputs": [
      {
       "metadata": {},
       "output_type": "pyout",
       "prompt_number": 27,
       "text": [
        "array([  0,   1,   4,   9,  16,  25,  36,  49,  64,  81, 100])"
       ]
      }
     ],
     "prompt_number": 27
    },
    {
     "cell_type": "code",
     "collapsed": false,
     "input": [
      "# TODO find the element-wise product of a and b"
     ],
     "language": "python",
     "metadata": {},
     "outputs": [
      {
       "metadata": {},
       "output_type": "pyout",
       "prompt_number": 29,
       "text": [
        "array([  0. ,   0.1,   0.4,   0.9,   1.6,   2.5,   3.6,   4.9,   6.4,\n",
        "         8.1,  10. ])"
       ]
      }
     ],
     "prompt_number": 29
    },
    {
     "cell_type": "markdown",
     "metadata": {},
     "source": [
      "## Indexing, Slicing and Iterating"
     ]
    },
    {
     "cell_type": "code",
     "collapsed": false,
     "input": [
      "# TODO make a slice of the third, fourth, and fifth elements of a\n",
      "# Hint: one-dimensional arrays can be sliced like lists."
     ],
     "language": "python",
     "metadata": {},
     "outputs": [],
     "prompt_number": 33
    },
    {
     "cell_type": "code",
     "collapsed": false,
     "input": [
      "# TODO make a 4x4 matrix of random integers\n",
      "# b = ...\n",
      "b = random.randint(1,100,(4,4))\n",
      "b"
     ],
     "language": "python",
     "metadata": {},
     "outputs": [
      {
       "metadata": {},
       "output_type": "pyout",
       "prompt_number": 38,
       "text": [
        "array([[71, 99, 37, 95],\n",
        "       [20, 55, 36, 29],\n",
        "       [46, 56, 79, 48],\n",
        "       [42, 35, 99, 83]])"
       ]
      }
     ],
     "prompt_number": 38
    },
    {
     "cell_type": "code",
     "collapsed": false,
     "input": [
      "# TODO retrieve the element from the first row of the first column.\n",
      "# Hint: don't forget that everything is zero-indexed!"
     ],
     "language": "python",
     "metadata": {},
     "outputs": [
      {
       "metadata": {},
       "output_type": "pyout",
       "prompt_number": 41,
       "text": [
        "71"
       ]
      }
     ],
     "prompt_number": 41
    },
    {
     "cell_type": "code",
     "collapsed": false,
     "input": [
      "# TODO retrieve the element from the second row of the third column"
     ],
     "language": "python",
     "metadata": {},
     "outputs": []
    },
    {
     "cell_type": "code",
     "collapsed": false,
     "input": [
      "# TODO retrieve the third column\n",
      "# Hint: use the : operator to select everything along a dimension."
     ],
     "language": "python",
     "metadata": {},
     "outputs": [
      {
       "metadata": {},
       "output_type": "pyout",
       "prompt_number": 42,
       "text": [
        "array([37, 36, 79, 99])"
       ]
      }
     ],
     "prompt_number": 42
    },
    {
     "cell_type": "code",
     "collapsed": false,
     "input": [],
     "language": "python",
     "metadata": {},
     "outputs": []
    }
   ],
   "metadata": {}
  }
 ]
}