{
 "metadata": {
  "name": "lab_3_multiple_linear_regression"
 },
 "nbformat": 3,
 "nbformat_minor": 0,
 "worksheets": [
  {
   "cells": [
    {
     "cell_type": "markdown",
     "metadata": {},
     "source": "# Multiple Linear Regression Lab"
    },
    {
     "cell_type": "markdown",
     "metadata": {},
     "source": "In this lab we will regress the price of an apartment on to several explanatory variables. The following instances comprise our training set:"
    },
    {
     "cell_type": "raw",
     "metadata": {},
     "source": "| price \t| size \t| num_bedrooms \t| age \t| city          \t|\n|-------\t|------\t|--------------\t|-----\t|---------------\t|\n| 2500  \t| 500  \t| 1            \t| 1   \t| New York      \t|\n| 2400  \t| 600  \t| 1            \t| 40  \t| San Francisco \t|\n| 900   \t| 800  \t| 2            \t| 2   \t| Chapel Hill   \t|\n| 1700  \t| 400  \t| 0            \t| 10  \t| New York      \t|\n| 2100  \t| 450  \t| 0            \t| 25  \t| New York      \t|\n| 3000  \t| 900  \t| 2            \t| 5   \t| San Francisco \t|\n| 700   \t| 700  \t| 1            \t| 6   \t| Chapel Hill   \t|"
    },
    {
     "cell_type": "markdown",
     "metadata": {},
     "source": "## Representing the Data and One-Hot Encoding"
    },
    {
     "cell_type": "code",
     "collapsed": false,
     "input": "# First, let's create a representation of the values of the response variable. We can simply create a list.\n# TODO create a list of the values of the response variable\n# y = ...",
     "language": "python",
     "metadata": {},
     "outputs": [],
     "prompt_number": 41
    },
    {
     "cell_type": "markdown",
     "metadata": {},
     "source": "Creating `y` was easy. Now let's represent the explanatory variables.\n\nThe `city` explanatory variable is categorical. How can we create a feature to represent it?  \n\n`city` has three possible values in this data set: `New York`, `San Francisco`, and `Chapel Hill`. We could represent each of these states with an integer. That is, we will represent `New York` with 0, `San Francisco` with 1, and `Chapel Hill` with 2. While this approach seems intuitive, it encodes an artificial order to the values of the variable. Cities have no natural order. We don't want to represent `Chapel Hill` as being twice `San Francisco`.\n\nInstead, we will create features using a technique called **one-hot**, or **one-of-k**, encoding. One-hot encoding creates a binary-valued feature for each of the possible values of the variable. That is, instead of representing the `city` explanatory variable with one integer-valued feature, we will represent it with three binary-valued features.\n\n`New York` = [1, 0, 0]\n`San Francisco` = [0, 1, 0]\n`Chapel Hill` = [0, 0, 1]\n\nOne-hot encoding does not encode an artificial order, but does increase the number of features. Later we will discuss why using many features, or high-dimensional feature spaces, can be problematic, and how to mitigate those problems."
    },
    {
     "cell_type": "code",
     "collapsed": false,
     "input": "# One-hot encode the `city` explanatory variable, and create a list of lists to represent the features.\n# The first two training instances have been added for you.\nX_raw = [\n     [500, 1, 1, 1, 0, 0],\n     [600, 1, 4, 0, 1, 0],\n     # TODO encode the other training instances\n]",
     "language": "python",
     "metadata": {},
     "outputs": [],
     "prompt_number": 3
    },
    {
     "cell_type": "code",
     "collapsed": false,
     "input": "# Manually one-hot encoding will become tedious. sklearn can automatically one-hot encode dicts of explanatory variables.\n# Import the DictVectorizer class from the feature_extraction module.\n# http://scikit-learn.org/stable/modules/generated/sklearn.feature_extraction.DictVectorizer.html",
     "language": "python",
     "metadata": {},
     "outputs": [],
     "prompt_number": 42
    },
    {
     "cell_type": "code",
     "collapsed": false,
     "input": "# Assume that your data is provided as a list of dicts.\nX_raw = [\n         {'size': 500, 'num_bedrooms': 1, 'age': 1, 'city': 'New York'},\n         {'size': 600, 'num_bedrooms': 1, 'age': 40, 'city': 'San Francisco'},\n         {'size': 800, 'num_bedrooms': 2, 'age': 2, 'city': 'Chapel Hill'},\n         {'size': 400, 'num_bedrooms': 0, 'age': 10, 'city': 'New York'},\n         {'size': 450, 'num_bedrooms': 0, 'age': 25, 'city': 'New York'},\n         {'size': 900, 'num_bedrooms': 2, 'age': 5, 'city': 'San Francisco'},\n         {'size': 700, 'num_bedrooms': 1, 'age': 6, 'city': 'Chapel Hill'}\n]",
     "language": "python",
     "metadata": {},
     "outputs": [],
     "prompt_number": 5
    },
    {
     "cell_type": "code",
     "collapsed": false,
     "input": "# Instantiate a DictVectorizer",
     "language": "python",
     "metadata": {},
     "outputs": [],
     "prompt_number": 6
    },
    {
     "cell_type": "code",
     "collapsed": false,
     "input": "# DictVectorizer is a Transformer. Transformers implement the methods fit() and transform(). \n# First fit the vectorizer on your explanatory variables so that it can determine the features.",
     "language": "python",
     "metadata": {},
     "outputs": [],
     "prompt_number": 43
    },
    {
     "cell_type": "code",
     "collapsed": false,
     "input": "# Then transform X using the vectorizer to one-hot encode the explanatory variables.",
     "language": "python",
     "metadata": {},
     "outputs": [],
     "prompt_number": 44
    },
    {
     "cell_type": "code",
     "collapsed": false,
     "input": "# Print the features",
     "language": "python",
     "metadata": {},
     "outputs": [],
     "prompt_number": 45
    },
    {
     "cell_type": "code",
     "collapsed": false,
     "input": "# Those look weird. Check X_train's type",
     "language": "python",
     "metadata": {},
     "outputs": [],
     "prompt_number": 46
    },
    {
     "cell_type": "code",
     "collapsed": false,
     "input": "# X_train is a sparse matrix. We will discuss these more later. To get the dense form of a sparse matrix, use the method todense()\n# TODO now print the dense feature matrix.\n# Note that DictVectorizer orders the features arbitrarily.",
     "language": "python",
     "metadata": {},
     "outputs": [],
     "prompt_number": 47
    },
    {
     "cell_type": "markdown",
     "metadata": {},
     "source": "## Training the Model"
    },
    {
     "cell_type": "markdown",
     "metadata": {},
     "source": "Now that we have created representations of the values of the response and explanatory variables for the training instances, let's train a regressor."
    },
    {
     "cell_type": "code",
     "collapsed": false,
     "input": "# Import LinearRegression from the linear_model module",
     "language": "python",
     "metadata": {},
     "outputs": [],
     "prompt_number": 48
    },
    {
     "cell_type": "code",
     "collapsed": false,
     "input": "# Instantiate a LinearRegression regressor",
     "language": "python",
     "metadata": {},
     "outputs": [],
     "prompt_number": 49
    },
    {
     "cell_type": "code",
     "collapsed": false,
     "input": "# Train (fit) the model",
     "language": "python",
     "metadata": {},
     "outputs": [],
     "prompt_number": 50
    },
    {
     "cell_type": "markdown",
     "metadata": {},
     "source": "# Inspecting the Model"
    },
    {
     "cell_type": "code",
     "collapsed": false,
     "input": "# Print the model's parameters. They are attributes of the object. Consult the documentation for their names.",
     "language": "python",
     "metadata": {},
     "outputs": [],
     "prompt_number": 51
    },
    {
     "cell_type": "markdown",
     "metadata": {},
     "source": "## Making Predictions"
    },
    {
     "cell_type": "raw",
     "metadata": {},
     "source": "Assume that you have the following test set.\n\n| price \t| size \t| num_bedrooms \t| age \t| city          \t|\n|-------\t|------\t|--------------\t|-----\t|---------------\t|\n| 2500  \t| 500  \t| 0            \t| 50  \t| New York      \t|\n| 2200  \t| 550  \t| 0            \t| 2   \t| San Francisco \t|\n| 1200  \t| 1000 \t| 2            \t| 12  \t| Chapel Hill   \t|\n| 3300  \t| 850  \t| 2            \t| 10  \t| New York      \t|"
    },
    {
     "cell_type": "code",
     "collapsed": false,
     "input": "# Create a list of the values of the response variable for the test set\n# y_test = ...",
     "language": "python",
     "metadata": {},
     "outputs": [],
     "prompt_number": 17
    },
    {
     "cell_type": "code",
     "collapsed": false,
     "input": "# Create a list of dicts representing the explanatory variables.\n# X_test_raw = ...",
     "language": "python",
     "metadata": {},
     "outputs": [],
     "prompt_number": 52
    },
    {
     "cell_type": "code",
     "collapsed": false,
     "input": "# Now we need to create a feature representation for the test set's explanatory variables.\n# If we instantiate a new DictVectorizer and transform the test set, it might order the features differently than in the training data.\n# This would render the model meaningless.\n# vectorizer has been fit on the training data; all subsequent transformations it makes will have the same order.\n# TODO transform X_test_raw using vectorizer\n# X_test = ...",
     "language": "python",
     "metadata": {},
     "outputs": [],
     "prompt_number": 53
    },
    {
     "cell_type": "code",
     "collapsed": false,
     "input": "# Now print X_test",
     "language": "python",
     "metadata": {},
     "outputs": [
      {
       "output_type": "pyout",
       "prompt_number": 20,
       "text": "matrix([[   50.,     0.,     1.,     0.,     0.,   500.],\n        [    2.,     0.,     0.,     1.,     0.,   550.],\n        [   12.,     1.,     0.,     0.,     2.,  1000.],\n        [   10.,     0.,     1.,     0.,     2.,   850.]])"
      }
     ],
     "prompt_number": 20
    },
    {
     "cell_type": "code",
     "collapsed": false,
     "input": "# TODO print the parameters of the model. Manually predict the price of the first test instance.",
     "language": "python",
     "metadata": {},
     "outputs": [],
     "prompt_number": 35
    },
    {
     "cell_type": "code",
     "collapsed": false,
     "input": "# Let's make some predictions using the trained regressor.\n# TODO predict the value of the response variable for the test instances\n# predictions = ",
     "language": "python",
     "metadata": {},
     "outputs": [],
     "prompt_number": 36
    },
    {
     "cell_type": "code",
     "collapsed": false,
     "input": "# Print each of the predictions on a new line",
     "language": "python",
     "metadata": {},
     "outputs": [
      {
       "output_type": "stream",
       "stream": "stdout",
       "text": "2309.32373619\n1710.98091731\n1436.42450619\n3328.95882156\n"
      }
     ],
     "prompt_number": 37
    },
    {
     "cell_type": "code",
     "collapsed": false,
     "input": "# Print each of the predictions and the corresponding true price on a new line\n# Hint: try the built-in function `enumerate`",
     "language": "python",
     "metadata": {},
     "outputs": [
      {
       "output_type": "stream",
       "stream": "stdout",
       "text": "2309.32373619 2500\n1710.98091731 2200\n1436.42450619 1200\n3328.95882156 3300\n"
      }
     ],
     "prompt_number": 38
    },
    {
     "cell_type": "markdown",
     "metadata": {},
     "source": "## Evaluating the Model"
    },
    {
     "cell_type": "code",
     "collapsed": false,
     "input": "# Now let's measure the model's performance.\n# use the estimator's score method to calculate r-squared.",
     "language": "python",
     "metadata": {},
     "outputs": [
      {
       "output_type": "pyout",
       "prompt_number": 39,
       "text": "0.85299457464922335"
      }
     ],
     "prompt_number": 39
    },
    {
     "cell_type": "code",
     "collapsed": false,
     "input": "# TODO interpret the r-squared score. What does it mean? How well does the model perform?",
     "language": "python",
     "metadata": {},
     "outputs": [],
     "prompt_number": 40
    },
    {
     "cell_type": "markdown",
     "metadata": {},
     "source": "## Improving the Model"
    },
    {
     "cell_type": "code",
     "collapsed": false,
     "input": "# TODO Are all of the explanatory variables useful? \n# Does the model perform better using a subset of the explanatory variables? Try to improve the model's performance by using a subset of the explanatory variables.",
     "language": "python",
     "metadata": {},
     "outputs": []
    },
    {
     "cell_type": "code",
     "collapsed": false,
     "input": "# TODO How does this model compare to a simple linear regression model? Train another model using only one of the explanatory variables.",
     "language": "python",
     "metadata": {},
     "outputs": []
    }
   ],
   "metadata": {}
  }
 ]
}