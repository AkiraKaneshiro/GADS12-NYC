{
 "metadata": {
  "name": "classifier_prototyping"
 },
 "nbformat": 3,
 "nbformat_minor": 0,
 "worksheets": [
  {
   "cells": [
    {
     "cell_type": "code",
     "collapsed": false,
     "input": [
      "# TODO import pandas\n"
     ],
     "language": "python",
     "metadata": {},
     "outputs": []
    },
    {
     "cell_type": "code",
     "collapsed": false,
     "input": [
      "# TODO read lyrics.csv into a DataFrame\n",
      "\n",
      "# TODO what are the columns?\n",
      "\n",
      "# TODO how many rows does it have?\n"
     ],
     "language": "python",
     "metadata": {},
     "outputs": []
    },
    {
     "cell_type": "code",
     "collapsed": false,
     "input": [
      "# TODO assign the 'Artist' column to y and the 'Lyrics' column to X\n"
     ],
     "language": "python",
     "metadata": {},
     "outputs": []
    },
    {
     "cell_type": "code",
     "collapsed": false,
     "input": [
      "# TODO import TfidfVectorizer, LogisticRegression, Pipeline, and cross_val_score\n"
     ],
     "language": "python",
     "metadata": {},
     "outputs": []
    },
    {
     "cell_type": "code",
     "collapsed": false,
     "input": [
      "# TODO create a Pipeline containing a TfidfVectorizer and a logistic regressor\n",
      "\n",
      "# TODO fit and evaluate the model with 3-fold CV\n"
     ],
     "language": "python",
     "metadata": {},
     "outputs": []
    },
    {
     "cell_type": "code",
     "collapsed": false,
     "input": [
      "# TODO import train_test_split\n",
      "\n",
      "# TODO train/test split the dataset\n",
      "\n",
      "# TODO fit the pipeline on the training data\n",
      "\n",
      "# TODO make predictions for the test set\n",
      "\n",
      "# TODO import classification_report\n",
      "\n",
      "# TODO print the classification report\n"
     ],
     "language": "python",
     "metadata": {},
     "outputs": []
    },
    {
     "cell_type": "code",
     "collapsed": false,
     "input": [],
     "language": "python",
     "metadata": {},
     "outputs": []
    }
   ],
   "metadata": {}
  }
 ]
}