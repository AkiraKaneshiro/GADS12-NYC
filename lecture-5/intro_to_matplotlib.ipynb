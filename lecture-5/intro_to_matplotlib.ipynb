{
 "metadata": {
  "name": "",
  "signature": "sha256:fd2db832d448318dfc11fec5f27537ec2493d91e02942598b71073e2a4ae3189"
 },
 "nbformat": 3,
 "nbformat_minor": 0,
 "worksheets": [
  {
   "cells": [
    {
     "cell_type": "markdown",
     "metadata": {},
     "source": [
      "# An Introduction to matplotlib\n",
      "\n",
      "\"matplotlib is a python 2D plotting library which produces publication quality figures in a variety of hardcopy formats and interactive environments across platforms. matplotlib can be used in python scripts, the python and ipython shell (ala MATLAB\u00ae* or Mathematica\u00ae\u2020), web application servers, and six graphical user interface toolkits.\"  \n",
      "\n",
      "\"matplotlib tries to make easy things easy and hard things possible. You can generate plots, histograms, power spectra, bar charts, errorcharts, scatterplots, etc, with just a few lines of code. For a sampling, see the screenshots, thumbnail gallery, and examples directory.\"  \n",
      "\n",
      "See [http://matplotlib.org/examples/index.html](http://matplotlib.org/examples/index.html) for more examples.\n",
      "\n",
      "matplotlib's functionality is exposed through a MATLAB-style API and an object-oriented API. We will mostly use the former in this class."
     ]
    },
    {
     "cell_type": "code",
     "collapsed": false,
     "input": [
      "%pylab inline"
     ],
     "language": "python",
     "metadata": {},
     "outputs": []
    },
    {
     "cell_type": "code",
     "collapsed": false,
     "input": [
      "# TODO import numpy as np\n",
      "\n",
      "# TODO import pandas as pd\n",
      "\n",
      "# TODO import pyplot as plt from matplotlib\n"
     ],
     "language": "python",
     "metadata": {},
     "outputs": []
    },
    {
     "cell_type": "code",
     "collapsed": false,
     "input": [
      "# TODO Let's scatter plot the points (1, 1), (2, 2), (3, 3), (4, 4)\n",
      "# plt.scatter() accepts a list of x coordinates and a list of y coordinates.\n",
      "\n",
      "# TODO now show the plot. The image will be inserted into this document's HTML since we used the magic method %pylab inline.\n",
      "\n",
      "# Ordinarily, the plot will be displayed in an interactive applet that can be used to view and save the plot."
     ],
     "language": "python",
     "metadata": {},
     "outputs": []
    },
    {
     "cell_type": "code",
     "collapsed": false,
     "input": [
      "# Now let's plot a line. Like plt.scatter(), plt.plot() accepts a list of x coordinates and \n",
      "# a list of y coordinates. matplotlib will draw line segments between these points.\n",
      "# TODO plot a line segment between the points (1, 1) and (4, 4)\n"
     ],
     "language": "python",
     "metadata": {},
     "outputs": []
    },
    {
     "cell_type": "code",
     "collapsed": false,
     "input": [
      "# The ranges of the axes can be set using plt.xlim() and plt.ylim().\n",
      "# TODO plot a line segment between the points (1, 2) and (4, 3).\n",
      "# TODO set the ranges of the x and y axes to (0, 5).\n",
      "\n",
      "# TODO show the plot.\n"
     ],
     "language": "python",
     "metadata": {},
     "outputs": []
    },
    {
     "cell_type": "code",
     "collapsed": false,
     "input": [
      "# Let's create a histogram. A histogram is a graphical representation of how data is distributed.\n",
      "num_toppings = [2, 1, 0, 0, 1, 2, 4, 3, 2]\n",
      "plt.hist(num_toppings, 5)\n",
      "plt.show()\n",
      "# TODO now change the histogram to use two bins instead of five.\n",
      "# plt.\n",
      "# TODO add a title\n",
      "# plt.title(\n",
      "# TODO add labels for the x and y axes\n",
      "# plt.xlabel("
     ],
     "language": "python",
     "metadata": {},
     "outputs": []
    },
    {
     "cell_type": "code",
     "collapsed": false,
     "input": [
      "# TODO load `apartment_prices.csv` into a DataFrame.\n",
      "# df = "
     ],
     "language": "python",
     "metadata": {},
     "outputs": []
    },
    {
     "cell_type": "code",
     "collapsed": false,
     "input": [
      "# TODO inspect the data. Print the DataFrame's columns.\n"
     ],
     "language": "python",
     "metadata": {},
     "outputs": []
    },
    {
     "cell_type": "code",
     "collapsed": false,
     "input": [
      "# TODO let's make a scatter plot with the sizes of apartments in New York on the x axis and the corresponding prices on the y axis.\n",
      "# Hint: Select only the rows from the `size` and `price` columns where `city` is equal to 'New York'.\n",
      "# X = \n",
      "# y =\n",
      "# TODO scatter plot X and y\n",
      "\n",
      "# TODO show the plot\n"
     ],
     "language": "python",
     "metadata": {},
     "outputs": []
    },
    {
     "cell_type": "code",
     "collapsed": false,
     "input": [
      "# Let's train and visualize a simple linear regression model.\n",
      "# TODO import LinearRegression from sklearn.linear_model\n",
      "\n",
      "# TODO instantiate a regressor\n",
      "# regressor = "
     ],
     "language": "python",
     "metadata": {},
     "outputs": []
    },
    {
     "cell_type": "code",
     "collapsed": false,
     "input": [
      "# Let's see if the data we selected from the DataFrame is shaped appropriately.\n",
      "# TODO print the shapes of X and y\n"
     ],
     "language": "python",
     "metadata": {},
     "outputs": []
    },
    {
     "cell_type": "code",
     "collapsed": false,
     "input": [
      "# y can be a vector, but our design matrix, X, must be two-dimensional.\n",
      "# TODO use the reshape() method of ndarrays to set the shape of X to (5, 1).\n",
      "\n",
      "# TODO train the regressor.\n"
     ],
     "language": "python",
     "metadata": {},
     "outputs": []
    },
    {
     "cell_type": "code",
     "collapsed": false,
     "input": [
      "# Let's scatter plot our training data, and plot the model.\n",
      "# There are many ways to plot the model. We will do so by predicting the value of y for many values of x, and connecting the points.\n",
      "# TODO print the minimum and maximum values of X.\n",
      "\n",
      "# np.linspace(start, end, numberOfPoints) can produce an array of points that are evenly spaced between the start and end points.\n",
      "# TODO create 100 points between the minimum and maximum values of X.\n",
      "# xx = \n",
      "# TODO reshape xx so that it has two dimensions, i.e., (xx.shape[0], 1)\n",
      "# xx = \n",
      "# TODO set the ranges of the x and y axes.\n",
      "# plt.\n",
      "# TODO now we need to generate the y values for xx. Predict the value of y for each xx.\n",
      "# yy = \n",
      "# TODO now plot xx and yy\n",
      "\n",
      "# TODO scatter plot the training instances.\n",
      "\n",
      "# TODO show the plot.\n"
     ],
     "language": "python",
     "metadata": {},
     "outputs": []
    },
    {
     "cell_type": "code",
     "collapsed": true,
     "input": [
      "# TODO scatter plot your toy data set, or a few instances from it. \n",
      "\n",
      "# TODO plot your model."
     ],
     "language": "python",
     "metadata": {},
     "outputs": []
    }
   ],
   "metadata": {}
  }
 ]
}