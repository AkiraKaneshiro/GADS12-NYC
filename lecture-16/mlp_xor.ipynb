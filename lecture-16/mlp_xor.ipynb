{
 "metadata": {
  "name": ""
 },
 "nbformat": 3,
 "nbformat_minor": 0,
 "worksheets": [
  {
   "cells": [
    {
     "cell_type": "markdown",
     "metadata": {},
     "source": [
      "# Approximating XOR with a Multilayer Perceptron\n",
      "\n",
      "In this lab we will create a multilayer perceptron that approximates the function XOR."
     ]
    },
    {
     "cell_type": "code",
     "collapsed": false,
     "input": [
      "%pylab inline"
     ],
     "language": "python",
     "metadata": {},
     "outputs": []
    },
    {
     "cell_type": "code",
     "collapsed": false,
     "input": [
      "# We need to create training data\n",
      "y = [0, 1, 1, 0] * 1000\n",
      "X = np.array([[0, 0], [0, 1], [1, 0], [1, 1]] * 1000)\n",
      "# TODO import train_test_split\n",
      "\n",
      "# TODO produce training and test sets\n"
     ],
     "language": "python",
     "metadata": {},
     "outputs": []
    },
    {
     "cell_type": "code",
     "collapsed": false,
     "input": [
      "# TODO import pyploy\n",
      "\n",
      "# TODO Let's visualize the data. Plot the first four instances, and use different markers for the two classes.\n"
     ],
     "language": "python",
     "metadata": {},
     "outputs": []
    },
    {
     "cell_type": "code",
     "collapsed": false,
     "input": [
      "# TODO import MultilayerPerceptronClassifier from the neural_networks module\n",
      "\n",
      "# TODO instantiate a MultilayerPerceptronClassifier. Use the n_hidden keyword argument to create a hidden layer with\n",
      "# two hidden units. Use the logistic activation function, stochastic gradient descent, and set random_state=3.\n",
      "# The input and output layers will be created automatically. \n",
      "\n",
      "# TODO fit the classifier on the training data\n",
      "\n",
      "# TODO print the number of layers and the number of hidden units.\n"
     ],
     "language": "python",
     "metadata": {},
     "outputs": []
    },
    {
     "cell_type": "code",
     "collapsed": false,
     "input": [
      "# TODO make predictions for the test set\n",
      "\n",
      "# TODO print the accuracy on the test set\n",
      "\n",
      "# TODO print some predictions and the corresponding true values\n"
     ],
     "language": "python",
     "metadata": {},
     "outputs": []
    }
   ],
   "metadata": {}
  }
 ]
}