{
 "metadata": {
  "name": ""
 },
 "nbformat": 3,
 "nbformat_minor": 0,
 "worksheets": [
  {
   "cells": [
    {
     "cell_type": "markdown",
     "metadata": {},
     "source": [
      "# Approximating XOR with a Multilayer Perceptron"
     ]
    },
    {
     "cell_type": "code",
     "collapsed": false,
     "input": [
      "%pylab inline"
     ],
     "language": "python",
     "metadata": {},
     "outputs": [
      {
       "output_type": "stream",
       "stream": "stdout",
       "text": [
        "Populating the interactive namespace from numpy and matplotlib\n"
       ]
      },
      {
       "output_type": "stream",
       "stream": "stderr",
       "text": [
        "WARNING: pylab import has clobbered these variables: ['clf']\n",
        "`%pylab --no-import-all` prevents importing * from pylab and numpy\n"
       ]
      }
     ],
     "prompt_number": 5
    },
    {
     "cell_type": "code",
     "collapsed": false,
     "input": [
      "from sklearn.cross_validation import train_test_split\n",
      "from sklearn.neural_network import MultilayerPerceptronClassifier"
     ],
     "language": "python",
     "metadata": {},
     "outputs": [],
     "prompt_number": 6
    },
    {
     "cell_type": "code",
     "collapsed": false,
     "input": [
      "y = [0, 1, 1, 0] * 1000\n",
      "X = np.array([[0, 0], [0, 1], [1, 0], [1, 1]] * 1000)\n",
      "X_train, X_test, y_train, y_test = train_test_split(X, y, random_state=3)"
     ],
     "language": "python",
     "metadata": {},
     "outputs": [],
     "prompt_number": 10
    },
    {
     "cell_type": "code",
     "collapsed": false,
     "input": [
      "import matplotlib.pyplot as plt\n",
      "#plt.scatter(X[:, 0], X[:, 1], c=y)\n",
      "for i, x in enumerate(X[:4]):\n",
      "    if y[i] == 1:\n",
      "        plt.scatter(x[0], x[1], marker='x')\n",
      "    else:\n",
      "        plt.scatter(x[0], x[1], marker='o')"
     ],
     "language": "python",
     "metadata": {},
     "outputs": [
      {
       "metadata": {},
       "output_type": "display_data",
       "png": "[encoded data removed]",
       "text": [
        "<matplotlib.figure.Figure at 0x7f61568a2510>"
       ]
      }
     ],
     "prompt_number": 15
    },
    {
     "cell_type": "code",
     "collapsed": false,
     "input": [
      "clf = MultilayerPerceptronClassifier(n_hidden=[2], \n",
      "                                     activation='logistic', \n",
      "                                     algorithm='sgd', \n",
      "                                     random_state=3)\n",
      "clf.fit(X_train, y_train)"
     ],
     "language": "python",
     "metadata": {},
     "outputs": [
      {
       "metadata": {},
       "output_type": "pyout",
       "prompt_number": 3,
       "text": [
        "MultilayerPerceptronClassifier(activation='logistic', algorithm='sgd',\n",
        "                alpha=1e-05, batch_size=200, learning_rate='constant',\n",
        "                learning_rate_init=0.5, max_iter=200, n_hidden=[2],\n",
        "                power_t=0.5, random_state=3, shuffle=False, tol=1e-05,\n",
        "                verbose=False, warm_start=False)"
       ]
      }
     ],
     "prompt_number": 3
    },
    {
     "cell_type": "code",
     "collapsed": false,
     "input": [
      "print 'Number of layers: %s. Number of outputs: %s' % (clf.n_layers_, clf.n_outputs_)\n",
      "predictions = clf.predict(X_test)\n",
      "print 'Accuracy:', clf.score(X_test, y_test)\n",
      "for i, p in enumerate(predictions[:10]):\n",
      "    print 'True: %s, Predicted: %s' % (y_test[i], p)"
     ],
     "language": "python",
     "metadata": {},
     "outputs": [
      {
       "output_type": "stream",
       "stream": "stdout",
       "text": [
        "Number of layers: 3. Number of outputs: 1\n",
        "Accuracy: 1.0\n",
        "True: 1, Predicted: 1\n",
        "True: 1, Predicted: 1\n",
        "True: 1, Predicted: 1\n",
        "True: 0, Predicted: 0\n",
        "True: 1, Predicted: 1\n",
        "True: 0, Predicted: 0\n",
        "True: 0, Predicted: 0\n",
        "True: 1, Predicted: 1\n",
        "True: 0, Predicted: 0\n",
        "True: 1, Predicted: 1\n"
       ]
      }
     ],
     "prompt_number": 4
    },
    {
     "cell_type": "code",
     "collapsed": false,
     "input": [],
     "language": "python",
     "metadata": {},
     "outputs": []
    }
   ],
   "metadata": {}
  }
 ]
}