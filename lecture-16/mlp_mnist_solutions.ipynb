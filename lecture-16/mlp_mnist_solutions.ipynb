{
 "metadata": {
  "name": ""
 },
 "nbformat": 3,
 "nbformat_minor": 0,
 "worksheets": [
  {
   "cells": [
    {
     "cell_type": "markdown",
     "metadata": {},
     "source": [
      "# Hand-Written Digit Classification with Multilayer Perceptrons\n",
      "\n",
      "![Digits](http://www.heikohoffmann.de/htmlthesis/img679.gif)  \n",
      "\n",
      "In this lab we will build a multilayer perceptron that can classify hand-written digits. The subset of MNIST included with scikit-learn contains 1797 of the 70000 images. Each image is 8x8 pixels in dimension, grayscale, and depicts one of the digits 0 through 9. The digits were written by US high school students and employees of the Census Bureau. The MNIST dataset is a popular benchmark for classifiers; you can examine the performances of different models at [this page](http://yann.lecun.com/exdb/mnist/). (Note that the error rates are expressed as percentages; scikit-learn would report the accuracy for the state-of-the-art neural network as 1.0-0.0023=0.9977). \n",
      "\n",
      "We will build a network with an input layer with 64 units, two hidden layers with 150 and 100 units respectively, and an output layer with one unit for each of the 10 possible classes."
     ]
    },
    {
     "cell_type": "code",
     "collapsed": false,
     "input": [
      "%pylab inline"
     ],
     "language": "python",
     "metadata": {},
     "outputs": [
      {
       "output_type": "stream",
       "stream": "stdout",
       "text": [
        "Populating the interactive namespace from numpy and matplotlib\n"
       ]
      }
     ],
     "prompt_number": 12
    },
    {
     "cell_type": "markdown",
     "metadata": {},
     "source": [
      "First we use the `load_digits` convenience function to load the MNIST dataset. We will fork additional processes during cross validation, which requires execution from a main-protected block in normal Python scripts."
     ]
    },
    {
     "cell_type": "code",
     "collapsed": false,
     "input": [
      "from sklearn.datasets import load_digits\n",
      "digits = load_digits()\n",
      "X = digits.data\n",
      "y = digits.target"
     ],
     "language": "python",
     "metadata": {},
     "outputs": [],
     "prompt_number": 6
    },
    {
     "cell_type": "code",
     "collapsed": false,
     "input": [
      "print X.shape, len(y)"
     ],
     "language": "python",
     "metadata": {},
     "outputs": [
      {
       "output_type": "stream",
       "stream": "stdout",
       "text": [
        "(1797, 64) 1797\n"
       ]
      }
     ],
     "prompt_number": 11
    },
    {
     "cell_type": "markdown",
     "metadata": {},
     "source": [
      "Scaling the features is particularly important for artificial neural networks and will help some learning algorithms to converge more quickly. Next, we create a `Pipeline` that scales the data before fitting a `MultilayerPerceptronClassifier`. This network contains an input layer, a hidden layer with 150 units, a hidden layer with 100 units, and an output layer. We also increased the value of the regularization hyperparameter `alpha`. Finally, we print the accuracies of the three cross validation folds."
     ]
    },
    {
     "cell_type": "code",
     "collapsed": false,
     "input": [
      "from sklearn.pipeline import Pipeline\n",
      "from sklearn.preprocessing import StandardScaler\n",
      "from sklearn.neural_network.multilayer_perceptron import MultilayerPerceptronClassifier\n",
      "pipeline = Pipeline([\n",
      "                     ('ss', StandardScaler()),\n",
      "                     ('mlp', MultilayerPerceptronClassifier(n_hidden=[150, 100], alpha=0.1))\n",
      "])"
     ],
     "language": "python",
     "metadata": {},
     "outputs": [],
     "prompt_number": 7
    },
    {
     "cell_type": "code",
     "collapsed": false,
     "input": [
      "from sklearn.cross_validation import cross_val_score\n",
      "print cross_val_score(pipeline, X, y, n_jobs=-1)"
     ],
     "language": "python",
     "metadata": {},
     "outputs": [
      {
       "output_type": "stream",
       "stream": "stdout",
       "text": [
        "[ 0.95348837  0.95659432  0.94463087]\n"
       ]
      }
     ],
     "prompt_number": 8
    },
    {
     "cell_type": "code",
     "collapsed": false,
     "input": [],
     "language": "python",
     "metadata": {},
     "outputs": []
    }
   ],
   "metadata": {}
  }
 ]
}