{
 "metadata": {
  "name": "logistic_regression_intro"
 },
 "nbformat": 3,
 "nbformat_minor": 0,
 "worksheets": [
  {
   "cells": [
    {
     "cell_type": "markdown",
     "metadata": {},
     "source": [
      "# Introduction to Logistic Regression"
     ]
    },
    {
     "cell_type": "code",
     "collapsed": false,
     "input": [
      "X_train = [\n",
      "         {'plays_fetch': True, 'is_grumpy': True, 'favorite_food': 'dog food'},\n",
      "         {'plays_fetch': True, 'is_grumpy': False, 'favorite_food': 'bacon'},\n",
      "         {'plays_fetch': True, 'is_grumpy': False, 'favorite_food': 'cat food'},\n",
      "         {'plays_fetch': True, 'is_grumpy': False, 'favorite_food': 'cat food'},\n",
      "         {'plays_fetch': False, 'is_grumpy': True, 'favorite_food': 'bacon food'},\n",
      "         {'plays_fetch': False, 'is_grumpy': True, 'favorite_food': 'cat food'},\n",
      "]\n",
      "y_train = [0, 0, 0, 1, 1, 1]\n",
      "X_test = [\n",
      "         {'plays_fetch': True, 'is_grumpy': False, 'favorite_food': 'bacon'},\n",
      "         {'plays_fetch': True, 'is_grumpy': True, 'favorite_food': 'dog food'},\n",
      "         {'plays_fetch': False, 'is_grumpy': True, 'favorite_food': 'cat food'},\n",
      "         {'plays_fetch': True, 'is_grumpy': False, 'favorite_food': 'cat food'},\n",
      "         {'plays_fetch': False, 'is_grumpy': True, 'favorite_food': 'bacon'},\n",
      "]\n",
      "y_test = [0, 0, 1, 1, 1]"
     ],
     "language": "python",
     "metadata": {},
     "outputs": [],
     "prompt_number": 17
    },
    {
     "cell_type": "code",
     "collapsed": false,
     "input": [
      "from sklearn.feature_extraction import DictVectorizer"
     ],
     "language": "python",
     "metadata": {},
     "outputs": [],
     "prompt_number": 18
    },
    {
     "cell_type": "code",
     "collapsed": false,
     "input": [
      "vectorizer = DictVectorizer()\n",
      "X_train_transformed = vectorizer.fit_transform(X_train)\n",
      "print X_train_transformed.todense()\n",
      "X_test_transformed = vectorizer.transform(X_test)\n",
      "print X_test_transformed.todense()\n",
      "print vectorizer.vocabulary_"
     ],
     "language": "python",
     "metadata": {},
     "outputs": [
      {
       "output_type": "stream",
       "stream": "stdout",
       "text": [
        "[[ 0.  0.  0.  1.  1.  1.]\n",
        " [ 1.  0.  0.  0.  0.  1.]\n",
        " [ 0.  0.  1.  0.  0.  1.]\n",
        " [ 0.  0.  1.  0.  0.  1.]\n",
        " [ 0.  1.  0.  0.  1.  0.]\n",
        " [ 0.  0.  1.  0.  1.  0.]]\n",
        "[[ 1.  0.  0.  0.  0.  1.]\n",
        " [ 0.  0.  0.  1.  1.  1.]\n",
        " [ 0.  0.  1.  0.  1.  0.]\n",
        " [ 0.  0.  1.  0.  0.  1.]\n",
        " [ 1.  0.  0.  0.  1.  0.]]\n",
        "{'favorite_food=cat food': 2, 'favorite_food=bacon': 0, 'favorite_food=dog food': 3, 'plays_fetch': 5, 'is_grumpy': 4, 'favorite_food=bacon food': 1}\n"
       ]
      }
     ],
     "prompt_number": 22
    },
    {
     "cell_type": "code",
     "collapsed": false,
     "input": [
      "from sklearn.linear_model import LogisticRegression\n",
      "classifier = LogisticRegression()\n",
      "classifier.fit(X_train_transformed, y_train)\n",
      "print classifier.score(X_test_transformed, y_test)\n",
      "print classifier.coef_\n",
      "print classifier.intercept_\n",
      "predictions = classifier.predict(X_test_transformed)"
     ],
     "language": "python",
     "metadata": {},
     "outputs": [
      {
       "output_type": "stream",
       "stream": "stdout",
       "text": [
        "0.8\n",
        "[[-0.30327147  0.33328676  0.38993779 -0.35704934  0.29710609 -0.59125168]]\n",
        "[ 0.06290374]\n"
       ]
      }
     ],
     "prompt_number": 24
    },
    {
     "cell_type": "code",
     "collapsed": false,
     "input": [
      "for i, p in enumerate(predictions):\n",
      "    print p, y_test[i]"
     ],
     "language": "python",
     "metadata": {},
     "outputs": [
      {
       "output_type": "stream",
       "stream": "stdout",
       "text": [
        "0 0\n",
        "0 0\n",
        "1 1\n",
        "0 1\n",
        "1 1\n"
       ]
      }
     ],
     "prompt_number": 25
    },
    {
     "cell_type": "code",
     "collapsed": false,
     "input": [
      "from sklearn.metrics import recall_score, precision_score, accuracy_score, f1_score, classification_report\n",
      "print accuracy_score(y_test, predictions)\n",
      "print recall_score(y_test, predictions)\n",
      "print precision_score(y_test, predictions)\n",
      "print f1_score(y_test, predictions)\n",
      "print classification_report9)"
     ],
     "language": "python",
     "metadata": {},
     "outputs": [
      {
       "output_type": "stream",
       "stream": "stdout",
       "text": [
        "0.8\n",
        "0.666666666667\n",
        "1.0\n",
        "0.8\n"
       ]
      }
     ],
     "prompt_number": 27
    },
    {
     "cell_type": "code",
     "collapsed": false,
     "input": [],
     "language": "python",
     "metadata": {},
     "outputs": []
    }
   ],
   "metadata": {}
  }
 ]
}